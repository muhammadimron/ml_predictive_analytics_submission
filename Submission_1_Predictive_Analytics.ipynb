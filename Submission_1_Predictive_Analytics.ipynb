{
  "nbformat": 4,
  "nbformat_minor": 0,
  "metadata": {
    "colab": {
      "provenance": []
    },
    "kernelspec": {
      "name": "python3",
      "display_name": "Python 3"
    },
    "language_info": {
      "name": "python"
    }
  },
  "cells": [
    {
      "cell_type": "markdown",
      "source": [
        "# Data Loading"
      ],
      "metadata": {
        "id": "nibYC8ktBi0R"
      }
    },
    {
      "cell_type": "markdown",
      "source": [
        "### Download dataset dari kaggle\n",
        "\n",
        "> Pengambilan dataset dari kaggle dilakukan menggunakan API kaggle. Dataset diunduh dengan menuliskan kode dengan format nama_pembuat/nama_dataset. Setelah pengunduhan dataset berhasil, dataset kemudian di unzip dan siap digunakan.\n",
        "\n",
        "> Pertama-tama, mari install package kaggle terlebih dahulu\n",
        "\n",
        "\n",
        "\n"
      ],
      "metadata": {
        "id": "8oXGGydJByoM"
      }
    },
    {
      "cell_type": "code",
      "execution_count": null,
      "metadata": {
        "colab": {
          "base_uri": "https://localhost:8080/"
        },
        "id": "zFqTwCJB-kNC",
        "outputId": "7ec9de48-097f-46ee-c176-6039cc7828b9"
      },
      "outputs": [
        {
          "output_type": "stream",
          "name": "stdout",
          "text": [
            "Looking in indexes: https://pypi.org/simple, https://us-python.pkg.dev/colab-wheels/public/simple/\n",
            "Requirement already satisfied: kaggle in /usr/local/lib/python3.7/dist-packages (1.5.12)\n",
            "Requirement already satisfied: urllib3 in /usr/local/lib/python3.7/dist-packages (from kaggle) (1.24.3)\n",
            "Requirement already satisfied: six>=1.10 in /usr/local/lib/python3.7/dist-packages (from kaggle) (1.15.0)\n",
            "Requirement already satisfied: requests in /usr/local/lib/python3.7/dist-packages (from kaggle) (2.23.0)\n",
            "Requirement already satisfied: tqdm in /usr/local/lib/python3.7/dist-packages (from kaggle) (4.64.1)\n",
            "Requirement already satisfied: python-slugify in /usr/local/lib/python3.7/dist-packages (from kaggle) (6.1.2)\n",
            "Requirement already satisfied: python-dateutil in /usr/local/lib/python3.7/dist-packages (from kaggle) (2.8.2)\n",
            "Requirement already satisfied: certifi in /usr/local/lib/python3.7/dist-packages (from kaggle) (2022.9.24)\n",
            "Requirement already satisfied: text-unidecode>=1.3 in /usr/local/lib/python3.7/dist-packages (from python-slugify->kaggle) (1.3)\n",
            "Requirement already satisfied: idna<3,>=2.5 in /usr/local/lib/python3.7/dist-packages (from requests->kaggle) (2.10)\n",
            "Requirement already satisfied: chardet<4,>=3.0.2 in /usr/local/lib/python3.7/dist-packages (from requests->kaggle) (3.0.4)\n"
          ]
        }
      ],
      "source": [
        "!pip install kaggle"
      ]
    },
    {
      "cell_type": "code",
      "source": [
        "!mkdir ~/.kaggle"
      ],
      "metadata": {
        "id": "s1MdUiwU_YXD"
      },
      "execution_count": null,
      "outputs": []
    },
    {
      "cell_type": "markdown",
      "source": [
        "> Kemudian mari atur API key kaggle.json"
      ],
      "metadata": {
        "id": "XYHcU4DlUdUd"
      }
    },
    {
      "cell_type": "code",
      "source": [
        "!cp kaggle.json ~/.kaggle/"
      ],
      "metadata": {
        "id": "trXoFrsk_0fB"
      },
      "execution_count": null,
      "outputs": []
    },
    {
      "cell_type": "code",
      "source": [
        "!chmod 600 ~/.kaggle/kaggle.json"
      ],
      "metadata": {
        "id": "EXZEJmNpAFox"
      },
      "execution_count": null,
      "outputs": []
    },
    {
      "cell_type": "markdown",
      "source": [
        "> Setelah itu, mari cari dataset yang diinginkan, dalam hal ini saya memilih dataset dengan keyword pencarian 'car-price'"
      ],
      "metadata": {
        "id": "dSCcQ2P5UoXy"
      }
    },
    {
      "cell_type": "code",
      "source": [
        "!kaggle datasets list -s car-price"
      ],
      "metadata": {
        "colab": {
          "base_uri": "https://localhost:8080/"
        },
        "id": "wYwNvDhbAJ_J",
        "outputId": "15c257b7-467d-49dc-97cb-9866886c07f3"
      },
      "execution_count": null,
      "outputs": [
        {
          "output_type": "stream",
          "name": "stdout",
          "text": [
            "ref                                                 title                                             size  lastUpdated          downloadCount  voteCount  usabilityRating  \n",
            "--------------------------------------------------  -----------------------------------------------  -----  -------------------  -------------  ---------  ---------------  \n",
            "deepcontractor/car-price-prediction-challenge       Car Price Prediction Challenge                   429KB  2022-07-06 11:38:32           2777         96  0.9411765        \n",
            "hellbuoy/car-price-prediction                       Car Price Prediction Multiple Linear Regression   18KB  2019-10-15 16:45:27          36781        407  0.7058824        \n",
            "adhurimquku/ford-car-price-prediction               Ford Car Price Prediction                        174KB  2022-04-11 10:15:03           3186         55  0.9411765        \n",
            "avikasliwal/used-cars-price-prediction              Used Cars Price Prediction                       172KB  2019-06-25 10:26:52          17024        201  0.7941176        \n",
            "harikrishnareddyb/used-car-price-predictions        Used car price predictions                        17MB  2022-04-20 00:33:44           1913         40  1.0              \n",
            "tunguz/used-car-auction-prices                      Used Car Auction Prices                           19MB  2021-05-18 17:49:43           3767         83  1.0              \n",
            "aleksandrglotov/car-prices-poland                   Car Prices Poland                                  2MB  2022-01-20 10:29:27           2847         41  1.0              \n",
            "kukuroo3/used-car-price-dataset-competition-format   used car price dataset (competition format)     136KB  2022-01-30 06:47:40           2710         87  0.7058824        \n",
            "saisaathvik/used-cars-dataset-from-cardekhocom      Used Car Prices in India                           2MB  2021-05-27 12:17:41           2592         47  0.9705882        \n",
            "yashpaloswal/ann-car-sales-price-prediction         ANN - Car Sales Price Prediction                  29KB  2022-09-30 16:48:41           1418         26  0.88235295       \n",
            "vijayaadithyanvg/car-price-predictionused-cars      Car price prediction(used cars)                    4KB  2022-09-20 06:35:39           1006         33  1.0              \n",
            "segunadedipe/nigerian-car-prices                    Nigerian Car Prices                               47KB  2022-09-28 12:28:04            768         27  1.0              \n",
            "adityadesai13/used-car-dataset-ford-and-mercedes    100,000 UK Used Car Data set                       1MB  2020-07-04 11:30:07          26140        642  1.0              \n",
            "CooperUnion/cardataset                              Car Features and MSRP                            103KB  2016-12-21 19:27:34          42610        613  0.7647059        \n",
            "doaaalsenani/usa-cers-dataset                       US Cars Dataset                                   66KB  2020-04-22 14:38:05          22773        312  1.0              \n",
            "austinreese/craigslist-carstrucks-data              Used Cars Dataset                                262MB  2021-05-06 17:14:08          53044       1127  1.0              \n",
            "prondeau/the-car-connection-picture-dataset         60,000+ Images of Cars                           682MB  2020-02-04 19:19:07           4515        135  0.9375           \n",
            "lepchenkov/usedcarscatalog                          Used-cars-catalog                                824KB  2019-12-02 12:02:05           7562        115  1.0              \n",
            "bogof666/shanghai-car-license-plate-auction-price   Shanghai Car License Plate Auction Price           3KB  2019-01-24 03:18:01           1783         58  0.7058824        \n",
            "ersany/car-price-prediction                         Car Price Prediction                              37KB  2021-01-17 22:18:23            583         10  0.7647059        \n"
          ]
        }
      ]
    },
    {
      "cell_type": "markdown",
      "source": [
        "> Pilih salah satu dataset yang muncul dan download dengan format nama_pembuat/nama_dataset"
      ],
      "metadata": {
        "id": "-9YGQfJ4U0Vc"
      }
    },
    {
      "cell_type": "code",
      "source": [
        "!kaggle datasets download aleksandrglotov/car-prices-poland --unzip"
      ],
      "metadata": {
        "colab": {
          "base_uri": "https://localhost:8080/"
        },
        "id": "Be3Re26jA0WN",
        "outputId": "5dcd1cd6-28a3-4df7-ef26-fca9021de875"
      },
      "execution_count": null,
      "outputs": [
        {
          "output_type": "stream",
          "name": "stdout",
          "text": [
            "Downloading car-prices-poland.zip to /content\n",
            "\r  0% 0.00/1.64M [00:00<?, ?B/s]\n",
            "\r100% 1.64M/1.64M [00:00<00:00, 113MB/s]\n"
          ]
        }
      ]
    },
    {
      "cell_type": "markdown",
      "source": [
        "### Import Library & Data Overview"
      ],
      "metadata": {
        "id": "9m-HNelADpqv"
      }
    },
    {
      "cell_type": "code",
      "source": [
        "import numpy as np\n",
        "import matplotlib.pyplot as plt\n",
        "import pandas as pd\n",
        "%matplotlib inline\n",
        "import seaborn as sns\n",
        "\n",
        "from sklearn.decomposition import PCA\n",
        "from sklearn.ensemble import AdaBoostRegressor\n",
        "from sklearn.ensemble import RandomForestRegressor\n",
        "from sklearn.metrics import mean_squared_error\n",
        "from sklearn.model_selection import train_test_split\n",
        "from sklearn.neighbors import KNeighborsRegressor\n",
        "from sklearn.preprocessing import OneHotEncoder\n",
        "from sklearn.preprocessing import StandardScaler"
      ],
      "metadata": {
        "id": "31KrtCR8Bcij"
      },
      "execution_count": null,
      "outputs": []
    },
    {
      "cell_type": "code",
      "source": [
        "cars = pd.read_csv('/content/Car_Prices_Poland_Kaggle.csv')\n",
        "cars.tail()"
      ],
      "metadata": {
        "colab": {
          "base_uri": "https://localhost:8080/",
          "height": 206
        },
        "id": "yVMtyuI2EOAS",
        "outputId": "5f63725c-314a-4e39-ab87-9952a511276c"
      },
      "execution_count": null,
      "outputs": [
        {
          "output_type": "execute_result",
          "data": {
            "text/plain": [
              "        Unnamed: 0   mark  model    generation_name  year  mileage  \\\n",
              "117922      117922  volvo  xc-90  gen-ii-2014-xc-90  2020    40000   \n",
              "117923      117923  volvo  xc-90  gen-ii-2014-xc-90  2017    51000   \n",
              "117924      117924  volvo  xc-90  gen-ii-2014-xc-90  2016    83500   \n",
              "117925      117925  volvo  xc-90  gen-ii-2014-xc-90  2017   174000   \n",
              "117926      117926  volvo  xc-90  gen-ii-2014-xc-90  2016   189020   \n",
              "\n",
              "        vol_engine      fuel              city       province   price  \n",
              "117922        1969    Hybrid          Katowice        Śląskie  222790  \n",
              "117923        1969    Diesel  Chechło Pierwsze        Łódzkie  229900  \n",
              "117924        1969  Gasoline   Pruszcz Gdański      Pomorskie  135000  \n",
              "117925        1969    Diesel            Kalisz  Wielkopolskie  154500  \n",
              "117926        1969  Gasoline            Sionna    Mazowieckie  130000  "
            ],
            "text/html": [
              "\n",
              "  <div id=\"df-c70f79e8-a4fe-423b-94fc-fd9b4244010f\">\n",
              "    <div class=\"colab-df-container\">\n",
              "      <div>\n",
              "<style scoped>\n",
              "    .dataframe tbody tr th:only-of-type {\n",
              "        vertical-align: middle;\n",
              "    }\n",
              "\n",
              "    .dataframe tbody tr th {\n",
              "        vertical-align: top;\n",
              "    }\n",
              "\n",
              "    .dataframe thead th {\n",
              "        text-align: right;\n",
              "    }\n",
              "</style>\n",
              "<table border=\"1\" class=\"dataframe\">\n",
              "  <thead>\n",
              "    <tr style=\"text-align: right;\">\n",
              "      <th></th>\n",
              "      <th>Unnamed: 0</th>\n",
              "      <th>mark</th>\n",
              "      <th>model</th>\n",
              "      <th>generation_name</th>\n",
              "      <th>year</th>\n",
              "      <th>mileage</th>\n",
              "      <th>vol_engine</th>\n",
              "      <th>fuel</th>\n",
              "      <th>city</th>\n",
              "      <th>province</th>\n",
              "      <th>price</th>\n",
              "    </tr>\n",
              "  </thead>\n",
              "  <tbody>\n",
              "    <tr>\n",
              "      <th>117922</th>\n",
              "      <td>117922</td>\n",
              "      <td>volvo</td>\n",
              "      <td>xc-90</td>\n",
              "      <td>gen-ii-2014-xc-90</td>\n",
              "      <td>2020</td>\n",
              "      <td>40000</td>\n",
              "      <td>1969</td>\n",
              "      <td>Hybrid</td>\n",
              "      <td>Katowice</td>\n",
              "      <td>Śląskie</td>\n",
              "      <td>222790</td>\n",
              "    </tr>\n",
              "    <tr>\n",
              "      <th>117923</th>\n",
              "      <td>117923</td>\n",
              "      <td>volvo</td>\n",
              "      <td>xc-90</td>\n",
              "      <td>gen-ii-2014-xc-90</td>\n",
              "      <td>2017</td>\n",
              "      <td>51000</td>\n",
              "      <td>1969</td>\n",
              "      <td>Diesel</td>\n",
              "      <td>Chechło Pierwsze</td>\n",
              "      <td>Łódzkie</td>\n",
              "      <td>229900</td>\n",
              "    </tr>\n",
              "    <tr>\n",
              "      <th>117924</th>\n",
              "      <td>117924</td>\n",
              "      <td>volvo</td>\n",
              "      <td>xc-90</td>\n",
              "      <td>gen-ii-2014-xc-90</td>\n",
              "      <td>2016</td>\n",
              "      <td>83500</td>\n",
              "      <td>1969</td>\n",
              "      <td>Gasoline</td>\n",
              "      <td>Pruszcz Gdański</td>\n",
              "      <td>Pomorskie</td>\n",
              "      <td>135000</td>\n",
              "    </tr>\n",
              "    <tr>\n",
              "      <th>117925</th>\n",
              "      <td>117925</td>\n",
              "      <td>volvo</td>\n",
              "      <td>xc-90</td>\n",
              "      <td>gen-ii-2014-xc-90</td>\n",
              "      <td>2017</td>\n",
              "      <td>174000</td>\n",
              "      <td>1969</td>\n",
              "      <td>Diesel</td>\n",
              "      <td>Kalisz</td>\n",
              "      <td>Wielkopolskie</td>\n",
              "      <td>154500</td>\n",
              "    </tr>\n",
              "    <tr>\n",
              "      <th>117926</th>\n",
              "      <td>117926</td>\n",
              "      <td>volvo</td>\n",
              "      <td>xc-90</td>\n",
              "      <td>gen-ii-2014-xc-90</td>\n",
              "      <td>2016</td>\n",
              "      <td>189020</td>\n",
              "      <td>1969</td>\n",
              "      <td>Gasoline</td>\n",
              "      <td>Sionna</td>\n",
              "      <td>Mazowieckie</td>\n",
              "      <td>130000</td>\n",
              "    </tr>\n",
              "  </tbody>\n",
              "</table>\n",
              "</div>\n",
              "      <button class=\"colab-df-convert\" onclick=\"convertToInteractive('df-c70f79e8-a4fe-423b-94fc-fd9b4244010f')\"\n",
              "              title=\"Convert this dataframe to an interactive table.\"\n",
              "              style=\"display:none;\">\n",
              "        \n",
              "  <svg xmlns=\"http://www.w3.org/2000/svg\" height=\"24px\"viewBox=\"0 0 24 24\"\n",
              "       width=\"24px\">\n",
              "    <path d=\"M0 0h24v24H0V0z\" fill=\"none\"/>\n",
              "    <path d=\"M18.56 5.44l.94 2.06.94-2.06 2.06-.94-2.06-.94-.94-2.06-.94 2.06-2.06.94zm-11 1L8.5 8.5l.94-2.06 2.06-.94-2.06-.94L8.5 2.5l-.94 2.06-2.06.94zm10 10l.94 2.06.94-2.06 2.06-.94-2.06-.94-.94-2.06-.94 2.06-2.06.94z\"/><path d=\"M17.41 7.96l-1.37-1.37c-.4-.4-.92-.59-1.43-.59-.52 0-1.04.2-1.43.59L10.3 9.45l-7.72 7.72c-.78.78-.78 2.05 0 2.83L4 21.41c.39.39.9.59 1.41.59.51 0 1.02-.2 1.41-.59l7.78-7.78 2.81-2.81c.8-.78.8-2.07 0-2.86zM5.41 20L4 18.59l7.72-7.72 1.47 1.35L5.41 20z\"/>\n",
              "  </svg>\n",
              "      </button>\n",
              "      \n",
              "  <style>\n",
              "    .colab-df-container {\n",
              "      display:flex;\n",
              "      flex-wrap:wrap;\n",
              "      gap: 12px;\n",
              "    }\n",
              "\n",
              "    .colab-df-convert {\n",
              "      background-color: #E8F0FE;\n",
              "      border: none;\n",
              "      border-radius: 50%;\n",
              "      cursor: pointer;\n",
              "      display: none;\n",
              "      fill: #1967D2;\n",
              "      height: 32px;\n",
              "      padding: 0 0 0 0;\n",
              "      width: 32px;\n",
              "    }\n",
              "\n",
              "    .colab-df-convert:hover {\n",
              "      background-color: #E2EBFA;\n",
              "      box-shadow: 0px 1px 2px rgba(60, 64, 67, 0.3), 0px 1px 3px 1px rgba(60, 64, 67, 0.15);\n",
              "      fill: #174EA6;\n",
              "    }\n",
              "\n",
              "    [theme=dark] .colab-df-convert {\n",
              "      background-color: #3B4455;\n",
              "      fill: #D2E3FC;\n",
              "    }\n",
              "\n",
              "    [theme=dark] .colab-df-convert:hover {\n",
              "      background-color: #434B5C;\n",
              "      box-shadow: 0px 1px 3px 1px rgba(0, 0, 0, 0.15);\n",
              "      filter: drop-shadow(0px 1px 2px rgba(0, 0, 0, 0.3));\n",
              "      fill: #FFFFFF;\n",
              "    }\n",
              "  </style>\n",
              "\n",
              "      <script>\n",
              "        const buttonEl =\n",
              "          document.querySelector('#df-c70f79e8-a4fe-423b-94fc-fd9b4244010f button.colab-df-convert');\n",
              "        buttonEl.style.display =\n",
              "          google.colab.kernel.accessAllowed ? 'block' : 'none';\n",
              "\n",
              "        async function convertToInteractive(key) {\n",
              "          const element = document.querySelector('#df-c70f79e8-a4fe-423b-94fc-fd9b4244010f');\n",
              "          const dataTable =\n",
              "            await google.colab.kernel.invokeFunction('convertToInteractive',\n",
              "                                                     [key], {});\n",
              "          if (!dataTable) return;\n",
              "\n",
              "          const docLinkHtml = 'Like what you see? Visit the ' +\n",
              "            '<a target=\"_blank\" href=https://colab.research.google.com/notebooks/data_table.ipynb>data table notebook</a>'\n",
              "            + ' to learn more about interactive tables.';\n",
              "          element.innerHTML = '';\n",
              "          dataTable['output_type'] = 'display_data';\n",
              "          await google.colab.output.renderOutput(dataTable, element);\n",
              "          const docLink = document.createElement('div');\n",
              "          docLink.innerHTML = docLinkHtml;\n",
              "          element.appendChild(docLink);\n",
              "        }\n",
              "      </script>\n",
              "    </div>\n",
              "  </div>\n",
              "  "
            ]
          },
          "metadata": {},
          "execution_count": 2
        }
      ]
    },
    {
      "cell_type": "markdown",
      "source": [
        "# Exploratory Data Analysis\n",
        "\n",
        "> Berdasarkan dokumentasi dataset pada website kaggle, dataset ini memiliki column:\n",
        "*   Unnamed:0: kolom kosong dari dataset (sudah default dari dataset asli)\n",
        "*   mark: jenis dari mobil\n",
        "*   model: model dari mobil\n",
        "*   generation_name: generasi mobil\n",
        "*   year: tahun mobil diproduksi\n",
        "*   mileage: jarak tempuh mobil sejak dibeli\n",
        "*   vol_engine: berat mesin mobil\n",
        "*   fuel: bensin yang digunakan mobil\n",
        "*   city: kota mobil diproduksi\n",
        "*   province: provinsi mobil diproduksi\n",
        "*   price: harga dari mobil (target)"
      ],
      "metadata": {
        "id": "RYS7ezc_IMHp"
      }
    },
    {
      "cell_type": "markdown",
      "source": [
        "### Deskripsi Variabel"
      ],
      "metadata": {
        "id": "_rz1knbWNbr4"
      }
    },
    {
      "cell_type": "code",
      "source": [
        "cars.info()"
      ],
      "metadata": {
        "colab": {
          "base_uri": "https://localhost:8080/"
        },
        "id": "kRqbX7RoG8FR",
        "outputId": "ac5fa248-c1d7-46c5-98fa-0d487e541db2"
      },
      "execution_count": null,
      "outputs": [
        {
          "output_type": "stream",
          "name": "stdout",
          "text": [
            "<class 'pandas.core.frame.DataFrame'>\n",
            "RangeIndex: 117927 entries, 0 to 117926\n",
            "Data columns (total 11 columns):\n",
            " #   Column           Non-Null Count   Dtype \n",
            "---  ------           --------------   ----- \n",
            " 0   Unnamed: 0       117927 non-null  int64 \n",
            " 1   mark             117927 non-null  object\n",
            " 2   model            117927 non-null  object\n",
            " 3   generation_name  87842 non-null   object\n",
            " 4   year             117927 non-null  int64 \n",
            " 5   mileage          117927 non-null  int64 \n",
            " 6   vol_engine       117927 non-null  int64 \n",
            " 7   fuel             117927 non-null  object\n",
            " 8   city             117927 non-null  object\n",
            " 9   province         117927 non-null  object\n",
            " 10  price            117927 non-null  int64 \n",
            "dtypes: int64(5), object(6)\n",
            "memory usage: 9.9+ MB\n"
          ]
        }
      ]
    },
    {
      "cell_type": "markdown",
      "source": [
        "Berdasarkan info diatas, terlihat bahwa\n",
        "*   terdapat 6 column bertipe object\n",
        "*   terdapat 5 column numerik bertipe int64\n",
        "\n",
        "\n",
        "\n"
      ],
      "metadata": {
        "id": "m7MTKQ_GRU6w"
      }
    },
    {
      "cell_type": "code",
      "source": [
        "cars.describe()"
      ],
      "metadata": {
        "colab": {
          "base_uri": "https://localhost:8080/",
          "height": 300
        },
        "id": "yuQkniWxShKd",
        "outputId": "619f3a23-ac97-4717-9287-bffc8ea57e43"
      },
      "execution_count": null,
      "outputs": [
        {
          "output_type": "execute_result",
          "data": {
            "text/plain": [
              "          Unnamed: 0           year       mileage     vol_engine         price\n",
              "count  117927.000000  117927.000000  1.179270e+05  117927.000000  1.179270e+05\n",
              "mean    58963.000000    2012.925259  1.409768e+05    1812.057782  7.029988e+04\n",
              "std     34042.736935       5.690135  9.236936e+04     643.613438  8.482458e+04\n",
              "min         0.000000    1945.000000  0.000000e+00       0.000000  5.000000e+02\n",
              "25%     29481.500000    2009.000000  6.700000e+04    1461.000000  2.100000e+04\n",
              "50%     58963.000000    2013.000000  1.462690e+05    1796.000000  4.190000e+04\n",
              "75%     88444.500000    2018.000000  2.030000e+05    1995.000000  8.360000e+04\n",
              "max    117926.000000    2022.000000  2.800000e+06    7600.000000  2.399900e+06"
            ],
            "text/html": [
              "\n",
              "  <div id=\"df-41b054c1-38a1-407b-848c-7d2c259da0fb\">\n",
              "    <div class=\"colab-df-container\">\n",
              "      <div>\n",
              "<style scoped>\n",
              "    .dataframe tbody tr th:only-of-type {\n",
              "        vertical-align: middle;\n",
              "    }\n",
              "\n",
              "    .dataframe tbody tr th {\n",
              "        vertical-align: top;\n",
              "    }\n",
              "\n",
              "    .dataframe thead th {\n",
              "        text-align: right;\n",
              "    }\n",
              "</style>\n",
              "<table border=\"1\" class=\"dataframe\">\n",
              "  <thead>\n",
              "    <tr style=\"text-align: right;\">\n",
              "      <th></th>\n",
              "      <th>Unnamed: 0</th>\n",
              "      <th>year</th>\n",
              "      <th>mileage</th>\n",
              "      <th>vol_engine</th>\n",
              "      <th>price</th>\n",
              "    </tr>\n",
              "  </thead>\n",
              "  <tbody>\n",
              "    <tr>\n",
              "      <th>count</th>\n",
              "      <td>117927.000000</td>\n",
              "      <td>117927.000000</td>\n",
              "      <td>1.179270e+05</td>\n",
              "      <td>117927.000000</td>\n",
              "      <td>1.179270e+05</td>\n",
              "    </tr>\n",
              "    <tr>\n",
              "      <th>mean</th>\n",
              "      <td>58963.000000</td>\n",
              "      <td>2012.925259</td>\n",
              "      <td>1.409768e+05</td>\n",
              "      <td>1812.057782</td>\n",
              "      <td>7.029988e+04</td>\n",
              "    </tr>\n",
              "    <tr>\n",
              "      <th>std</th>\n",
              "      <td>34042.736935</td>\n",
              "      <td>5.690135</td>\n",
              "      <td>9.236936e+04</td>\n",
              "      <td>643.613438</td>\n",
              "      <td>8.482458e+04</td>\n",
              "    </tr>\n",
              "    <tr>\n",
              "      <th>min</th>\n",
              "      <td>0.000000</td>\n",
              "      <td>1945.000000</td>\n",
              "      <td>0.000000e+00</td>\n",
              "      <td>0.000000</td>\n",
              "      <td>5.000000e+02</td>\n",
              "    </tr>\n",
              "    <tr>\n",
              "      <th>25%</th>\n",
              "      <td>29481.500000</td>\n",
              "      <td>2009.000000</td>\n",
              "      <td>6.700000e+04</td>\n",
              "      <td>1461.000000</td>\n",
              "      <td>2.100000e+04</td>\n",
              "    </tr>\n",
              "    <tr>\n",
              "      <th>50%</th>\n",
              "      <td>58963.000000</td>\n",
              "      <td>2013.000000</td>\n",
              "      <td>1.462690e+05</td>\n",
              "      <td>1796.000000</td>\n",
              "      <td>4.190000e+04</td>\n",
              "    </tr>\n",
              "    <tr>\n",
              "      <th>75%</th>\n",
              "      <td>88444.500000</td>\n",
              "      <td>2018.000000</td>\n",
              "      <td>2.030000e+05</td>\n",
              "      <td>1995.000000</td>\n",
              "      <td>8.360000e+04</td>\n",
              "    </tr>\n",
              "    <tr>\n",
              "      <th>max</th>\n",
              "      <td>117926.000000</td>\n",
              "      <td>2022.000000</td>\n",
              "      <td>2.800000e+06</td>\n",
              "      <td>7600.000000</td>\n",
              "      <td>2.399900e+06</td>\n",
              "    </tr>\n",
              "  </tbody>\n",
              "</table>\n",
              "</div>\n",
              "      <button class=\"colab-df-convert\" onclick=\"convertToInteractive('df-41b054c1-38a1-407b-848c-7d2c259da0fb')\"\n",
              "              title=\"Convert this dataframe to an interactive table.\"\n",
              "              style=\"display:none;\">\n",
              "        \n",
              "  <svg xmlns=\"http://www.w3.org/2000/svg\" height=\"24px\"viewBox=\"0 0 24 24\"\n",
              "       width=\"24px\">\n",
              "    <path d=\"M0 0h24v24H0V0z\" fill=\"none\"/>\n",
              "    <path d=\"M18.56 5.44l.94 2.06.94-2.06 2.06-.94-2.06-.94-.94-2.06-.94 2.06-2.06.94zm-11 1L8.5 8.5l.94-2.06 2.06-.94-2.06-.94L8.5 2.5l-.94 2.06-2.06.94zm10 10l.94 2.06.94-2.06 2.06-.94-2.06-.94-.94-2.06-.94 2.06-2.06.94z\"/><path d=\"M17.41 7.96l-1.37-1.37c-.4-.4-.92-.59-1.43-.59-.52 0-1.04.2-1.43.59L10.3 9.45l-7.72 7.72c-.78.78-.78 2.05 0 2.83L4 21.41c.39.39.9.59 1.41.59.51 0 1.02-.2 1.41-.59l7.78-7.78 2.81-2.81c.8-.78.8-2.07 0-2.86zM5.41 20L4 18.59l7.72-7.72 1.47 1.35L5.41 20z\"/>\n",
              "  </svg>\n",
              "      </button>\n",
              "      \n",
              "  <style>\n",
              "    .colab-df-container {\n",
              "      display:flex;\n",
              "      flex-wrap:wrap;\n",
              "      gap: 12px;\n",
              "    }\n",
              "\n",
              "    .colab-df-convert {\n",
              "      background-color: #E8F0FE;\n",
              "      border: none;\n",
              "      border-radius: 50%;\n",
              "      cursor: pointer;\n",
              "      display: none;\n",
              "      fill: #1967D2;\n",
              "      height: 32px;\n",
              "      padding: 0 0 0 0;\n",
              "      width: 32px;\n",
              "    }\n",
              "\n",
              "    .colab-df-convert:hover {\n",
              "      background-color: #E2EBFA;\n",
              "      box-shadow: 0px 1px 2px rgba(60, 64, 67, 0.3), 0px 1px 3px 1px rgba(60, 64, 67, 0.15);\n",
              "      fill: #174EA6;\n",
              "    }\n",
              "\n",
              "    [theme=dark] .colab-df-convert {\n",
              "      background-color: #3B4455;\n",
              "      fill: #D2E3FC;\n",
              "    }\n",
              "\n",
              "    [theme=dark] .colab-df-convert:hover {\n",
              "      background-color: #434B5C;\n",
              "      box-shadow: 0px 1px 3px 1px rgba(0, 0, 0, 0.15);\n",
              "      filter: drop-shadow(0px 1px 2px rgba(0, 0, 0, 0.3));\n",
              "      fill: #FFFFFF;\n",
              "    }\n",
              "  </style>\n",
              "\n",
              "      <script>\n",
              "        const buttonEl =\n",
              "          document.querySelector('#df-41b054c1-38a1-407b-848c-7d2c259da0fb button.colab-df-convert');\n",
              "        buttonEl.style.display =\n",
              "          google.colab.kernel.accessAllowed ? 'block' : 'none';\n",
              "\n",
              "        async function convertToInteractive(key) {\n",
              "          const element = document.querySelector('#df-41b054c1-38a1-407b-848c-7d2c259da0fb');\n",
              "          const dataTable =\n",
              "            await google.colab.kernel.invokeFunction('convertToInteractive',\n",
              "                                                     [key], {});\n",
              "          if (!dataTable) return;\n",
              "\n",
              "          const docLinkHtml = 'Like what you see? Visit the ' +\n",
              "            '<a target=\"_blank\" href=https://colab.research.google.com/notebooks/data_table.ipynb>data table notebook</a>'\n",
              "            + ' to learn more about interactive tables.';\n",
              "          element.innerHTML = '';\n",
              "          dataTable['output_type'] = 'display_data';\n",
              "          await google.colab.output.renderOutput(dataTable, element);\n",
              "          const docLink = document.createElement('div');\n",
              "          docLink.innerHTML = docLinkHtml;\n",
              "          element.appendChild(docLink);\n",
              "        }\n",
              "      </script>\n",
              "    </div>\n",
              "  </div>\n",
              "  "
            ]
          },
          "metadata": {},
          "execution_count": 4
        }
      ]
    },
    {
      "cell_type": "markdown",
      "source": [
        "### Data Cleaning\n",
        "\n",
        "> Langkah pertama adalah menghapus kolom unnamed: 0, karena kolom tersebut hanyalah kolom kosong, jadi tidak diperlukan\n",
        "\n"
      ],
      "metadata": {
        "id": "WLGrt5SeSyJb"
      }
    },
    {
      "cell_type": "code",
      "source": [
        "cars.drop(columns='Unnamed: 0', inplace=True)\n",
        "cars.head(2)"
      ],
      "metadata": {
        "colab": {
          "base_uri": "https://localhost:8080/",
          "height": 112
        },
        "id": "j9clb1oFTmrm",
        "outputId": "1b56fd19-05f7-4a2a-9d14-2532c300fe95"
      },
      "execution_count": null,
      "outputs": [
        {
          "output_type": "execute_result",
          "data": {
            "text/plain": [
              "   mark  model generation_name  year  mileage  vol_engine    fuel      city  \\\n",
              "0  opel  combo      gen-d-2011  2015   139568        1248  Diesel     Janki   \n",
              "1  opel  combo      gen-d-2011  2018    31991        1499  Diesel  Katowice   \n",
              "\n",
              "      province  price  \n",
              "0  Mazowieckie  35900  \n",
              "1      Śląskie  78501  "
            ],
            "text/html": [
              "\n",
              "  <div id=\"df-90a9ffa2-be75-4855-b063-4c920e13b3a6\">\n",
              "    <div class=\"colab-df-container\">\n",
              "      <div>\n",
              "<style scoped>\n",
              "    .dataframe tbody tr th:only-of-type {\n",
              "        vertical-align: middle;\n",
              "    }\n",
              "\n",
              "    .dataframe tbody tr th {\n",
              "        vertical-align: top;\n",
              "    }\n",
              "\n",
              "    .dataframe thead th {\n",
              "        text-align: right;\n",
              "    }\n",
              "</style>\n",
              "<table border=\"1\" class=\"dataframe\">\n",
              "  <thead>\n",
              "    <tr style=\"text-align: right;\">\n",
              "      <th></th>\n",
              "      <th>mark</th>\n",
              "      <th>model</th>\n",
              "      <th>generation_name</th>\n",
              "      <th>year</th>\n",
              "      <th>mileage</th>\n",
              "      <th>vol_engine</th>\n",
              "      <th>fuel</th>\n",
              "      <th>city</th>\n",
              "      <th>province</th>\n",
              "      <th>price</th>\n",
              "    </tr>\n",
              "  </thead>\n",
              "  <tbody>\n",
              "    <tr>\n",
              "      <th>0</th>\n",
              "      <td>opel</td>\n",
              "      <td>combo</td>\n",
              "      <td>gen-d-2011</td>\n",
              "      <td>2015</td>\n",
              "      <td>139568</td>\n",
              "      <td>1248</td>\n",
              "      <td>Diesel</td>\n",
              "      <td>Janki</td>\n",
              "      <td>Mazowieckie</td>\n",
              "      <td>35900</td>\n",
              "    </tr>\n",
              "    <tr>\n",
              "      <th>1</th>\n",
              "      <td>opel</td>\n",
              "      <td>combo</td>\n",
              "      <td>gen-d-2011</td>\n",
              "      <td>2018</td>\n",
              "      <td>31991</td>\n",
              "      <td>1499</td>\n",
              "      <td>Diesel</td>\n",
              "      <td>Katowice</td>\n",
              "      <td>Śląskie</td>\n",
              "      <td>78501</td>\n",
              "    </tr>\n",
              "  </tbody>\n",
              "</table>\n",
              "</div>\n",
              "      <button class=\"colab-df-convert\" onclick=\"convertToInteractive('df-90a9ffa2-be75-4855-b063-4c920e13b3a6')\"\n",
              "              title=\"Convert this dataframe to an interactive table.\"\n",
              "              style=\"display:none;\">\n",
              "        \n",
              "  <svg xmlns=\"http://www.w3.org/2000/svg\" height=\"24px\"viewBox=\"0 0 24 24\"\n",
              "       width=\"24px\">\n",
              "    <path d=\"M0 0h24v24H0V0z\" fill=\"none\"/>\n",
              "    <path d=\"M18.56 5.44l.94 2.06.94-2.06 2.06-.94-2.06-.94-.94-2.06-.94 2.06-2.06.94zm-11 1L8.5 8.5l.94-2.06 2.06-.94-2.06-.94L8.5 2.5l-.94 2.06-2.06.94zm10 10l.94 2.06.94-2.06 2.06-.94-2.06-.94-.94-2.06-.94 2.06-2.06.94z\"/><path d=\"M17.41 7.96l-1.37-1.37c-.4-.4-.92-.59-1.43-.59-.52 0-1.04.2-1.43.59L10.3 9.45l-7.72 7.72c-.78.78-.78 2.05 0 2.83L4 21.41c.39.39.9.59 1.41.59.51 0 1.02-.2 1.41-.59l7.78-7.78 2.81-2.81c.8-.78.8-2.07 0-2.86zM5.41 20L4 18.59l7.72-7.72 1.47 1.35L5.41 20z\"/>\n",
              "  </svg>\n",
              "      </button>\n",
              "      \n",
              "  <style>\n",
              "    .colab-df-container {\n",
              "      display:flex;\n",
              "      flex-wrap:wrap;\n",
              "      gap: 12px;\n",
              "    }\n",
              "\n",
              "    .colab-df-convert {\n",
              "      background-color: #E8F0FE;\n",
              "      border: none;\n",
              "      border-radius: 50%;\n",
              "      cursor: pointer;\n",
              "      display: none;\n",
              "      fill: #1967D2;\n",
              "      height: 32px;\n",
              "      padding: 0 0 0 0;\n",
              "      width: 32px;\n",
              "    }\n",
              "\n",
              "    .colab-df-convert:hover {\n",
              "      background-color: #E2EBFA;\n",
              "      box-shadow: 0px 1px 2px rgba(60, 64, 67, 0.3), 0px 1px 3px 1px rgba(60, 64, 67, 0.15);\n",
              "      fill: #174EA6;\n",
              "    }\n",
              "\n",
              "    [theme=dark] .colab-df-convert {\n",
              "      background-color: #3B4455;\n",
              "      fill: #D2E3FC;\n",
              "    }\n",
              "\n",
              "    [theme=dark] .colab-df-convert:hover {\n",
              "      background-color: #434B5C;\n",
              "      box-shadow: 0px 1px 3px 1px rgba(0, 0, 0, 0.15);\n",
              "      filter: drop-shadow(0px 1px 2px rgba(0, 0, 0, 0.3));\n",
              "      fill: #FFFFFF;\n",
              "    }\n",
              "  </style>\n",
              "\n",
              "      <script>\n",
              "        const buttonEl =\n",
              "          document.querySelector('#df-90a9ffa2-be75-4855-b063-4c920e13b3a6 button.colab-df-convert');\n",
              "        buttonEl.style.display =\n",
              "          google.colab.kernel.accessAllowed ? 'block' : 'none';\n",
              "\n",
              "        async function convertToInteractive(key) {\n",
              "          const element = document.querySelector('#df-90a9ffa2-be75-4855-b063-4c920e13b3a6');\n",
              "          const dataTable =\n",
              "            await google.colab.kernel.invokeFunction('convertToInteractive',\n",
              "                                                     [key], {});\n",
              "          if (!dataTable) return;\n",
              "\n",
              "          const docLinkHtml = 'Like what you see? Visit the ' +\n",
              "            '<a target=\"_blank\" href=https://colab.research.google.com/notebooks/data_table.ipynb>data table notebook</a>'\n",
              "            + ' to learn more about interactive tables.';\n",
              "          element.innerHTML = '';\n",
              "          dataTable['output_type'] = 'display_data';\n",
              "          await google.colab.output.renderOutput(dataTable, element);\n",
              "          const docLink = document.createElement('div');\n",
              "          docLink.innerHTML = docLinkHtml;\n",
              "          element.appendChild(docLink);\n",
              "        }\n",
              "      </script>\n",
              "    </div>\n",
              "  </div>\n",
              "  "
            ]
          },
          "metadata": {},
          "execution_count": 5
        }
      ]
    },
    {
      "cell_type": "markdown",
      "source": [
        "> Berdasarkan info dataset, jumlah generasi_name tidak sama dengan jumlah kolom lain, hal tersebut menunjukkan terdapat missing value"
      ],
      "metadata": {
        "id": "AH32seBAT6cI"
      }
    },
    {
      "cell_type": "code",
      "source": [
        "missing = cars.isnull().sum()\n",
        "missing"
      ],
      "metadata": {
        "colab": {
          "base_uri": "https://localhost:8080/"
        },
        "id": "F_7FcxPwW3TW",
        "outputId": "2c28161e-f9ee-45d8-967a-0be86d8b0e12"
      },
      "execution_count": null,
      "outputs": [
        {
          "output_type": "execute_result",
          "data": {
            "text/plain": [
              "mark                   0\n",
              "model                  0\n",
              "generation_name    30085\n",
              "year                   0\n",
              "mileage                0\n",
              "vol_engine             0\n",
              "fuel                   0\n",
              "city                   0\n",
              "province               0\n",
              "price                  0\n",
              "dtype: int64"
            ]
          },
          "metadata": {},
          "execution_count": 6
        }
      ]
    },
    {
      "cell_type": "markdown",
      "source": [
        "> Daripada harus menangani missing value untuk 30.000 lebih baris hanya pada satu kolom, alangkah lebih baik jika kolom tersebut dihapus saja."
      ],
      "metadata": {
        "id": "NSSvzcCa9PkD"
      }
    },
    {
      "cell_type": "code",
      "source": [
        "cars.drop(columns='generation_name', inplace=True)\n",
        "cars.head(2)"
      ],
      "metadata": {
        "colab": {
          "base_uri": "https://localhost:8080/",
          "height": 112
        },
        "id": "EdQOlXTSUGsG",
        "outputId": "c4d6aeab-e296-470c-de8d-4013b9b507ac"
      },
      "execution_count": null,
      "outputs": [
        {
          "output_type": "execute_result",
          "data": {
            "text/plain": [
              "   mark  model  year  mileage  vol_engine    fuel      city     province  \\\n",
              "0  opel  combo  2015   139568        1248  Diesel     Janki  Mazowieckie   \n",
              "1  opel  combo  2018    31991        1499  Diesel  Katowice      Śląskie   \n",
              "\n",
              "   price  \n",
              "0  35900  \n",
              "1  78501  "
            ],
            "text/html": [
              "\n",
              "  <div id=\"df-0f928724-a718-42ca-9be6-1556f15308ba\">\n",
              "    <div class=\"colab-df-container\">\n",
              "      <div>\n",
              "<style scoped>\n",
              "    .dataframe tbody tr th:only-of-type {\n",
              "        vertical-align: middle;\n",
              "    }\n",
              "\n",
              "    .dataframe tbody tr th {\n",
              "        vertical-align: top;\n",
              "    }\n",
              "\n",
              "    .dataframe thead th {\n",
              "        text-align: right;\n",
              "    }\n",
              "</style>\n",
              "<table border=\"1\" class=\"dataframe\">\n",
              "  <thead>\n",
              "    <tr style=\"text-align: right;\">\n",
              "      <th></th>\n",
              "      <th>mark</th>\n",
              "      <th>model</th>\n",
              "      <th>year</th>\n",
              "      <th>mileage</th>\n",
              "      <th>vol_engine</th>\n",
              "      <th>fuel</th>\n",
              "      <th>city</th>\n",
              "      <th>province</th>\n",
              "      <th>price</th>\n",
              "    </tr>\n",
              "  </thead>\n",
              "  <tbody>\n",
              "    <tr>\n",
              "      <th>0</th>\n",
              "      <td>opel</td>\n",
              "      <td>combo</td>\n",
              "      <td>2015</td>\n",
              "      <td>139568</td>\n",
              "      <td>1248</td>\n",
              "      <td>Diesel</td>\n",
              "      <td>Janki</td>\n",
              "      <td>Mazowieckie</td>\n",
              "      <td>35900</td>\n",
              "    </tr>\n",
              "    <tr>\n",
              "      <th>1</th>\n",
              "      <td>opel</td>\n",
              "      <td>combo</td>\n",
              "      <td>2018</td>\n",
              "      <td>31991</td>\n",
              "      <td>1499</td>\n",
              "      <td>Diesel</td>\n",
              "      <td>Katowice</td>\n",
              "      <td>Śląskie</td>\n",
              "      <td>78501</td>\n",
              "    </tr>\n",
              "  </tbody>\n",
              "</table>\n",
              "</div>\n",
              "      <button class=\"colab-df-convert\" onclick=\"convertToInteractive('df-0f928724-a718-42ca-9be6-1556f15308ba')\"\n",
              "              title=\"Convert this dataframe to an interactive table.\"\n",
              "              style=\"display:none;\">\n",
              "        \n",
              "  <svg xmlns=\"http://www.w3.org/2000/svg\" height=\"24px\"viewBox=\"0 0 24 24\"\n",
              "       width=\"24px\">\n",
              "    <path d=\"M0 0h24v24H0V0z\" fill=\"none\"/>\n",
              "    <path d=\"M18.56 5.44l.94 2.06.94-2.06 2.06-.94-2.06-.94-.94-2.06-.94 2.06-2.06.94zm-11 1L8.5 8.5l.94-2.06 2.06-.94-2.06-.94L8.5 2.5l-.94 2.06-2.06.94zm10 10l.94 2.06.94-2.06 2.06-.94-2.06-.94-.94-2.06-.94 2.06-2.06.94z\"/><path d=\"M17.41 7.96l-1.37-1.37c-.4-.4-.92-.59-1.43-.59-.52 0-1.04.2-1.43.59L10.3 9.45l-7.72 7.72c-.78.78-.78 2.05 0 2.83L4 21.41c.39.39.9.59 1.41.59.51 0 1.02-.2 1.41-.59l7.78-7.78 2.81-2.81c.8-.78.8-2.07 0-2.86zM5.41 20L4 18.59l7.72-7.72 1.47 1.35L5.41 20z\"/>\n",
              "  </svg>\n",
              "      </button>\n",
              "      \n",
              "  <style>\n",
              "    .colab-df-container {\n",
              "      display:flex;\n",
              "      flex-wrap:wrap;\n",
              "      gap: 12px;\n",
              "    }\n",
              "\n",
              "    .colab-df-convert {\n",
              "      background-color: #E8F0FE;\n",
              "      border: none;\n",
              "      border-radius: 50%;\n",
              "      cursor: pointer;\n",
              "      display: none;\n",
              "      fill: #1967D2;\n",
              "      height: 32px;\n",
              "      padding: 0 0 0 0;\n",
              "      width: 32px;\n",
              "    }\n",
              "\n",
              "    .colab-df-convert:hover {\n",
              "      background-color: #E2EBFA;\n",
              "      box-shadow: 0px 1px 2px rgba(60, 64, 67, 0.3), 0px 1px 3px 1px rgba(60, 64, 67, 0.15);\n",
              "      fill: #174EA6;\n",
              "    }\n",
              "\n",
              "    [theme=dark] .colab-df-convert {\n",
              "      background-color: #3B4455;\n",
              "      fill: #D2E3FC;\n",
              "    }\n",
              "\n",
              "    [theme=dark] .colab-df-convert:hover {\n",
              "      background-color: #434B5C;\n",
              "      box-shadow: 0px 1px 3px 1px rgba(0, 0, 0, 0.15);\n",
              "      filter: drop-shadow(0px 1px 2px rgba(0, 0, 0, 0.3));\n",
              "      fill: #FFFFFF;\n",
              "    }\n",
              "  </style>\n",
              "\n",
              "      <script>\n",
              "        const buttonEl =\n",
              "          document.querySelector('#df-0f928724-a718-42ca-9be6-1556f15308ba button.colab-df-convert');\n",
              "        buttonEl.style.display =\n",
              "          google.colab.kernel.accessAllowed ? 'block' : 'none';\n",
              "\n",
              "        async function convertToInteractive(key) {\n",
              "          const element = document.querySelector('#df-0f928724-a718-42ca-9be6-1556f15308ba');\n",
              "          const dataTable =\n",
              "            await google.colab.kernel.invokeFunction('convertToInteractive',\n",
              "                                                     [key], {});\n",
              "          if (!dataTable) return;\n",
              "\n",
              "          const docLinkHtml = 'Like what you see? Visit the ' +\n",
              "            '<a target=\"_blank\" href=https://colab.research.google.com/notebooks/data_table.ipynb>data table notebook</a>'\n",
              "            + ' to learn more about interactive tables.';\n",
              "          element.innerHTML = '';\n",
              "          dataTable['output_type'] = 'display_data';\n",
              "          await google.colab.output.renderOutput(dataTable, element);\n",
              "          const docLink = document.createElement('div');\n",
              "          docLink.innerHTML = docLinkHtml;\n",
              "          element.appendChild(docLink);\n",
              "        }\n",
              "      </script>\n",
              "    </div>\n",
              "  </div>\n",
              "  "
            ]
          },
          "metadata": {},
          "execution_count": 7
        }
      ]
    },
    {
      "cell_type": "markdown",
      "source": [
        "> Berdasarkan fungsi describe(), kolom mileage dan vol_engine memiliki nilai terkecil nol, hal tersebut tidak mungkin terjadi."
      ],
      "metadata": {
        "id": "5QLiuxAD9g31"
      }
    },
    {
      "cell_type": "code",
      "source": [
        "cars.loc[(cars['mileage']==0)]"
      ],
      "metadata": {
        "colab": {
          "base_uri": "https://localhost:8080/",
          "height": 424
        },
        "id": "4cZy7jMML3Z4",
        "outputId": "f9ed60fc-70a9-497e-fac1-48cfe7127b93"
      },
      "execution_count": null,
      "outputs": [
        {
          "output_type": "execute_result",
          "data": {
            "text/plain": [
              "        mark        model  year  mileage  vol_engine      fuel      city  \\\n",
              "3202    opel        astra  2021        0           0    Diesel  Katowice   \n",
              "3248    opel        astra  2021        0           0    Diesel  Katowice   \n",
              "5496    opel        corsa  2021        0           0  Gasoline  Katowice   \n",
              "5498    opel        corsa  2021        0           0  Gasoline  Katowice   \n",
              "5699    opel  crossland-x  2021        0           0  Gasoline   Chorzów   \n",
              "...      ...          ...   ...      ...         ...       ...       ...   \n",
              "111456  seat        ateca  2022        0           0  Gasoline   Wrocław   \n",
              "111457  seat        ateca  2022        0           0  Gasoline   Wrocław   \n",
              "111458  seat        ateca  2022        0           0  Gasoline   Wrocław   \n",
              "113303  seat         leon  2021        0           0  Gasoline   Wrocław   \n",
              "113318  seat         leon  2021        0           0  Gasoline   Wrocław   \n",
              "\n",
              "            province   price  \n",
              "3202         Śląskie   91600  \n",
              "3248         Śląskie  100000  \n",
              "5496         Śląskie   75890  \n",
              "5498         Śląskie   76790  \n",
              "5699         Śląskie   80968  \n",
              "...              ...     ...  \n",
              "111456  Dolnośląskie  129055  \n",
              "111457  Dolnośląskie  129055  \n",
              "111458  Dolnośląskie  143314  \n",
              "113303  Dolnośląskie  102085  \n",
              "113318  Dolnośląskie  134902  \n",
              "\n",
              "[373 rows x 9 columns]"
            ],
            "text/html": [
              "\n",
              "  <div id=\"df-8daa435c-6104-417a-aea6-66cc884cbdb2\">\n",
              "    <div class=\"colab-df-container\">\n",
              "      <div>\n",
              "<style scoped>\n",
              "    .dataframe tbody tr th:only-of-type {\n",
              "        vertical-align: middle;\n",
              "    }\n",
              "\n",
              "    .dataframe tbody tr th {\n",
              "        vertical-align: top;\n",
              "    }\n",
              "\n",
              "    .dataframe thead th {\n",
              "        text-align: right;\n",
              "    }\n",
              "</style>\n",
              "<table border=\"1\" class=\"dataframe\">\n",
              "  <thead>\n",
              "    <tr style=\"text-align: right;\">\n",
              "      <th></th>\n",
              "      <th>mark</th>\n",
              "      <th>model</th>\n",
              "      <th>year</th>\n",
              "      <th>mileage</th>\n",
              "      <th>vol_engine</th>\n",
              "      <th>fuel</th>\n",
              "      <th>city</th>\n",
              "      <th>province</th>\n",
              "      <th>price</th>\n",
              "    </tr>\n",
              "  </thead>\n",
              "  <tbody>\n",
              "    <tr>\n",
              "      <th>3202</th>\n",
              "      <td>opel</td>\n",
              "      <td>astra</td>\n",
              "      <td>2021</td>\n",
              "      <td>0</td>\n",
              "      <td>0</td>\n",
              "      <td>Diesel</td>\n",
              "      <td>Katowice</td>\n",
              "      <td>Śląskie</td>\n",
              "      <td>91600</td>\n",
              "    </tr>\n",
              "    <tr>\n",
              "      <th>3248</th>\n",
              "      <td>opel</td>\n",
              "      <td>astra</td>\n",
              "      <td>2021</td>\n",
              "      <td>0</td>\n",
              "      <td>0</td>\n",
              "      <td>Diesel</td>\n",
              "      <td>Katowice</td>\n",
              "      <td>Śląskie</td>\n",
              "      <td>100000</td>\n",
              "    </tr>\n",
              "    <tr>\n",
              "      <th>5496</th>\n",
              "      <td>opel</td>\n",
              "      <td>corsa</td>\n",
              "      <td>2021</td>\n",
              "      <td>0</td>\n",
              "      <td>0</td>\n",
              "      <td>Gasoline</td>\n",
              "      <td>Katowice</td>\n",
              "      <td>Śląskie</td>\n",
              "      <td>75890</td>\n",
              "    </tr>\n",
              "    <tr>\n",
              "      <th>5498</th>\n",
              "      <td>opel</td>\n",
              "      <td>corsa</td>\n",
              "      <td>2021</td>\n",
              "      <td>0</td>\n",
              "      <td>0</td>\n",
              "      <td>Gasoline</td>\n",
              "      <td>Katowice</td>\n",
              "      <td>Śląskie</td>\n",
              "      <td>76790</td>\n",
              "    </tr>\n",
              "    <tr>\n",
              "      <th>5699</th>\n",
              "      <td>opel</td>\n",
              "      <td>crossland-x</td>\n",
              "      <td>2021</td>\n",
              "      <td>0</td>\n",
              "      <td>0</td>\n",
              "      <td>Gasoline</td>\n",
              "      <td>Chorzów</td>\n",
              "      <td>Śląskie</td>\n",
              "      <td>80968</td>\n",
              "    </tr>\n",
              "    <tr>\n",
              "      <th>...</th>\n",
              "      <td>...</td>\n",
              "      <td>...</td>\n",
              "      <td>...</td>\n",
              "      <td>...</td>\n",
              "      <td>...</td>\n",
              "      <td>...</td>\n",
              "      <td>...</td>\n",
              "      <td>...</td>\n",
              "      <td>...</td>\n",
              "    </tr>\n",
              "    <tr>\n",
              "      <th>111456</th>\n",
              "      <td>seat</td>\n",
              "      <td>ateca</td>\n",
              "      <td>2022</td>\n",
              "      <td>0</td>\n",
              "      <td>0</td>\n",
              "      <td>Gasoline</td>\n",
              "      <td>Wrocław</td>\n",
              "      <td>Dolnośląskie</td>\n",
              "      <td>129055</td>\n",
              "    </tr>\n",
              "    <tr>\n",
              "      <th>111457</th>\n",
              "      <td>seat</td>\n",
              "      <td>ateca</td>\n",
              "      <td>2022</td>\n",
              "      <td>0</td>\n",
              "      <td>0</td>\n",
              "      <td>Gasoline</td>\n",
              "      <td>Wrocław</td>\n",
              "      <td>Dolnośląskie</td>\n",
              "      <td>129055</td>\n",
              "    </tr>\n",
              "    <tr>\n",
              "      <th>111458</th>\n",
              "      <td>seat</td>\n",
              "      <td>ateca</td>\n",
              "      <td>2022</td>\n",
              "      <td>0</td>\n",
              "      <td>0</td>\n",
              "      <td>Gasoline</td>\n",
              "      <td>Wrocław</td>\n",
              "      <td>Dolnośląskie</td>\n",
              "      <td>143314</td>\n",
              "    </tr>\n",
              "    <tr>\n",
              "      <th>113303</th>\n",
              "      <td>seat</td>\n",
              "      <td>leon</td>\n",
              "      <td>2021</td>\n",
              "      <td>0</td>\n",
              "      <td>0</td>\n",
              "      <td>Gasoline</td>\n",
              "      <td>Wrocław</td>\n",
              "      <td>Dolnośląskie</td>\n",
              "      <td>102085</td>\n",
              "    </tr>\n",
              "    <tr>\n",
              "      <th>113318</th>\n",
              "      <td>seat</td>\n",
              "      <td>leon</td>\n",
              "      <td>2021</td>\n",
              "      <td>0</td>\n",
              "      <td>0</td>\n",
              "      <td>Gasoline</td>\n",
              "      <td>Wrocław</td>\n",
              "      <td>Dolnośląskie</td>\n",
              "      <td>134902</td>\n",
              "    </tr>\n",
              "  </tbody>\n",
              "</table>\n",
              "<p>373 rows × 9 columns</p>\n",
              "</div>\n",
              "      <button class=\"colab-df-convert\" onclick=\"convertToInteractive('df-8daa435c-6104-417a-aea6-66cc884cbdb2')\"\n",
              "              title=\"Convert this dataframe to an interactive table.\"\n",
              "              style=\"display:none;\">\n",
              "        \n",
              "  <svg xmlns=\"http://www.w3.org/2000/svg\" height=\"24px\"viewBox=\"0 0 24 24\"\n",
              "       width=\"24px\">\n",
              "    <path d=\"M0 0h24v24H0V0z\" fill=\"none\"/>\n",
              "    <path d=\"M18.56 5.44l.94 2.06.94-2.06 2.06-.94-2.06-.94-.94-2.06-.94 2.06-2.06.94zm-11 1L8.5 8.5l.94-2.06 2.06-.94-2.06-.94L8.5 2.5l-.94 2.06-2.06.94zm10 10l.94 2.06.94-2.06 2.06-.94-2.06-.94-.94-2.06-.94 2.06-2.06.94z\"/><path d=\"M17.41 7.96l-1.37-1.37c-.4-.4-.92-.59-1.43-.59-.52 0-1.04.2-1.43.59L10.3 9.45l-7.72 7.72c-.78.78-.78 2.05 0 2.83L4 21.41c.39.39.9.59 1.41.59.51 0 1.02-.2 1.41-.59l7.78-7.78 2.81-2.81c.8-.78.8-2.07 0-2.86zM5.41 20L4 18.59l7.72-7.72 1.47 1.35L5.41 20z\"/>\n",
              "  </svg>\n",
              "      </button>\n",
              "      \n",
              "  <style>\n",
              "    .colab-df-container {\n",
              "      display:flex;\n",
              "      flex-wrap:wrap;\n",
              "      gap: 12px;\n",
              "    }\n",
              "\n",
              "    .colab-df-convert {\n",
              "      background-color: #E8F0FE;\n",
              "      border: none;\n",
              "      border-radius: 50%;\n",
              "      cursor: pointer;\n",
              "      display: none;\n",
              "      fill: #1967D2;\n",
              "      height: 32px;\n",
              "      padding: 0 0 0 0;\n",
              "      width: 32px;\n",
              "    }\n",
              "\n",
              "    .colab-df-convert:hover {\n",
              "      background-color: #E2EBFA;\n",
              "      box-shadow: 0px 1px 2px rgba(60, 64, 67, 0.3), 0px 1px 3px 1px rgba(60, 64, 67, 0.15);\n",
              "      fill: #174EA6;\n",
              "    }\n",
              "\n",
              "    [theme=dark] .colab-df-convert {\n",
              "      background-color: #3B4455;\n",
              "      fill: #D2E3FC;\n",
              "    }\n",
              "\n",
              "    [theme=dark] .colab-df-convert:hover {\n",
              "      background-color: #434B5C;\n",
              "      box-shadow: 0px 1px 3px 1px rgba(0, 0, 0, 0.15);\n",
              "      filter: drop-shadow(0px 1px 2px rgba(0, 0, 0, 0.3));\n",
              "      fill: #FFFFFF;\n",
              "    }\n",
              "  </style>\n",
              "\n",
              "      <script>\n",
              "        const buttonEl =\n",
              "          document.querySelector('#df-8daa435c-6104-417a-aea6-66cc884cbdb2 button.colab-df-convert');\n",
              "        buttonEl.style.display =\n",
              "          google.colab.kernel.accessAllowed ? 'block' : 'none';\n",
              "\n",
              "        async function convertToInteractive(key) {\n",
              "          const element = document.querySelector('#df-8daa435c-6104-417a-aea6-66cc884cbdb2');\n",
              "          const dataTable =\n",
              "            await google.colab.kernel.invokeFunction('convertToInteractive',\n",
              "                                                     [key], {});\n",
              "          if (!dataTable) return;\n",
              "\n",
              "          const docLinkHtml = 'Like what you see? Visit the ' +\n",
              "            '<a target=\"_blank\" href=https://colab.research.google.com/notebooks/data_table.ipynb>data table notebook</a>'\n",
              "            + ' to learn more about interactive tables.';\n",
              "          element.innerHTML = '';\n",
              "          dataTable['output_type'] = 'display_data';\n",
              "          await google.colab.output.renderOutput(dataTable, element);\n",
              "          const docLink = document.createElement('div');\n",
              "          docLink.innerHTML = docLinkHtml;\n",
              "          element.appendChild(docLink);\n",
              "        }\n",
              "      </script>\n",
              "    </div>\n",
              "  </div>\n",
              "  "
            ]
          },
          "metadata": {},
          "execution_count": 8
        }
      ]
    },
    {
      "cell_type": "code",
      "source": [
        "cars.loc[(cars['vol_engine']==0)]"
      ],
      "metadata": {
        "colab": {
          "base_uri": "https://localhost:8080/",
          "height": 424
        },
        "id": "5Lo6uXPNQ6Ea",
        "outputId": "ebbaab4e-10a9-4f96-c77b-fd3ddc689bb8"
      },
      "execution_count": null,
      "outputs": [
        {
          "output_type": "execute_result",
          "data": {
            "text/plain": [
              "         mark   model  year  mileage  vol_engine      fuel          city  \\\n",
              "370      opel  ampera  2019    23304           0  Electric        Gdańsk   \n",
              "3202     opel   astra  2021        0           0    Diesel      Katowice   \n",
              "3248     opel   astra  2021        0           0    Diesel      Katowice   \n",
              "5393     opel   corsa  2020     5000           0  Electric       Chorzów   \n",
              "5414     opel   corsa  2021        5           0  Electric          Łódź   \n",
              "...       ...     ...   ...      ...         ...       ...           ...   \n",
              "115956  volvo   xc-40  2021        5           0  Electric        Gdynia   \n",
              "115967  volvo   xc-40  2022        1           0  Electric      Katowice   \n",
              "115990  volvo   xc-40  2021     4300           0  Electric         Tychy   \n",
              "115995  volvo   xc-40  2021        1           0  Electric       Chorzów   \n",
              "116003  volvo   xc-40  2021        5           0  Electric  Przeźmierowo   \n",
              "\n",
              "             province   price  \n",
              "370         Pomorskie  149900  \n",
              "3202          Śląskie   91600  \n",
              "3248          Śląskie  100000  \n",
              "5393          Śląskie  119900  \n",
              "5414          Łódzkie  105900  \n",
              "...               ...     ...  \n",
              "115956      Pomorskie  252900  \n",
              "115967        Śląskie  220600  \n",
              "115990        Śląskie  284900  \n",
              "115995        Śląskie  210100  \n",
              "116003  Wielkopolskie  209900  \n",
              "\n",
              "[1248 rows x 9 columns]"
            ],
            "text/html": [
              "\n",
              "  <div id=\"df-48beaf74-8695-4d84-806f-df49e3624f0c\">\n",
              "    <div class=\"colab-df-container\">\n",
              "      <div>\n",
              "<style scoped>\n",
              "    .dataframe tbody tr th:only-of-type {\n",
              "        vertical-align: middle;\n",
              "    }\n",
              "\n",
              "    .dataframe tbody tr th {\n",
              "        vertical-align: top;\n",
              "    }\n",
              "\n",
              "    .dataframe thead th {\n",
              "        text-align: right;\n",
              "    }\n",
              "</style>\n",
              "<table border=\"1\" class=\"dataframe\">\n",
              "  <thead>\n",
              "    <tr style=\"text-align: right;\">\n",
              "      <th></th>\n",
              "      <th>mark</th>\n",
              "      <th>model</th>\n",
              "      <th>year</th>\n",
              "      <th>mileage</th>\n",
              "      <th>vol_engine</th>\n",
              "      <th>fuel</th>\n",
              "      <th>city</th>\n",
              "      <th>province</th>\n",
              "      <th>price</th>\n",
              "    </tr>\n",
              "  </thead>\n",
              "  <tbody>\n",
              "    <tr>\n",
              "      <th>370</th>\n",
              "      <td>opel</td>\n",
              "      <td>ampera</td>\n",
              "      <td>2019</td>\n",
              "      <td>23304</td>\n",
              "      <td>0</td>\n",
              "      <td>Electric</td>\n",
              "      <td>Gdańsk</td>\n",
              "      <td>Pomorskie</td>\n",
              "      <td>149900</td>\n",
              "    </tr>\n",
              "    <tr>\n",
              "      <th>3202</th>\n",
              "      <td>opel</td>\n",
              "      <td>astra</td>\n",
              "      <td>2021</td>\n",
              "      <td>0</td>\n",
              "      <td>0</td>\n",
              "      <td>Diesel</td>\n",
              "      <td>Katowice</td>\n",
              "      <td>Śląskie</td>\n",
              "      <td>91600</td>\n",
              "    </tr>\n",
              "    <tr>\n",
              "      <th>3248</th>\n",
              "      <td>opel</td>\n",
              "      <td>astra</td>\n",
              "      <td>2021</td>\n",
              "      <td>0</td>\n",
              "      <td>0</td>\n",
              "      <td>Diesel</td>\n",
              "      <td>Katowice</td>\n",
              "      <td>Śląskie</td>\n",
              "      <td>100000</td>\n",
              "    </tr>\n",
              "    <tr>\n",
              "      <th>5393</th>\n",
              "      <td>opel</td>\n",
              "      <td>corsa</td>\n",
              "      <td>2020</td>\n",
              "      <td>5000</td>\n",
              "      <td>0</td>\n",
              "      <td>Electric</td>\n",
              "      <td>Chorzów</td>\n",
              "      <td>Śląskie</td>\n",
              "      <td>119900</td>\n",
              "    </tr>\n",
              "    <tr>\n",
              "      <th>5414</th>\n",
              "      <td>opel</td>\n",
              "      <td>corsa</td>\n",
              "      <td>2021</td>\n",
              "      <td>5</td>\n",
              "      <td>0</td>\n",
              "      <td>Electric</td>\n",
              "      <td>Łódź</td>\n",
              "      <td>Łódzkie</td>\n",
              "      <td>105900</td>\n",
              "    </tr>\n",
              "    <tr>\n",
              "      <th>...</th>\n",
              "      <td>...</td>\n",
              "      <td>...</td>\n",
              "      <td>...</td>\n",
              "      <td>...</td>\n",
              "      <td>...</td>\n",
              "      <td>...</td>\n",
              "      <td>...</td>\n",
              "      <td>...</td>\n",
              "      <td>...</td>\n",
              "    </tr>\n",
              "    <tr>\n",
              "      <th>115956</th>\n",
              "      <td>volvo</td>\n",
              "      <td>xc-40</td>\n",
              "      <td>2021</td>\n",
              "      <td>5</td>\n",
              "      <td>0</td>\n",
              "      <td>Electric</td>\n",
              "      <td>Gdynia</td>\n",
              "      <td>Pomorskie</td>\n",
              "      <td>252900</td>\n",
              "    </tr>\n",
              "    <tr>\n",
              "      <th>115967</th>\n",
              "      <td>volvo</td>\n",
              "      <td>xc-40</td>\n",
              "      <td>2022</td>\n",
              "      <td>1</td>\n",
              "      <td>0</td>\n",
              "      <td>Electric</td>\n",
              "      <td>Katowice</td>\n",
              "      <td>Śląskie</td>\n",
              "      <td>220600</td>\n",
              "    </tr>\n",
              "    <tr>\n",
              "      <th>115990</th>\n",
              "      <td>volvo</td>\n",
              "      <td>xc-40</td>\n",
              "      <td>2021</td>\n",
              "      <td>4300</td>\n",
              "      <td>0</td>\n",
              "      <td>Electric</td>\n",
              "      <td>Tychy</td>\n",
              "      <td>Śląskie</td>\n",
              "      <td>284900</td>\n",
              "    </tr>\n",
              "    <tr>\n",
              "      <th>115995</th>\n",
              "      <td>volvo</td>\n",
              "      <td>xc-40</td>\n",
              "      <td>2021</td>\n",
              "      <td>1</td>\n",
              "      <td>0</td>\n",
              "      <td>Electric</td>\n",
              "      <td>Chorzów</td>\n",
              "      <td>Śląskie</td>\n",
              "      <td>210100</td>\n",
              "    </tr>\n",
              "    <tr>\n",
              "      <th>116003</th>\n",
              "      <td>volvo</td>\n",
              "      <td>xc-40</td>\n",
              "      <td>2021</td>\n",
              "      <td>5</td>\n",
              "      <td>0</td>\n",
              "      <td>Electric</td>\n",
              "      <td>Przeźmierowo</td>\n",
              "      <td>Wielkopolskie</td>\n",
              "      <td>209900</td>\n",
              "    </tr>\n",
              "  </tbody>\n",
              "</table>\n",
              "<p>1248 rows × 9 columns</p>\n",
              "</div>\n",
              "      <button class=\"colab-df-convert\" onclick=\"convertToInteractive('df-48beaf74-8695-4d84-806f-df49e3624f0c')\"\n",
              "              title=\"Convert this dataframe to an interactive table.\"\n",
              "              style=\"display:none;\">\n",
              "        \n",
              "  <svg xmlns=\"http://www.w3.org/2000/svg\" height=\"24px\"viewBox=\"0 0 24 24\"\n",
              "       width=\"24px\">\n",
              "    <path d=\"M0 0h24v24H0V0z\" fill=\"none\"/>\n",
              "    <path d=\"M18.56 5.44l.94 2.06.94-2.06 2.06-.94-2.06-.94-.94-2.06-.94 2.06-2.06.94zm-11 1L8.5 8.5l.94-2.06 2.06-.94-2.06-.94L8.5 2.5l-.94 2.06-2.06.94zm10 10l.94 2.06.94-2.06 2.06-.94-2.06-.94-.94-2.06-.94 2.06-2.06.94z\"/><path d=\"M17.41 7.96l-1.37-1.37c-.4-.4-.92-.59-1.43-.59-.52 0-1.04.2-1.43.59L10.3 9.45l-7.72 7.72c-.78.78-.78 2.05 0 2.83L4 21.41c.39.39.9.59 1.41.59.51 0 1.02-.2 1.41-.59l7.78-7.78 2.81-2.81c.8-.78.8-2.07 0-2.86zM5.41 20L4 18.59l7.72-7.72 1.47 1.35L5.41 20z\"/>\n",
              "  </svg>\n",
              "      </button>\n",
              "      \n",
              "  <style>\n",
              "    .colab-df-container {\n",
              "      display:flex;\n",
              "      flex-wrap:wrap;\n",
              "      gap: 12px;\n",
              "    }\n",
              "\n",
              "    .colab-df-convert {\n",
              "      background-color: #E8F0FE;\n",
              "      border: none;\n",
              "      border-radius: 50%;\n",
              "      cursor: pointer;\n",
              "      display: none;\n",
              "      fill: #1967D2;\n",
              "      height: 32px;\n",
              "      padding: 0 0 0 0;\n",
              "      width: 32px;\n",
              "    }\n",
              "\n",
              "    .colab-df-convert:hover {\n",
              "      background-color: #E2EBFA;\n",
              "      box-shadow: 0px 1px 2px rgba(60, 64, 67, 0.3), 0px 1px 3px 1px rgba(60, 64, 67, 0.15);\n",
              "      fill: #174EA6;\n",
              "    }\n",
              "\n",
              "    [theme=dark] .colab-df-convert {\n",
              "      background-color: #3B4455;\n",
              "      fill: #D2E3FC;\n",
              "    }\n",
              "\n",
              "    [theme=dark] .colab-df-convert:hover {\n",
              "      background-color: #434B5C;\n",
              "      box-shadow: 0px 1px 3px 1px rgba(0, 0, 0, 0.15);\n",
              "      filter: drop-shadow(0px 1px 2px rgba(0, 0, 0, 0.3));\n",
              "      fill: #FFFFFF;\n",
              "    }\n",
              "  </style>\n",
              "\n",
              "      <script>\n",
              "        const buttonEl =\n",
              "          document.querySelector('#df-48beaf74-8695-4d84-806f-df49e3624f0c button.colab-df-convert');\n",
              "        buttonEl.style.display =\n",
              "          google.colab.kernel.accessAllowed ? 'block' : 'none';\n",
              "\n",
              "        async function convertToInteractive(key) {\n",
              "          const element = document.querySelector('#df-48beaf74-8695-4d84-806f-df49e3624f0c');\n",
              "          const dataTable =\n",
              "            await google.colab.kernel.invokeFunction('convertToInteractive',\n",
              "                                                     [key], {});\n",
              "          if (!dataTable) return;\n",
              "\n",
              "          const docLinkHtml = 'Like what you see? Visit the ' +\n",
              "            '<a target=\"_blank\" href=https://colab.research.google.com/notebooks/data_table.ipynb>data table notebook</a>'\n",
              "            + ' to learn more about interactive tables.';\n",
              "          element.innerHTML = '';\n",
              "          dataTable['output_type'] = 'display_data';\n",
              "          await google.colab.output.renderOutput(dataTable, element);\n",
              "          const docLink = document.createElement('div');\n",
              "          docLink.innerHTML = docLinkHtml;\n",
              "          element.appendChild(docLink);\n",
              "        }\n",
              "      </script>\n",
              "    </div>\n",
              "  </div>\n",
              "  "
            ]
          },
          "metadata": {},
          "execution_count": 9
        }
      ]
    },
    {
      "cell_type": "markdown",
      "source": [
        "> Jumlah kolom mileage dan vol_engine yang bernilai nol masing-masing adalah 373 dan 1248 baris. Jumlah tersebut sangat kecil jika dibandingkan dengan keseluruhan dataset yaitu sekitar 117.000 baris. Jadi mari hapus baris kolom mileage dan vol_engine yang mempunyai nilai nol."
      ],
      "metadata": {
        "id": "HNLhip2ZRG9z"
      }
    },
    {
      "cell_type": "code",
      "source": [
        "cars = cars.loc[(cars[['mileage','vol_engine']]!=0).all(axis=1)]\n",
        "cars.shape"
      ],
      "metadata": {
        "colab": {
          "base_uri": "https://localhost:8080/"
        },
        "id": "bTqe5H1a-p40",
        "outputId": "9d7a922c-fb48-43f1-f4fa-332588558780"
      },
      "execution_count": null,
      "outputs": [
        {
          "output_type": "execute_result",
          "data": {
            "text/plain": [
              "(116679, 9)"
            ]
          },
          "metadata": {},
          "execution_count": 10
        }
      ]
    },
    {
      "cell_type": "markdown",
      "source": [
        "\n",
        "\n",
        "> Sekarang dataset terlihat rapi, langkah selanjutnya adalah menghapus nilai duplikat jika ada\n",
        "\n",
        "\n",
        "\n"
      ],
      "metadata": {
        "id": "z8kPN-yzUkid"
      }
    },
    {
      "cell_type": "code",
      "source": [
        "cars.drop_duplicates(inplace=True)\n",
        "cars.shape"
      ],
      "metadata": {
        "colab": {
          "base_uri": "https://localhost:8080/"
        },
        "id": "uG0OoO3MWVjg",
        "outputId": "75fb36b7-21b0-41ab-8815-3099591a2ead"
      },
      "execution_count": null,
      "outputs": [
        {
          "output_type": "execute_result",
          "data": {
            "text/plain": [
              "(110090, 9)"
            ]
          },
          "metadata": {},
          "execution_count": 11
        }
      ]
    },
    {
      "cell_type": "markdown",
      "source": [
        "> Setelah ini, coba kita cek kembali kolom numerik dengan fungsi describe() dan info()"
      ],
      "metadata": {
        "id": "sVnl8Wj2r3Fp"
      }
    },
    {
      "cell_type": "code",
      "source": [
        "cars.describe()"
      ],
      "metadata": {
        "colab": {
          "base_uri": "https://localhost:8080/",
          "height": 300
        },
        "id": "VULsE40sr9av",
        "outputId": "cb3a1a7e-e5bc-48ce-d8fa-5651a7229c30"
      },
      "execution_count": null,
      "outputs": [
        {
          "output_type": "execute_result",
          "data": {
            "text/plain": [
              "                year       mileage     vol_engine         price\n",
              "count  110090.000000  1.100900e+05  110090.000000  1.100900e+05\n",
              "mean     2012.811318  1.431075e+05    1827.929757  6.745183e+04\n",
              "std         5.624045  9.115029e+04     618.801467  8.155119e+04\n",
              "min      1945.000000  1.000000e+00       1.000000  5.000000e+02\n",
              "25%      2009.000000  7.200000e+04    1461.000000  2.099900e+04\n",
              "50%      2013.000000  1.485000e+05    1796.000000  4.090000e+04\n",
              "75%      2017.000000  2.038165e+05    1995.000000  7.990000e+04\n",
              "max      2022.000000  2.800000e+06    7600.000000  2.399900e+06"
            ],
            "text/html": [
              "\n",
              "  <div id=\"df-d8eab9f0-65f7-4342-acc4-41b9c6aae4d7\">\n",
              "    <div class=\"colab-df-container\">\n",
              "      <div>\n",
              "<style scoped>\n",
              "    .dataframe tbody tr th:only-of-type {\n",
              "        vertical-align: middle;\n",
              "    }\n",
              "\n",
              "    .dataframe tbody tr th {\n",
              "        vertical-align: top;\n",
              "    }\n",
              "\n",
              "    .dataframe thead th {\n",
              "        text-align: right;\n",
              "    }\n",
              "</style>\n",
              "<table border=\"1\" class=\"dataframe\">\n",
              "  <thead>\n",
              "    <tr style=\"text-align: right;\">\n",
              "      <th></th>\n",
              "      <th>year</th>\n",
              "      <th>mileage</th>\n",
              "      <th>vol_engine</th>\n",
              "      <th>price</th>\n",
              "    </tr>\n",
              "  </thead>\n",
              "  <tbody>\n",
              "    <tr>\n",
              "      <th>count</th>\n",
              "      <td>110090.000000</td>\n",
              "      <td>1.100900e+05</td>\n",
              "      <td>110090.000000</td>\n",
              "      <td>1.100900e+05</td>\n",
              "    </tr>\n",
              "    <tr>\n",
              "      <th>mean</th>\n",
              "      <td>2012.811318</td>\n",
              "      <td>1.431075e+05</td>\n",
              "      <td>1827.929757</td>\n",
              "      <td>6.745183e+04</td>\n",
              "    </tr>\n",
              "    <tr>\n",
              "      <th>std</th>\n",
              "      <td>5.624045</td>\n",
              "      <td>9.115029e+04</td>\n",
              "      <td>618.801467</td>\n",
              "      <td>8.155119e+04</td>\n",
              "    </tr>\n",
              "    <tr>\n",
              "      <th>min</th>\n",
              "      <td>1945.000000</td>\n",
              "      <td>1.000000e+00</td>\n",
              "      <td>1.000000</td>\n",
              "      <td>5.000000e+02</td>\n",
              "    </tr>\n",
              "    <tr>\n",
              "      <th>25%</th>\n",
              "      <td>2009.000000</td>\n",
              "      <td>7.200000e+04</td>\n",
              "      <td>1461.000000</td>\n",
              "      <td>2.099900e+04</td>\n",
              "    </tr>\n",
              "    <tr>\n",
              "      <th>50%</th>\n",
              "      <td>2013.000000</td>\n",
              "      <td>1.485000e+05</td>\n",
              "      <td>1796.000000</td>\n",
              "      <td>4.090000e+04</td>\n",
              "    </tr>\n",
              "    <tr>\n",
              "      <th>75%</th>\n",
              "      <td>2017.000000</td>\n",
              "      <td>2.038165e+05</td>\n",
              "      <td>1995.000000</td>\n",
              "      <td>7.990000e+04</td>\n",
              "    </tr>\n",
              "    <tr>\n",
              "      <th>max</th>\n",
              "      <td>2022.000000</td>\n",
              "      <td>2.800000e+06</td>\n",
              "      <td>7600.000000</td>\n",
              "      <td>2.399900e+06</td>\n",
              "    </tr>\n",
              "  </tbody>\n",
              "</table>\n",
              "</div>\n",
              "      <button class=\"colab-df-convert\" onclick=\"convertToInteractive('df-d8eab9f0-65f7-4342-acc4-41b9c6aae4d7')\"\n",
              "              title=\"Convert this dataframe to an interactive table.\"\n",
              "              style=\"display:none;\">\n",
              "        \n",
              "  <svg xmlns=\"http://www.w3.org/2000/svg\" height=\"24px\"viewBox=\"0 0 24 24\"\n",
              "       width=\"24px\">\n",
              "    <path d=\"M0 0h24v24H0V0z\" fill=\"none\"/>\n",
              "    <path d=\"M18.56 5.44l.94 2.06.94-2.06 2.06-.94-2.06-.94-.94-2.06-.94 2.06-2.06.94zm-11 1L8.5 8.5l.94-2.06 2.06-.94-2.06-.94L8.5 2.5l-.94 2.06-2.06.94zm10 10l.94 2.06.94-2.06 2.06-.94-2.06-.94-.94-2.06-.94 2.06-2.06.94z\"/><path d=\"M17.41 7.96l-1.37-1.37c-.4-.4-.92-.59-1.43-.59-.52 0-1.04.2-1.43.59L10.3 9.45l-7.72 7.72c-.78.78-.78 2.05 0 2.83L4 21.41c.39.39.9.59 1.41.59.51 0 1.02-.2 1.41-.59l7.78-7.78 2.81-2.81c.8-.78.8-2.07 0-2.86zM5.41 20L4 18.59l7.72-7.72 1.47 1.35L5.41 20z\"/>\n",
              "  </svg>\n",
              "      </button>\n",
              "      \n",
              "  <style>\n",
              "    .colab-df-container {\n",
              "      display:flex;\n",
              "      flex-wrap:wrap;\n",
              "      gap: 12px;\n",
              "    }\n",
              "\n",
              "    .colab-df-convert {\n",
              "      background-color: #E8F0FE;\n",
              "      border: none;\n",
              "      border-radius: 50%;\n",
              "      cursor: pointer;\n",
              "      display: none;\n",
              "      fill: #1967D2;\n",
              "      height: 32px;\n",
              "      padding: 0 0 0 0;\n",
              "      width: 32px;\n",
              "    }\n",
              "\n",
              "    .colab-df-convert:hover {\n",
              "      background-color: #E2EBFA;\n",
              "      box-shadow: 0px 1px 2px rgba(60, 64, 67, 0.3), 0px 1px 3px 1px rgba(60, 64, 67, 0.15);\n",
              "      fill: #174EA6;\n",
              "    }\n",
              "\n",
              "    [theme=dark] .colab-df-convert {\n",
              "      background-color: #3B4455;\n",
              "      fill: #D2E3FC;\n",
              "    }\n",
              "\n",
              "    [theme=dark] .colab-df-convert:hover {\n",
              "      background-color: #434B5C;\n",
              "      box-shadow: 0px 1px 3px 1px rgba(0, 0, 0, 0.15);\n",
              "      filter: drop-shadow(0px 1px 2px rgba(0, 0, 0, 0.3));\n",
              "      fill: #FFFFFF;\n",
              "    }\n",
              "  </style>\n",
              "\n",
              "      <script>\n",
              "        const buttonEl =\n",
              "          document.querySelector('#df-d8eab9f0-65f7-4342-acc4-41b9c6aae4d7 button.colab-df-convert');\n",
              "        buttonEl.style.display =\n",
              "          google.colab.kernel.accessAllowed ? 'block' : 'none';\n",
              "\n",
              "        async function convertToInteractive(key) {\n",
              "          const element = document.querySelector('#df-d8eab9f0-65f7-4342-acc4-41b9c6aae4d7');\n",
              "          const dataTable =\n",
              "            await google.colab.kernel.invokeFunction('convertToInteractive',\n",
              "                                                     [key], {});\n",
              "          if (!dataTable) return;\n",
              "\n",
              "          const docLinkHtml = 'Like what you see? Visit the ' +\n",
              "            '<a target=\"_blank\" href=https://colab.research.google.com/notebooks/data_table.ipynb>data table notebook</a>'\n",
              "            + ' to learn more about interactive tables.';\n",
              "          element.innerHTML = '';\n",
              "          dataTable['output_type'] = 'display_data';\n",
              "          await google.colab.output.renderOutput(dataTable, element);\n",
              "          const docLink = document.createElement('div');\n",
              "          docLink.innerHTML = docLinkHtml;\n",
              "          element.appendChild(docLink);\n",
              "        }\n",
              "      </script>\n",
              "    </div>\n",
              "  </div>\n",
              "  "
            ]
          },
          "metadata": {},
          "execution_count": 12
        }
      ]
    },
    {
      "cell_type": "code",
      "source": [
        "cars.info()"
      ],
      "metadata": {
        "colab": {
          "base_uri": "https://localhost:8080/"
        },
        "id": "FywqosbTT9lM",
        "outputId": "8cc4887b-0aec-4aad-eeb1-8212062bc8e9"
      },
      "execution_count": null,
      "outputs": [
        {
          "output_type": "stream",
          "name": "stdout",
          "text": [
            "<class 'pandas.core.frame.DataFrame'>\n",
            "Int64Index: 110090 entries, 0 to 117254\n",
            "Data columns (total 9 columns):\n",
            " #   Column      Non-Null Count   Dtype \n",
            "---  ------      --------------   ----- \n",
            " 0   mark        110090 non-null  object\n",
            " 1   model       110090 non-null  object\n",
            " 2   year        110090 non-null  int64 \n",
            " 3   mileage     110090 non-null  int64 \n",
            " 4   vol_engine  110090 non-null  int64 \n",
            " 5   fuel        110090 non-null  object\n",
            " 6   city        110090 non-null  object\n",
            " 7   province    110090 non-null  object\n",
            " 8   price       110090 non-null  int64 \n",
            "dtypes: int64(4), object(5)\n",
            "memory usage: 8.4+ MB\n"
          ]
        }
      ]
    },
    {
      "cell_type": "markdown",
      "source": [
        "> Sepertinya tidak ada masalah, selanjutnya mari kita tangani outlier jika memang ada"
      ],
      "metadata": {
        "id": "sANIe3tquQNv"
      }
    },
    {
      "cell_type": "code",
      "source": [
        "Q1 = cars.quantile(0.25)\n",
        "Q3 = cars.quantile(0.75)\n",
        "IQR=Q3-Q1\n",
        "cars=cars[~((cars<(Q1-1.5*IQR))|(cars>(Q3+1.5*IQR))).any(axis=1)]\n",
        "cars.shape"
      ],
      "metadata": {
        "colab": {
          "base_uri": "https://localhost:8080/"
        },
        "id": "OngfSshzuU3p",
        "outputId": "661b1795-cd6c-4f01-91ff-f1a4cd436419"
      },
      "execution_count": null,
      "outputs": [
        {
          "output_type": "stream",
          "name": "stderr",
          "text": [
            "/usr/local/lib/python3.7/dist-packages/ipykernel_launcher.py:4: FutureWarning: Automatic reindexing on DataFrame vs Series comparisons is deprecated and will raise ValueError in a future version.  Do `left, right = left.align(right, axis=1, copy=False)` before e.g. `left == right`\n",
            "  after removing the cwd from sys.path.\n"
          ]
        },
        {
          "output_type": "execute_result",
          "data": {
            "text/plain": [
              "(94393, 9)"
            ]
          },
          "metadata": {},
          "execution_count": 14
        }
      ]
    },
    {
      "cell_type": "markdown",
      "source": [
        "> Terakhir untuk memudahkan dalam data preprocessing, mari ubah tipe kolom numerik menjadi float64"
      ],
      "metadata": {
        "id": "DigDzi_zltYG"
      }
    },
    {
      "cell_type": "code",
      "source": [
        "cars['year'] = cars['year'].astype('float64')\n",
        "cars['mileage'] = cars['mileage'].astype('float64')\n",
        "cars['vol_engine'] = cars['vol_engine'].astype('float64')"
      ],
      "metadata": {
        "id": "TOmgNPIml0sv"
      },
      "execution_count": null,
      "outputs": []
    },
    {
      "cell_type": "markdown",
      "source": [
        "> Kemudian kita cek dataset kembali dengan fungsi info() dan describe()"
      ],
      "metadata": {
        "id": "HpjrI2lAVPuR"
      }
    },
    {
      "cell_type": "code",
      "source": [
        "cars.info()"
      ],
      "metadata": {
        "colab": {
          "base_uri": "https://localhost:8080/"
        },
        "id": "R995Rba2VV6q",
        "outputId": "b7b5d90b-4a38-4e9b-a171-dc0024dcdfe9"
      },
      "execution_count": null,
      "outputs": [
        {
          "output_type": "stream",
          "name": "stdout",
          "text": [
            "<class 'pandas.core.frame.DataFrame'>\n",
            "Int64Index: 94393 entries, 0 to 117254\n",
            "Data columns (total 9 columns):\n",
            " #   Column      Non-Null Count  Dtype  \n",
            "---  ------      --------------  -----  \n",
            " 0   mark        94393 non-null  object \n",
            " 1   model       94393 non-null  object \n",
            " 2   year        94393 non-null  float64\n",
            " 3   mileage     94393 non-null  float64\n",
            " 4   vol_engine  94393 non-null  float64\n",
            " 5   fuel        94393 non-null  object \n",
            " 6   city        94393 non-null  object \n",
            " 7   province    94393 non-null  object \n",
            " 8   price       94393 non-null  int64  \n",
            "dtypes: float64(3), int64(1), object(5)\n",
            "memory usage: 7.2+ MB\n"
          ]
        }
      ]
    },
    {
      "cell_type": "code",
      "source": [
        "cars.describe()"
      ],
      "metadata": {
        "colab": {
          "base_uri": "https://localhost:8080/",
          "height": 300
        },
        "id": "rD4Euek2VZhY",
        "outputId": "a78ebc84-9e9b-4dd8-f725-94d09cac7c47"
      },
      "execution_count": null,
      "outputs": [
        {
          "output_type": "execute_result",
          "data": {
            "text/plain": [
              "               year        mileage    vol_engine          price\n",
              "count  94393.000000   94393.000000  94393.000000   94393.000000\n",
              "mean    2012.469622  148397.653777   1669.068925   47246.519498\n",
              "std        5.200417   82751.991794    344.170343   36130.114259\n",
              "min     1997.000000       1.000000    875.000000     500.000000\n",
              "25%     2009.000000   87000.000000   1397.000000   19500.000000\n",
              "50%     2013.000000  154000.000000   1598.000000   35999.000000\n",
              "75%     2017.000000  204000.000000   1984.000000   65600.000000\n",
              "max     2022.000000  401315.000000   2796.000000  168200.000000"
            ],
            "text/html": [
              "\n",
              "  <div id=\"df-ee1e91ee-53da-4a1f-be10-d4a735d9cc6e\">\n",
              "    <div class=\"colab-df-container\">\n",
              "      <div>\n",
              "<style scoped>\n",
              "    .dataframe tbody tr th:only-of-type {\n",
              "        vertical-align: middle;\n",
              "    }\n",
              "\n",
              "    .dataframe tbody tr th {\n",
              "        vertical-align: top;\n",
              "    }\n",
              "\n",
              "    .dataframe thead th {\n",
              "        text-align: right;\n",
              "    }\n",
              "</style>\n",
              "<table border=\"1\" class=\"dataframe\">\n",
              "  <thead>\n",
              "    <tr style=\"text-align: right;\">\n",
              "      <th></th>\n",
              "      <th>year</th>\n",
              "      <th>mileage</th>\n",
              "      <th>vol_engine</th>\n",
              "      <th>price</th>\n",
              "    </tr>\n",
              "  </thead>\n",
              "  <tbody>\n",
              "    <tr>\n",
              "      <th>count</th>\n",
              "      <td>94393.000000</td>\n",
              "      <td>94393.000000</td>\n",
              "      <td>94393.000000</td>\n",
              "      <td>94393.000000</td>\n",
              "    </tr>\n",
              "    <tr>\n",
              "      <th>mean</th>\n",
              "      <td>2012.469622</td>\n",
              "      <td>148397.653777</td>\n",
              "      <td>1669.068925</td>\n",
              "      <td>47246.519498</td>\n",
              "    </tr>\n",
              "    <tr>\n",
              "      <th>std</th>\n",
              "      <td>5.200417</td>\n",
              "      <td>82751.991794</td>\n",
              "      <td>344.170343</td>\n",
              "      <td>36130.114259</td>\n",
              "    </tr>\n",
              "    <tr>\n",
              "      <th>min</th>\n",
              "      <td>1997.000000</td>\n",
              "      <td>1.000000</td>\n",
              "      <td>875.000000</td>\n",
              "      <td>500.000000</td>\n",
              "    </tr>\n",
              "    <tr>\n",
              "      <th>25%</th>\n",
              "      <td>2009.000000</td>\n",
              "      <td>87000.000000</td>\n",
              "      <td>1397.000000</td>\n",
              "      <td>19500.000000</td>\n",
              "    </tr>\n",
              "    <tr>\n",
              "      <th>50%</th>\n",
              "      <td>2013.000000</td>\n",
              "      <td>154000.000000</td>\n",
              "      <td>1598.000000</td>\n",
              "      <td>35999.000000</td>\n",
              "    </tr>\n",
              "    <tr>\n",
              "      <th>75%</th>\n",
              "      <td>2017.000000</td>\n",
              "      <td>204000.000000</td>\n",
              "      <td>1984.000000</td>\n",
              "      <td>65600.000000</td>\n",
              "    </tr>\n",
              "    <tr>\n",
              "      <th>max</th>\n",
              "      <td>2022.000000</td>\n",
              "      <td>401315.000000</td>\n",
              "      <td>2796.000000</td>\n",
              "      <td>168200.000000</td>\n",
              "    </tr>\n",
              "  </tbody>\n",
              "</table>\n",
              "</div>\n",
              "      <button class=\"colab-df-convert\" onclick=\"convertToInteractive('df-ee1e91ee-53da-4a1f-be10-d4a735d9cc6e')\"\n",
              "              title=\"Convert this dataframe to an interactive table.\"\n",
              "              style=\"display:none;\">\n",
              "        \n",
              "  <svg xmlns=\"http://www.w3.org/2000/svg\" height=\"24px\"viewBox=\"0 0 24 24\"\n",
              "       width=\"24px\">\n",
              "    <path d=\"M0 0h24v24H0V0z\" fill=\"none\"/>\n",
              "    <path d=\"M18.56 5.44l.94 2.06.94-2.06 2.06-.94-2.06-.94-.94-2.06-.94 2.06-2.06.94zm-11 1L8.5 8.5l.94-2.06 2.06-.94-2.06-.94L8.5 2.5l-.94 2.06-2.06.94zm10 10l.94 2.06.94-2.06 2.06-.94-2.06-.94-.94-2.06-.94 2.06-2.06.94z\"/><path d=\"M17.41 7.96l-1.37-1.37c-.4-.4-.92-.59-1.43-.59-.52 0-1.04.2-1.43.59L10.3 9.45l-7.72 7.72c-.78.78-.78 2.05 0 2.83L4 21.41c.39.39.9.59 1.41.59.51 0 1.02-.2 1.41-.59l7.78-7.78 2.81-2.81c.8-.78.8-2.07 0-2.86zM5.41 20L4 18.59l7.72-7.72 1.47 1.35L5.41 20z\"/>\n",
              "  </svg>\n",
              "      </button>\n",
              "      \n",
              "  <style>\n",
              "    .colab-df-container {\n",
              "      display:flex;\n",
              "      flex-wrap:wrap;\n",
              "      gap: 12px;\n",
              "    }\n",
              "\n",
              "    .colab-df-convert {\n",
              "      background-color: #E8F0FE;\n",
              "      border: none;\n",
              "      border-radius: 50%;\n",
              "      cursor: pointer;\n",
              "      display: none;\n",
              "      fill: #1967D2;\n",
              "      height: 32px;\n",
              "      padding: 0 0 0 0;\n",
              "      width: 32px;\n",
              "    }\n",
              "\n",
              "    .colab-df-convert:hover {\n",
              "      background-color: #E2EBFA;\n",
              "      box-shadow: 0px 1px 2px rgba(60, 64, 67, 0.3), 0px 1px 3px 1px rgba(60, 64, 67, 0.15);\n",
              "      fill: #174EA6;\n",
              "    }\n",
              "\n",
              "    [theme=dark] .colab-df-convert {\n",
              "      background-color: #3B4455;\n",
              "      fill: #D2E3FC;\n",
              "    }\n",
              "\n",
              "    [theme=dark] .colab-df-convert:hover {\n",
              "      background-color: #434B5C;\n",
              "      box-shadow: 0px 1px 3px 1px rgba(0, 0, 0, 0.15);\n",
              "      filter: drop-shadow(0px 1px 2px rgba(0, 0, 0, 0.3));\n",
              "      fill: #FFFFFF;\n",
              "    }\n",
              "  </style>\n",
              "\n",
              "      <script>\n",
              "        const buttonEl =\n",
              "          document.querySelector('#df-ee1e91ee-53da-4a1f-be10-d4a735d9cc6e button.colab-df-convert');\n",
              "        buttonEl.style.display =\n",
              "          google.colab.kernel.accessAllowed ? 'block' : 'none';\n",
              "\n",
              "        async function convertToInteractive(key) {\n",
              "          const element = document.querySelector('#df-ee1e91ee-53da-4a1f-be10-d4a735d9cc6e');\n",
              "          const dataTable =\n",
              "            await google.colab.kernel.invokeFunction('convertToInteractive',\n",
              "                                                     [key], {});\n",
              "          if (!dataTable) return;\n",
              "\n",
              "          const docLinkHtml = 'Like what you see? Visit the ' +\n",
              "            '<a target=\"_blank\" href=https://colab.research.google.com/notebooks/data_table.ipynb>data table notebook</a>'\n",
              "            + ' to learn more about interactive tables.';\n",
              "          element.innerHTML = '';\n",
              "          dataTable['output_type'] = 'display_data';\n",
              "          await google.colab.output.renderOutput(dataTable, element);\n",
              "          const docLink = document.createElement('div');\n",
              "          docLink.innerHTML = docLinkHtml;\n",
              "          element.appendChild(docLink);\n",
              "        }\n",
              "      </script>\n",
              "    </div>\n",
              "  </div>\n",
              "  "
            ]
          },
          "metadata": {},
          "execution_count": 17
        }
      ]
    },
    {
      "cell_type": "markdown",
      "source": [
        "> Fyuuuhhh, akhirnya selesai data cleaning"
      ],
      "metadata": {
        "id": "wkrKY1xOvmPV"
      }
    },
    {
      "cell_type": "markdown",
      "source": [
        "### Univariate Analysis"
      ],
      "metadata": {
        "id": "Gt-CUZWxVofG"
      }
    },
    {
      "cell_type": "markdown",
      "source": [
        "##### Kolom Kategorical"
      ],
      "metadata": {
        "id": "QSfBN8naV3p-"
      }
    },
    {
      "cell_type": "code",
      "source": [
        "categorical_col = cars.select_dtypes(['object'])\n",
        "categorical_col.head(2)"
      ],
      "metadata": {
        "colab": {
          "base_uri": "https://localhost:8080/",
          "height": 112
        },
        "id": "9s41JyvmV94a",
        "outputId": "c0c0afae-1f60-4b8f-e9f6-815d016489cb"
      },
      "execution_count": null,
      "outputs": [
        {
          "output_type": "execute_result",
          "data": {
            "text/plain": [
              "   mark  model    fuel      city     province\n",
              "0  opel  combo  Diesel     Janki  Mazowieckie\n",
              "1  opel  combo  Diesel  Katowice      Śląskie"
            ],
            "text/html": [
              "\n",
              "  <div id=\"df-dad6416d-8ec6-41ad-96bf-fabd35d4b5e8\">\n",
              "    <div class=\"colab-df-container\">\n",
              "      <div>\n",
              "<style scoped>\n",
              "    .dataframe tbody tr th:only-of-type {\n",
              "        vertical-align: middle;\n",
              "    }\n",
              "\n",
              "    .dataframe tbody tr th {\n",
              "        vertical-align: top;\n",
              "    }\n",
              "\n",
              "    .dataframe thead th {\n",
              "        text-align: right;\n",
              "    }\n",
              "</style>\n",
              "<table border=\"1\" class=\"dataframe\">\n",
              "  <thead>\n",
              "    <tr style=\"text-align: right;\">\n",
              "      <th></th>\n",
              "      <th>mark</th>\n",
              "      <th>model</th>\n",
              "      <th>fuel</th>\n",
              "      <th>city</th>\n",
              "      <th>province</th>\n",
              "    </tr>\n",
              "  </thead>\n",
              "  <tbody>\n",
              "    <tr>\n",
              "      <th>0</th>\n",
              "      <td>opel</td>\n",
              "      <td>combo</td>\n",
              "      <td>Diesel</td>\n",
              "      <td>Janki</td>\n",
              "      <td>Mazowieckie</td>\n",
              "    </tr>\n",
              "    <tr>\n",
              "      <th>1</th>\n",
              "      <td>opel</td>\n",
              "      <td>combo</td>\n",
              "      <td>Diesel</td>\n",
              "      <td>Katowice</td>\n",
              "      <td>Śląskie</td>\n",
              "    </tr>\n",
              "  </tbody>\n",
              "</table>\n",
              "</div>\n",
              "      <button class=\"colab-df-convert\" onclick=\"convertToInteractive('df-dad6416d-8ec6-41ad-96bf-fabd35d4b5e8')\"\n",
              "              title=\"Convert this dataframe to an interactive table.\"\n",
              "              style=\"display:none;\">\n",
              "        \n",
              "  <svg xmlns=\"http://www.w3.org/2000/svg\" height=\"24px\"viewBox=\"0 0 24 24\"\n",
              "       width=\"24px\">\n",
              "    <path d=\"M0 0h24v24H0V0z\" fill=\"none\"/>\n",
              "    <path d=\"M18.56 5.44l.94 2.06.94-2.06 2.06-.94-2.06-.94-.94-2.06-.94 2.06-2.06.94zm-11 1L8.5 8.5l.94-2.06 2.06-.94-2.06-.94L8.5 2.5l-.94 2.06-2.06.94zm10 10l.94 2.06.94-2.06 2.06-.94-2.06-.94-.94-2.06-.94 2.06-2.06.94z\"/><path d=\"M17.41 7.96l-1.37-1.37c-.4-.4-.92-.59-1.43-.59-.52 0-1.04.2-1.43.59L10.3 9.45l-7.72 7.72c-.78.78-.78 2.05 0 2.83L4 21.41c.39.39.9.59 1.41.59.51 0 1.02-.2 1.41-.59l7.78-7.78 2.81-2.81c.8-.78.8-2.07 0-2.86zM5.41 20L4 18.59l7.72-7.72 1.47 1.35L5.41 20z\"/>\n",
              "  </svg>\n",
              "      </button>\n",
              "      \n",
              "  <style>\n",
              "    .colab-df-container {\n",
              "      display:flex;\n",
              "      flex-wrap:wrap;\n",
              "      gap: 12px;\n",
              "    }\n",
              "\n",
              "    .colab-df-convert {\n",
              "      background-color: #E8F0FE;\n",
              "      border: none;\n",
              "      border-radius: 50%;\n",
              "      cursor: pointer;\n",
              "      display: none;\n",
              "      fill: #1967D2;\n",
              "      height: 32px;\n",
              "      padding: 0 0 0 0;\n",
              "      width: 32px;\n",
              "    }\n",
              "\n",
              "    .colab-df-convert:hover {\n",
              "      background-color: #E2EBFA;\n",
              "      box-shadow: 0px 1px 2px rgba(60, 64, 67, 0.3), 0px 1px 3px 1px rgba(60, 64, 67, 0.15);\n",
              "      fill: #174EA6;\n",
              "    }\n",
              "\n",
              "    [theme=dark] .colab-df-convert {\n",
              "      background-color: #3B4455;\n",
              "      fill: #D2E3FC;\n",
              "    }\n",
              "\n",
              "    [theme=dark] .colab-df-convert:hover {\n",
              "      background-color: #434B5C;\n",
              "      box-shadow: 0px 1px 3px 1px rgba(0, 0, 0, 0.15);\n",
              "      filter: drop-shadow(0px 1px 2px rgba(0, 0, 0, 0.3));\n",
              "      fill: #FFFFFF;\n",
              "    }\n",
              "  </style>\n",
              "\n",
              "      <script>\n",
              "        const buttonEl =\n",
              "          document.querySelector('#df-dad6416d-8ec6-41ad-96bf-fabd35d4b5e8 button.colab-df-convert');\n",
              "        buttonEl.style.display =\n",
              "          google.colab.kernel.accessAllowed ? 'block' : 'none';\n",
              "\n",
              "        async function convertToInteractive(key) {\n",
              "          const element = document.querySelector('#df-dad6416d-8ec6-41ad-96bf-fabd35d4b5e8');\n",
              "          const dataTable =\n",
              "            await google.colab.kernel.invokeFunction('convertToInteractive',\n",
              "                                                     [key], {});\n",
              "          if (!dataTable) return;\n",
              "\n",
              "          const docLinkHtml = 'Like what you see? Visit the ' +\n",
              "            '<a target=\"_blank\" href=https://colab.research.google.com/notebooks/data_table.ipynb>data table notebook</a>'\n",
              "            + ' to learn more about interactive tables.';\n",
              "          element.innerHTML = '';\n",
              "          dataTable['output_type'] = 'display_data';\n",
              "          await google.colab.output.renderOutput(dataTable, element);\n",
              "          const docLink = document.createElement('div');\n",
              "          docLink.innerHTML = docLinkHtml;\n",
              "          element.appendChild(docLink);\n",
              "        }\n",
              "      </script>\n",
              "    </div>\n",
              "  </div>\n",
              "  "
            ]
          },
          "metadata": {},
          "execution_count": 18
        }
      ]
    },
    {
      "cell_type": "markdown",
      "source": [
        "> Sebelum analysis setiap fitur, mari siapkan fungsi analysis untuk mengurangi boilerplate kode"
      ],
      "metadata": {
        "id": "ab4ocM23Wa1C"
      }
    },
    {
      "cell_type": "code",
      "source": [
        "def feature_analysis(feature):\n",
        "  count = cars[feature].value_counts()\n",
        "  percent = 100*cars[feature].value_counts(normalize=True)\n",
        "  df = pd.DataFrame({'jumlah sampel':count, 'persentase':percent.round(1)})\n",
        "  print(df)\n",
        "  count.plot(kind='bar', title=feature);"
      ],
      "metadata": {
        "id": "3Rr29ycTWjVR"
      },
      "execution_count": null,
      "outputs": []
    },
    {
      "cell_type": "markdown",
      "source": [
        "> Fitur mark"
      ],
      "metadata": {
        "id": "cB4izo6aWWWf"
      }
    },
    {
      "cell_type": "code",
      "source": [
        "feature_analysis('mark')"
      ],
      "metadata": {
        "colab": {
          "base_uri": "https://localhost:8080/",
          "height": 765
        },
        "id": "d3XsLATWWZIf",
        "outputId": "bccaa837-725f-4a2f-8097-fff2c9d43349"
      },
      "execution_count": null,
      "outputs": [
        {
          "output_type": "stream",
          "name": "stdout",
          "text": [
            "               jumlah sampel  persentase\n",
            "opel                    9868        10.5\n",
            "volkswagen              9402        10.0\n",
            "ford                    8720         9.2\n",
            "audi                    6780         7.2\n",
            "renault                 6628         7.0\n",
            "bmw                     6027         6.4\n",
            "skoda                   5469         5.8\n",
            "toyota                  4792         5.1\n",
            "peugeot                 4765         5.0\n",
            "hyundai                 3863         4.1\n",
            "kia                     3449         3.7\n",
            "mercedes-benz           3249         3.4\n",
            "nissan                  2916         3.1\n",
            "seat                    2783         2.9\n",
            "mazda                   2757         2.9\n",
            "citroen                 2667         2.8\n",
            "fiat                    2656         2.8\n",
            "volvo                   2504         2.7\n",
            "honda                   1991         2.1\n",
            "mitsubishi              1020         1.1\n",
            "mini                     999         1.1\n",
            "alfa-romeo               573         0.6\n",
            "chevrolet                515         0.5\n"
          ]
        },
        {
          "output_type": "display_data",
          "data": {
            "text/plain": [
              "<Figure size 432x288 with 1 Axes>"
            ],
            "image/png": "[encoded data removed]"
          },
          "metadata": {
            "needs_background": "light"
          }
        }
      ]
    },
    {
      "cell_type": "markdown",
      "source": [
        "> Terdapat 23 kategori pada fitur mark, dengan jumlah terbanyak adalah kategori 'opel' dan jumlah paling sedikit adalah 'chevrolet'. Sekitar 20% lebih sampel berada pada kategori 'opel', 'volkswagen', dan 'ford'.\n",
        "\n",
        "> Fitur model"
      ],
      "metadata": {
        "id": "GepLU0oLXNoJ"
      }
    },
    {
      "cell_type": "code",
      "source": [
        "feature_analysis('model')"
      ],
      "metadata": {
        "colab": {
          "base_uri": "https://localhost:8080/",
          "height": 600
        },
        "id": "NWi9GLVFXj5B",
        "outputId": "9b961a2d-c29d-48e1-c4e1-f9e502206791"
      },
      "execution_count": null,
      "outputs": [
        {
          "output_type": "stream",
          "name": "stdout",
          "text": [
            "            jumlah sampel  persentase\n",
            "astra                3180         3.4\n",
            "a4                   2513         2.7\n",
            "golf                 2405         2.5\n",
            "seria-3              2267         2.4\n",
            "focus                2092         2.2\n",
            "...                   ...         ...\n",
            "explorer                2         0.0\n",
            "s-klasa                 2         0.0\n",
            "s5                      1         0.0\n",
            "california              1         0.0\n",
            "f150                    1         0.0\n",
            "\n",
            "[290 rows x 2 columns]\n"
          ]
        },
        {
          "output_type": "display_data",
          "data": {
            "text/plain": [
              "<Figure size 432x288 with 1 Axes>"
            ],
            "image/png": "[encoded data removed]"
          },
          "metadata": {
            "needs_background": "light"
          }
        }
      ]
    },
    {
      "cell_type": "markdown",
      "source": [
        "> Terdapat 290 kategori pada fitur model dengan jumlah terbanyak adalah kategori 'astra' dan paling sedikit adalah kategori 'f150'. Jumlah kategori pada fitur model terlalu banyak sehingga akan berakibat pada pelatihan model, maka mari hapus fitur ini\n",
        "\n"
      ],
      "metadata": {
        "id": "MNlX2ZpkXqsv"
      }
    },
    {
      "cell_type": "code",
      "source": [
        "cars.drop(['model'], inplace=True, axis=1)\n",
        "cars.head()"
      ],
      "metadata": {
        "colab": {
          "base_uri": "https://localhost:8080/",
          "height": 206
        },
        "id": "rREGJj_rh5Sq",
        "outputId": "ff6ac191-0303-4199-925e-812137364e8e"
      },
      "execution_count": null,
      "outputs": [
        {
          "output_type": "execute_result",
          "data": {
            "text/plain": [
              "   mark    year   mileage  vol_engine    fuel             city     province  \\\n",
              "0  opel  2015.0  139568.0      1248.0  Diesel            Janki  Mazowieckie   \n",
              "1  opel  2018.0   31991.0      1499.0  Diesel         Katowice      Śląskie   \n",
              "2  opel  2015.0  278437.0      1598.0  Diesel            Brzeg     Opolskie   \n",
              "3  opel  2016.0   47600.0      1248.0  Diesel        Korfantów     Opolskie   \n",
              "4  opel  2014.0  103000.0      1400.0     CNG  Tarnowskie Góry      Śląskie   \n",
              "\n",
              "   price  \n",
              "0  35900  \n",
              "1  78501  \n",
              "2  27000  \n",
              "3  30800  \n",
              "4  35900  "
            ],
            "text/html": [
              "\n",
              "  <div id=\"df-91a43397-feba-4b11-9746-46e669595071\">\n",
              "    <div class=\"colab-df-container\">\n",
              "      <div>\n",
              "<style scoped>\n",
              "    .dataframe tbody tr th:only-of-type {\n",
              "        vertical-align: middle;\n",
              "    }\n",
              "\n",
              "    .dataframe tbody tr th {\n",
              "        vertical-align: top;\n",
              "    }\n",
              "\n",
              "    .dataframe thead th {\n",
              "        text-align: right;\n",
              "    }\n",
              "</style>\n",
              "<table border=\"1\" class=\"dataframe\">\n",
              "  <thead>\n",
              "    <tr style=\"text-align: right;\">\n",
              "      <th></th>\n",
              "      <th>mark</th>\n",
              "      <th>year</th>\n",
              "      <th>mileage</th>\n",
              "      <th>vol_engine</th>\n",
              "      <th>fuel</th>\n",
              "      <th>city</th>\n",
              "      <th>province</th>\n",
              "      <th>price</th>\n",
              "    </tr>\n",
              "  </thead>\n",
              "  <tbody>\n",
              "    <tr>\n",
              "      <th>0</th>\n",
              "      <td>opel</td>\n",
              "      <td>2015.0</td>\n",
              "      <td>139568.0</td>\n",
              "      <td>1248.0</td>\n",
              "      <td>Diesel</td>\n",
              "      <td>Janki</td>\n",
              "      <td>Mazowieckie</td>\n",
              "      <td>35900</td>\n",
              "    </tr>\n",
              "    <tr>\n",
              "      <th>1</th>\n",
              "      <td>opel</td>\n",
              "      <td>2018.0</td>\n",
              "      <td>31991.0</td>\n",
              "      <td>1499.0</td>\n",
              "      <td>Diesel</td>\n",
              "      <td>Katowice</td>\n",
              "      <td>Śląskie</td>\n",
              "      <td>78501</td>\n",
              "    </tr>\n",
              "    <tr>\n",
              "      <th>2</th>\n",
              "      <td>opel</td>\n",
              "      <td>2015.0</td>\n",
              "      <td>278437.0</td>\n",
              "      <td>1598.0</td>\n",
              "      <td>Diesel</td>\n",
              "      <td>Brzeg</td>\n",
              "      <td>Opolskie</td>\n",
              "      <td>27000</td>\n",
              "    </tr>\n",
              "    <tr>\n",
              "      <th>3</th>\n",
              "      <td>opel</td>\n",
              "      <td>2016.0</td>\n",
              "      <td>47600.0</td>\n",
              "      <td>1248.0</td>\n",
              "      <td>Diesel</td>\n",
              "      <td>Korfantów</td>\n",
              "      <td>Opolskie</td>\n",
              "      <td>30800</td>\n",
              "    </tr>\n",
              "    <tr>\n",
              "      <th>4</th>\n",
              "      <td>opel</td>\n",
              "      <td>2014.0</td>\n",
              "      <td>103000.0</td>\n",
              "      <td>1400.0</td>\n",
              "      <td>CNG</td>\n",
              "      <td>Tarnowskie Góry</td>\n",
              "      <td>Śląskie</td>\n",
              "      <td>35900</td>\n",
              "    </tr>\n",
              "  </tbody>\n",
              "</table>\n",
              "</div>\n",
              "      <button class=\"colab-df-convert\" onclick=\"convertToInteractive('df-91a43397-feba-4b11-9746-46e669595071')\"\n",
              "              title=\"Convert this dataframe to an interactive table.\"\n",
              "              style=\"display:none;\">\n",
              "        \n",
              "  <svg xmlns=\"http://www.w3.org/2000/svg\" height=\"24px\"viewBox=\"0 0 24 24\"\n",
              "       width=\"24px\">\n",
              "    <path d=\"M0 0h24v24H0V0z\" fill=\"none\"/>\n",
              "    <path d=\"M18.56 5.44l.94 2.06.94-2.06 2.06-.94-2.06-.94-.94-2.06-.94 2.06-2.06.94zm-11 1L8.5 8.5l.94-2.06 2.06-.94-2.06-.94L8.5 2.5l-.94 2.06-2.06.94zm10 10l.94 2.06.94-2.06 2.06-.94-2.06-.94-.94-2.06-.94 2.06-2.06.94z\"/><path d=\"M17.41 7.96l-1.37-1.37c-.4-.4-.92-.59-1.43-.59-.52 0-1.04.2-1.43.59L10.3 9.45l-7.72 7.72c-.78.78-.78 2.05 0 2.83L4 21.41c.39.39.9.59 1.41.59.51 0 1.02-.2 1.41-.59l7.78-7.78 2.81-2.81c.8-.78.8-2.07 0-2.86zM5.41 20L4 18.59l7.72-7.72 1.47 1.35L5.41 20z\"/>\n",
              "  </svg>\n",
              "      </button>\n",
              "      \n",
              "  <style>\n",
              "    .colab-df-container {\n",
              "      display:flex;\n",
              "      flex-wrap:wrap;\n",
              "      gap: 12px;\n",
              "    }\n",
              "\n",
              "    .colab-df-convert {\n",
              "      background-color: #E8F0FE;\n",
              "      border: none;\n",
              "      border-radius: 50%;\n",
              "      cursor: pointer;\n",
              "      display: none;\n",
              "      fill: #1967D2;\n",
              "      height: 32px;\n",
              "      padding: 0 0 0 0;\n",
              "      width: 32px;\n",
              "    }\n",
              "\n",
              "    .colab-df-convert:hover {\n",
              "      background-color: #E2EBFA;\n",
              "      box-shadow: 0px 1px 2px rgba(60, 64, 67, 0.3), 0px 1px 3px 1px rgba(60, 64, 67, 0.15);\n",
              "      fill: #174EA6;\n",
              "    }\n",
              "\n",
              "    [theme=dark] .colab-df-convert {\n",
              "      background-color: #3B4455;\n",
              "      fill: #D2E3FC;\n",
              "    }\n",
              "\n",
              "    [theme=dark] .colab-df-convert:hover {\n",
              "      background-color: #434B5C;\n",
              "      box-shadow: 0px 1px 3px 1px rgba(0, 0, 0, 0.15);\n",
              "      filter: drop-shadow(0px 1px 2px rgba(0, 0, 0, 0.3));\n",
              "      fill: #FFFFFF;\n",
              "    }\n",
              "  </style>\n",
              "\n",
              "      <script>\n",
              "        const buttonEl =\n",
              "          document.querySelector('#df-91a43397-feba-4b11-9746-46e669595071 button.colab-df-convert');\n",
              "        buttonEl.style.display =\n",
              "          google.colab.kernel.accessAllowed ? 'block' : 'none';\n",
              "\n",
              "        async function convertToInteractive(key) {\n",
              "          const element = document.querySelector('#df-91a43397-feba-4b11-9746-46e669595071');\n",
              "          const dataTable =\n",
              "            await google.colab.kernel.invokeFunction('convertToInteractive',\n",
              "                                                     [key], {});\n",
              "          if (!dataTable) return;\n",
              "\n",
              "          const docLinkHtml = 'Like what you see? Visit the ' +\n",
              "            '<a target=\"_blank\" href=https://colab.research.google.com/notebooks/data_table.ipynb>data table notebook</a>'\n",
              "            + ' to learn more about interactive tables.';\n",
              "          element.innerHTML = '';\n",
              "          dataTable['output_type'] = 'display_data';\n",
              "          await google.colab.output.renderOutput(dataTable, element);\n",
              "          const docLink = document.createElement('div');\n",
              "          docLink.innerHTML = docLinkHtml;\n",
              "          element.appendChild(docLink);\n",
              "        }\n",
              "      </script>\n",
              "    </div>\n",
              "  </div>\n",
              "  "
            ]
          },
          "metadata": {},
          "execution_count": 22
        }
      ]
    },
    {
      "cell_type": "markdown",
      "source": [
        "> Fitur fuel"
      ],
      "metadata": {
        "id": "nOaAZLe_h5h_"
      }
    },
    {
      "cell_type": "code",
      "source": [
        "feature_analysis('fuel')"
      ],
      "metadata": {
        "colab": {
          "base_uri": "https://localhost:8080/",
          "height": 437
        },
        "id": "y3637APHYAxq",
        "outputId": "d07e9429-8494-4599-8887-89844d68f053"
      },
      "execution_count": null,
      "outputs": [
        {
          "output_type": "stream",
          "name": "stdout",
          "text": [
            "          jumlah sampel  persentase\n",
            "Gasoline          51473        54.5\n",
            "Diesel            37897        40.1\n",
            "LPG                3613         3.8\n",
            "Hybrid             1364         1.4\n",
            "CNG                  42         0.0\n",
            "Electric              4         0.0\n"
          ]
        },
        {
          "output_type": "display_data",
          "data": {
            "text/plain": [
              "<Figure size 432x288 with 1 Axes>"
            ],
            "image/png": "[encoded data removed]"
          },
          "metadata": {
            "needs_background": "light"
          }
        }
      ]
    },
    {
      "cell_type": "markdown",
      "source": [
        "> Terdapat 5 kategori pada fitur fuel dengan jumlah terbanyak adalah kategori 'Gasiline' dan paling sedikit adalah kategori 'Electric'. Dapat dilihat 90% lebih sampel merupakan kategori 'Gasoline' dan 'Diesel'\n",
        "\n",
        "> Fitur city"
      ],
      "metadata": {
        "id": "D1YkrptWYO1a"
      }
    },
    {
      "cell_type": "code",
      "source": [
        "feature_analysis('city')"
      ],
      "metadata": {
        "colab": {
          "base_uri": "https://localhost:8080/",
          "height": 647
        },
        "id": "5hj9RytuYjdm",
        "outputId": "fa2c76f6-ef0d-4afc-8282-e6417b755868"
      },
      "execution_count": null,
      "outputs": [
        {
          "output_type": "stream",
          "name": "stdout",
          "text": [
            "                    jumlah sampel  persentase\n",
            "Warszawa                     5793         6.1\n",
            "Łódź                         2250         2.4\n",
            "Kraków                       2139         2.3\n",
            "Wrocław                      1923         2.0\n",
            "Katowice                     1722         1.8\n",
            "...                           ...         ...\n",
            "Czernina Dolna                  1         0.0\n",
            "Matczyn                         1         0.0\n",
            "Wymysłów Francuski              1         0.0\n",
            "Antoniów                        1         0.0\n",
            "Bledzew                         1         0.0\n",
            "\n",
            "[4151 rows x 2 columns]\n"
          ]
        },
        {
          "output_type": "display_data",
          "data": {
            "text/plain": [
              "<Figure size 432x288 with 1 Axes>"
            ],
            "image/png": "[encoded data removed]"
          },
          "metadata": {
            "needs_background": "light"
          }
        }
      ]
    },
    {
      "cell_type": "markdown",
      "source": [
        "> Terdapat 4151 kategori dalam fitur city dengan jumlah terbanyak adalah kategori 'Warszawa' dan paling sedikit adalah kategori 'Bledzew'. Jumlah kategori pada fitur city terlalu banyak sehingga akan berakibat pada pelatihan model, maka mari hapus saja fitur city\n",
        "\n"
      ],
      "metadata": {
        "id": "eGpPjmkQY3D9"
      }
    },
    {
      "cell_type": "code",
      "source": [
        "cars.drop(['city'], inplace=True, axis=1)\n",
        "cars.head()"
      ],
      "metadata": {
        "colab": {
          "base_uri": "https://localhost:8080/",
          "height": 206
        },
        "id": "xo-RHuyrhCFM",
        "outputId": "abe50ead-3ecf-4954-d62e-cd485730aff3"
      },
      "execution_count": null,
      "outputs": [
        {
          "output_type": "execute_result",
          "data": {
            "text/plain": [
              "   mark    year   mileage  vol_engine    fuel     province  price\n",
              "0  opel  2015.0  139568.0      1248.0  Diesel  Mazowieckie  35900\n",
              "1  opel  2018.0   31991.0      1499.0  Diesel      Śląskie  78501\n",
              "2  opel  2015.0  278437.0      1598.0  Diesel     Opolskie  27000\n",
              "3  opel  2016.0   47600.0      1248.0  Diesel     Opolskie  30800\n",
              "4  opel  2014.0  103000.0      1400.0     CNG      Śląskie  35900"
            ],
            "text/html": [
              "\n",
              "  <div id=\"df-e585065c-ab84-4c66-af45-36940bff32ea\">\n",
              "    <div class=\"colab-df-container\">\n",
              "      <div>\n",
              "<style scoped>\n",
              "    .dataframe tbody tr th:only-of-type {\n",
              "        vertical-align: middle;\n",
              "    }\n",
              "\n",
              "    .dataframe tbody tr th {\n",
              "        vertical-align: top;\n",
              "    }\n",
              "\n",
              "    .dataframe thead th {\n",
              "        text-align: right;\n",
              "    }\n",
              "</style>\n",
              "<table border=\"1\" class=\"dataframe\">\n",
              "  <thead>\n",
              "    <tr style=\"text-align: right;\">\n",
              "      <th></th>\n",
              "      <th>mark</th>\n",
              "      <th>year</th>\n",
              "      <th>mileage</th>\n",
              "      <th>vol_engine</th>\n",
              "      <th>fuel</th>\n",
              "      <th>province</th>\n",
              "      <th>price</th>\n",
              "    </tr>\n",
              "  </thead>\n",
              "  <tbody>\n",
              "    <tr>\n",
              "      <th>0</th>\n",
              "      <td>opel</td>\n",
              "      <td>2015.0</td>\n",
              "      <td>139568.0</td>\n",
              "      <td>1248.0</td>\n",
              "      <td>Diesel</td>\n",
              "      <td>Mazowieckie</td>\n",
              "      <td>35900</td>\n",
              "    </tr>\n",
              "    <tr>\n",
              "      <th>1</th>\n",
              "      <td>opel</td>\n",
              "      <td>2018.0</td>\n",
              "      <td>31991.0</td>\n",
              "      <td>1499.0</td>\n",
              "      <td>Diesel</td>\n",
              "      <td>Śląskie</td>\n",
              "      <td>78501</td>\n",
              "    </tr>\n",
              "    <tr>\n",
              "      <th>2</th>\n",
              "      <td>opel</td>\n",
              "      <td>2015.0</td>\n",
              "      <td>278437.0</td>\n",
              "      <td>1598.0</td>\n",
              "      <td>Diesel</td>\n",
              "      <td>Opolskie</td>\n",
              "      <td>27000</td>\n",
              "    </tr>\n",
              "    <tr>\n",
              "      <th>3</th>\n",
              "      <td>opel</td>\n",
              "      <td>2016.0</td>\n",
              "      <td>47600.0</td>\n",
              "      <td>1248.0</td>\n",
              "      <td>Diesel</td>\n",
              "      <td>Opolskie</td>\n",
              "      <td>30800</td>\n",
              "    </tr>\n",
              "    <tr>\n",
              "      <th>4</th>\n",
              "      <td>opel</td>\n",
              "      <td>2014.0</td>\n",
              "      <td>103000.0</td>\n",
              "      <td>1400.0</td>\n",
              "      <td>CNG</td>\n",
              "      <td>Śląskie</td>\n",
              "      <td>35900</td>\n",
              "    </tr>\n",
              "  </tbody>\n",
              "</table>\n",
              "</div>\n",
              "      <button class=\"colab-df-convert\" onclick=\"convertToInteractive('df-e585065c-ab84-4c66-af45-36940bff32ea')\"\n",
              "              title=\"Convert this dataframe to an interactive table.\"\n",
              "              style=\"display:none;\">\n",
              "        \n",
              "  <svg xmlns=\"http://www.w3.org/2000/svg\" height=\"24px\"viewBox=\"0 0 24 24\"\n",
              "       width=\"24px\">\n",
              "    <path d=\"M0 0h24v24H0V0z\" fill=\"none\"/>\n",
              "    <path d=\"M18.56 5.44l.94 2.06.94-2.06 2.06-.94-2.06-.94-.94-2.06-.94 2.06-2.06.94zm-11 1L8.5 8.5l.94-2.06 2.06-.94-2.06-.94L8.5 2.5l-.94 2.06-2.06.94zm10 10l.94 2.06.94-2.06 2.06-.94-2.06-.94-.94-2.06-.94 2.06-2.06.94z\"/><path d=\"M17.41 7.96l-1.37-1.37c-.4-.4-.92-.59-1.43-.59-.52 0-1.04.2-1.43.59L10.3 9.45l-7.72 7.72c-.78.78-.78 2.05 0 2.83L4 21.41c.39.39.9.59 1.41.59.51 0 1.02-.2 1.41-.59l7.78-7.78 2.81-2.81c.8-.78.8-2.07 0-2.86zM5.41 20L4 18.59l7.72-7.72 1.47 1.35L5.41 20z\"/>\n",
              "  </svg>\n",
              "      </button>\n",
              "      \n",
              "  <style>\n",
              "    .colab-df-container {\n",
              "      display:flex;\n",
              "      flex-wrap:wrap;\n",
              "      gap: 12px;\n",
              "    }\n",
              "\n",
              "    .colab-df-convert {\n",
              "      background-color: #E8F0FE;\n",
              "      border: none;\n",
              "      border-radius: 50%;\n",
              "      cursor: pointer;\n",
              "      display: none;\n",
              "      fill: #1967D2;\n",
              "      height: 32px;\n",
              "      padding: 0 0 0 0;\n",
              "      width: 32px;\n",
              "    }\n",
              "\n",
              "    .colab-df-convert:hover {\n",
              "      background-color: #E2EBFA;\n",
              "      box-shadow: 0px 1px 2px rgba(60, 64, 67, 0.3), 0px 1px 3px 1px rgba(60, 64, 67, 0.15);\n",
              "      fill: #174EA6;\n",
              "    }\n",
              "\n",
              "    [theme=dark] .colab-df-convert {\n",
              "      background-color: #3B4455;\n",
              "      fill: #D2E3FC;\n",
              "    }\n",
              "\n",
              "    [theme=dark] .colab-df-convert:hover {\n",
              "      background-color: #434B5C;\n",
              "      box-shadow: 0px 1px 3px 1px rgba(0, 0, 0, 0.15);\n",
              "      filter: drop-shadow(0px 1px 2px rgba(0, 0, 0, 0.3));\n",
              "      fill: #FFFFFF;\n",
              "    }\n",
              "  </style>\n",
              "\n",
              "      <script>\n",
              "        const buttonEl =\n",
              "          document.querySelector('#df-e585065c-ab84-4c66-af45-36940bff32ea button.colab-df-convert');\n",
              "        buttonEl.style.display =\n",
              "          google.colab.kernel.accessAllowed ? 'block' : 'none';\n",
              "\n",
              "        async function convertToInteractive(key) {\n",
              "          const element = document.querySelector('#df-e585065c-ab84-4c66-af45-36940bff32ea');\n",
              "          const dataTable =\n",
              "            await google.colab.kernel.invokeFunction('convertToInteractive',\n",
              "                                                     [key], {});\n",
              "          if (!dataTable) return;\n",
              "\n",
              "          const docLinkHtml = 'Like what you see? Visit the ' +\n",
              "            '<a target=\"_blank\" href=https://colab.research.google.com/notebooks/data_table.ipynb>data table notebook</a>'\n",
              "            + ' to learn more about interactive tables.';\n",
              "          element.innerHTML = '';\n",
              "          dataTable['output_type'] = 'display_data';\n",
              "          await google.colab.output.renderOutput(dataTable, element);\n",
              "          const docLink = document.createElement('div');\n",
              "          docLink.innerHTML = docLinkHtml;\n",
              "          element.appendChild(docLink);\n",
              "        }\n",
              "      </script>\n",
              "    </div>\n",
              "  </div>\n",
              "  "
            ]
          },
          "metadata": {},
          "execution_count": 25
        }
      ]
    },
    {
      "cell_type": "markdown",
      "source": [
        "> Fitur province"
      ],
      "metadata": {
        "id": "2J4NbAeMhDGG"
      }
    },
    {
      "cell_type": "code",
      "source": [
        "feature_analysis('province')"
      ],
      "metadata": {
        "colab": {
          "base_uri": "https://localhost:8080/",
          "height": 814
        },
        "id": "UPuklL0PZMuS",
        "outputId": "e4aaf3f8-2049-457a-f634-f8fe9528923e"
      },
      "execution_count": null,
      "outputs": [
        {
          "output_type": "stream",
          "name": "stdout",
          "text": [
            "                          jumlah sampel  persentase\n",
            "Mazowieckie                       17361        18.4\n",
            "Śląskie                           13132        13.9\n",
            "Wielkopolskie                     11488        12.2\n",
            "Małopolskie                        7904         8.4\n",
            "Dolnośląskie                       7180         7.6\n",
            "Łódzkie                            6168         6.5\n",
            "Pomorskie                          5846         6.2\n",
            "Kujawsko-pomorskie                 4310         4.6\n",
            "Lubelskie                          3996         4.2\n",
            "Zachodniopomorskie                 3233         3.4\n",
            "Podkarpackie                       2996         3.2\n",
            "Świętokrzyskie                     2726         2.9\n",
            "Warmińsko-mazurskie                2437         2.6\n",
            "Lubuskie                           2222         2.4\n",
            "Opolskie                           1680         1.8\n",
            "Podlaskie                          1673         1.8\n",
            "Moravian-Silesian Region             34         0.0\n",
            "Berlin                                2         0.0\n",
            "Wiedeń                                1         0.0\n",
            "Niedersachsen                         1         0.0\n",
            "(                                     1         0.0\n",
            "Trenczyn                              1         0.0\n",
            "Nordrhein-Westfalen                   1         0.0\n"
          ]
        },
        {
          "output_type": "display_data",
          "data": {
            "text/plain": [
              "<Figure size 432x288 with 1 Axes>"
            ],
            "image/png": "[encoded data removed]"
          },
          "metadata": {
            "needs_background": "light"
          }
        }
      ]
    },
    {
      "cell_type": "markdown",
      "source": [
        "> Terdapat 23 kategori pada fitur province dengan jumlah sampel terbanyak berada pada kategori 'Mazowieckie' dan paling sedikit adalah kategori 'Northern-Westfalen'. Dapat dilihat 30% lebih sampel berasal dari kategori 'Mazowieckie', 'Slaskie', dan 'Wielkopolskie'."
      ],
      "metadata": {
        "id": "Mr61zu2MZXQe"
      }
    },
    {
      "cell_type": "markdown",
      "source": [
        "##### Kolom Numerik"
      ],
      "metadata": {
        "id": "TEjMaYIhWA3i"
      }
    },
    {
      "cell_type": "code",
      "source": [
        "numerical_col = cars.select_dtypes(['int', 'float'])\n",
        "numerical_col.head(2)"
      ],
      "metadata": {
        "colab": {
          "base_uri": "https://localhost:8080/",
          "height": 112
        },
        "id": "CbN5uJBBWDSG",
        "outputId": "7bad75e8-e3df-4e11-955a-26e32e8e1cbd"
      },
      "execution_count": null,
      "outputs": [
        {
          "output_type": "execute_result",
          "data": {
            "text/plain": [
              "     year   mileage  vol_engine  price\n",
              "0  2015.0  139568.0      1248.0  35900\n",
              "1  2018.0   31991.0      1499.0  78501"
            ],
            "text/html": [
              "\n",
              "  <div id=\"df-a92c24b0-c628-4ace-bc4b-60f8bf32e475\">\n",
              "    <div class=\"colab-df-container\">\n",
              "      <div>\n",
              "<style scoped>\n",
              "    .dataframe tbody tr th:only-of-type {\n",
              "        vertical-align: middle;\n",
              "    }\n",
              "\n",
              "    .dataframe tbody tr th {\n",
              "        vertical-align: top;\n",
              "    }\n",
              "\n",
              "    .dataframe thead th {\n",
              "        text-align: right;\n",
              "    }\n",
              "</style>\n",
              "<table border=\"1\" class=\"dataframe\">\n",
              "  <thead>\n",
              "    <tr style=\"text-align: right;\">\n",
              "      <th></th>\n",
              "      <th>year</th>\n",
              "      <th>mileage</th>\n",
              "      <th>vol_engine</th>\n",
              "      <th>price</th>\n",
              "    </tr>\n",
              "  </thead>\n",
              "  <tbody>\n",
              "    <tr>\n",
              "      <th>0</th>\n",
              "      <td>2015.0</td>\n",
              "      <td>139568.0</td>\n",
              "      <td>1248.0</td>\n",
              "      <td>35900</td>\n",
              "    </tr>\n",
              "    <tr>\n",
              "      <th>1</th>\n",
              "      <td>2018.0</td>\n",
              "      <td>31991.0</td>\n",
              "      <td>1499.0</td>\n",
              "      <td>78501</td>\n",
              "    </tr>\n",
              "  </tbody>\n",
              "</table>\n",
              "</div>\n",
              "      <button class=\"colab-df-convert\" onclick=\"convertToInteractive('df-a92c24b0-c628-4ace-bc4b-60f8bf32e475')\"\n",
              "              title=\"Convert this dataframe to an interactive table.\"\n",
              "              style=\"display:none;\">\n",
              "        \n",
              "  <svg xmlns=\"http://www.w3.org/2000/svg\" height=\"24px\"viewBox=\"0 0 24 24\"\n",
              "       width=\"24px\">\n",
              "    <path d=\"M0 0h24v24H0V0z\" fill=\"none\"/>\n",
              "    <path d=\"M18.56 5.44l.94 2.06.94-2.06 2.06-.94-2.06-.94-.94-2.06-.94 2.06-2.06.94zm-11 1L8.5 8.5l.94-2.06 2.06-.94-2.06-.94L8.5 2.5l-.94 2.06-2.06.94zm10 10l.94 2.06.94-2.06 2.06-.94-2.06-.94-.94-2.06-.94 2.06-2.06.94z\"/><path d=\"M17.41 7.96l-1.37-1.37c-.4-.4-.92-.59-1.43-.59-.52 0-1.04.2-1.43.59L10.3 9.45l-7.72 7.72c-.78.78-.78 2.05 0 2.83L4 21.41c.39.39.9.59 1.41.59.51 0 1.02-.2 1.41-.59l7.78-7.78 2.81-2.81c.8-.78.8-2.07 0-2.86zM5.41 20L4 18.59l7.72-7.72 1.47 1.35L5.41 20z\"/>\n",
              "  </svg>\n",
              "      </button>\n",
              "      \n",
              "  <style>\n",
              "    .colab-df-container {\n",
              "      display:flex;\n",
              "      flex-wrap:wrap;\n",
              "      gap: 12px;\n",
              "    }\n",
              "\n",
              "    .colab-df-convert {\n",
              "      background-color: #E8F0FE;\n",
              "      border: none;\n",
              "      border-radius: 50%;\n",
              "      cursor: pointer;\n",
              "      display: none;\n",
              "      fill: #1967D2;\n",
              "      height: 32px;\n",
              "      padding: 0 0 0 0;\n",
              "      width: 32px;\n",
              "    }\n",
              "\n",
              "    .colab-df-convert:hover {\n",
              "      background-color: #E2EBFA;\n",
              "      box-shadow: 0px 1px 2px rgba(60, 64, 67, 0.3), 0px 1px 3px 1px rgba(60, 64, 67, 0.15);\n",
              "      fill: #174EA6;\n",
              "    }\n",
              "\n",
              "    [theme=dark] .colab-df-convert {\n",
              "      background-color: #3B4455;\n",
              "      fill: #D2E3FC;\n",
              "    }\n",
              "\n",
              "    [theme=dark] .colab-df-convert:hover {\n",
              "      background-color: #434B5C;\n",
              "      box-shadow: 0px 1px 3px 1px rgba(0, 0, 0, 0.15);\n",
              "      filter: drop-shadow(0px 1px 2px rgba(0, 0, 0, 0.3));\n",
              "      fill: #FFFFFF;\n",
              "    }\n",
              "  </style>\n",
              "\n",
              "      <script>\n",
              "        const buttonEl =\n",
              "          document.querySelector('#df-a92c24b0-c628-4ace-bc4b-60f8bf32e475 button.colab-df-convert');\n",
              "        buttonEl.style.display =\n",
              "          google.colab.kernel.accessAllowed ? 'block' : 'none';\n",
              "\n",
              "        async function convertToInteractive(key) {\n",
              "          const element = document.querySelector('#df-a92c24b0-c628-4ace-bc4b-60f8bf32e475');\n",
              "          const dataTable =\n",
              "            await google.colab.kernel.invokeFunction('convertToInteractive',\n",
              "                                                     [key], {});\n",
              "          if (!dataTable) return;\n",
              "\n",
              "          const docLinkHtml = 'Like what you see? Visit the ' +\n",
              "            '<a target=\"_blank\" href=https://colab.research.google.com/notebooks/data_table.ipynb>data table notebook</a>'\n",
              "            + ' to learn more about interactive tables.';\n",
              "          element.innerHTML = '';\n",
              "          dataTable['output_type'] = 'display_data';\n",
              "          await google.colab.output.renderOutput(dataTable, element);\n",
              "          const docLink = document.createElement('div');\n",
              "          docLink.innerHTML = docLinkHtml;\n",
              "          element.appendChild(docLink);\n",
              "        }\n",
              "      </script>\n",
              "    </div>\n",
              "  </div>\n",
              "  "
            ]
          },
          "metadata": {},
          "execution_count": 27
        }
      ]
    },
    {
      "cell_type": "code",
      "source": [
        "numerical_col.hist(bins=50, figsize=(20,15))\n",
        "plt.show()"
      ],
      "metadata": {
        "colab": {
          "base_uri": "https://localhost:8080/",
          "height": 879
        },
        "id": "m9pyPqFKaG4N",
        "outputId": "d3c7b712-c6f7-4c82-d366-fc7715443404"
      },
      "execution_count": null,
      "outputs": [
        {
          "output_type": "display_data",
          "data": {
            "text/plain": [
              "<Figure size 1440x1080 with 4 Axes>"
            ],
            "image/png": "[encoded data removed]"
          },
          "metadata": {
            "needs_background": "light"
          }
        }
      ]
    },
    {
      "cell_type": "markdown",
      "source": [
        "> Berdasarkan histogram diatas terutama pada histogram price, dapat disimpulkan bahwa:\n",
        "\n",
        "*   Peningkatan harga mobil sebanding dengan penurunan jumlah sampel\n",
        "*   Rentang harga mobil cukup tinggi yaitu meningkat hingga \\$162.000\n",
        "*   Setengah harga mobil berada di bawah \\$100.000\n",
        "*   Distribusi harga miring ke kanan.\n",
        "\n",
        "\n",
        "\n"
      ],
      "metadata": {
        "id": "ZDQvGHdpaQWn"
      }
    },
    {
      "cell_type": "markdown",
      "source": [
        "### Multivariate Analysis"
      ],
      "metadata": {
        "id": "Ni2gboGOkRL4"
      }
    },
    {
      "cell_type": "markdown",
      "source": [
        "##### Kolom Kategorical"
      ],
      "metadata": {
        "id": "0hFYJta5kVS9"
      }
    },
    {
      "cell_type": "code",
      "source": [
        "categorical_col = cars.select_dtypes(['object'])\n",
        "for col in categorical_col:\n",
        "  sns.catplot(x=col, y=\"price\", kind=\"bar\", dodge=False, height = 4, aspect = 3,  data=cars, palette=\"Set3\")\n",
        "  plt.title(\"Rata-rata 'price' Relatif terhadap - {}\".format(col))"
      ],
      "metadata": {
        "colab": {
          "base_uri": "https://localhost:8080/",
          "height": 900
        },
        "id": "KYtSt7_3ouTf",
        "outputId": "c4f494f2-75ab-4936-b335-09d105b4617f"
      },
      "execution_count": null,
      "outputs": [
        {
          "output_type": "display_data",
          "data": {
            "text/plain": [
              "<Figure size 864x288 with 1 Axes>"
            ],
            "image/png": "[encoded data removed]"
          },
          "metadata": {
            "needs_background": "light"
          }
        },
        {
          "output_type": "display_data",
          "data": {
            "text/plain": [
              "<Figure size 864x288 with 1 Axes>"
            ],
            "image/png": "[encoded data removed]"
          },
          "metadata": {
            "needs_background": "light"
          }
        },
        {
          "output_type": "display_data",
          "data": {
            "text/plain": [
              "<Figure size 864x288 with 1 Axes>"
            ],
            "image/png": "[encoded data removed]"
          },
          "metadata": {
            "needs_background": "light"
          }
        }
      ]
    },
    {
      "cell_type": "markdown",
      "source": [
        "> Dengan mengamati harga relatif mobil terhadap fitur di atas, maka dapat disimpulkan bahwa:\n",
        "*   pada fitur mark, harga mobil relatif bervariasi tergantung merk mobil, sehingga dapat disimpulkan bahwa fitur mark berpengaruh besar terhadap harga mobil\n",
        "*   pada fitur fuel, harga mobil sangat tinggi pada dua kategori, yaitu hybrid dan electric sehingga dapat disimpulkan fitur fuel juga memiliki pengaruh besar terhadap price\n",
        "*   pada fitur province, harga mobil cenderung tinggi pada beberapa kategori, sehingga dapat disimpulkan bahwa harga mobil dipengaruhi oleh fitur province\n",
        "*   kesimpulan akhir, fitur kategori memiliki pengaruh besar terhadap price\n",
        "\n"
      ],
      "metadata": {
        "id": "JesoeEPsc37a"
      }
    },
    {
      "cell_type": "markdown",
      "source": [
        "##### Kolom Numerik"
      ],
      "metadata": {
        "id": "UMpIyYcnpL8y"
      }
    },
    {
      "cell_type": "markdown",
      "source": [
        "> Pairplot"
      ],
      "metadata": {
        "id": "yLbBJp6leu3c"
      }
    },
    {
      "cell_type": "code",
      "source": [
        "numerical_col = cars.select_dtypes(['int', 'float'])\n",
        "sns.pairplot(numerical_col, diag_kind = 'kde')"
      ],
      "metadata": {
        "colab": {
          "base_uri": "https://localhost:8080/",
          "height": 744
        },
        "id": "6GdaozFSlHM-",
        "outputId": "f1fb81f5-09d1-49e7-9f3a-cdfe1edc7fd3"
      },
      "execution_count": null,
      "outputs": [
        {
          "output_type": "execute_result",
          "data": {
            "text/plain": [
              "<seaborn.axisgrid.PairGrid at 0x7efe8451a210>"
            ]
          },
          "metadata": {},
          "execution_count": 30
        },
        {
          "output_type": "display_data",
          "data": {
            "text/plain": [
              "<Figure size 720x720 with 20 Axes>"
            ],
            "image/png": "[encoded data removed]"
          },
          "metadata": {
            "needs_background": "light"
          }
        }
      ]
    },
    {
      "cell_type": "markdown",
      "source": [
        "> Heatmap "
      ],
      "metadata": {
        "id": "fkdEhqidqShl"
      }
    },
    {
      "cell_type": "code",
      "source": [
        "plt.figure(figsize=(10, 8))\n",
        "correlation_matrix = numerical_col.corr().round(2)\n",
        "sns.heatmap(data=correlation_matrix, annot=True, cmap='coolwarm', linewidths=0.5, )\n",
        "plt.title(\"Correlation Matrix untuk Fitur Numerik \", size=20)"
      ],
      "metadata": {
        "colab": {
          "base_uri": "https://localhost:8080/",
          "height": 522
        },
        "id": "_W1Lt2GIqWvg",
        "outputId": "2b159106-b4ef-484e-c1ab-fa7ddac7c4fd"
      },
      "execution_count": null,
      "outputs": [
        {
          "output_type": "execute_result",
          "data": {
            "text/plain": [
              "Text(0.5, 1.0, 'Correlation Matrix untuk Fitur Numerik ')"
            ]
          },
          "metadata": {},
          "execution_count": 31
        },
        {
          "output_type": "display_data",
          "data": {
            "text/plain": [
              "<Figure size 720x576 with 2 Axes>"
            ],
            "image/png": "[encoded data removed]"
          },
          "metadata": {
            "needs_background": "light"
          }
        }
      ]
    },
    {
      "cell_type": "markdown",
      "source": [
        "> Berdasarkan visualisasi pairplot dan heatmap di atas, maka dapat disimpulkan hanya fitur year dan mileage yang memiliki cukup korelasi dengan price, sehingga mari hapus saja fitur vol_engine."
      ],
      "metadata": {
        "id": "nEWiE87NeyeZ"
      }
    },
    {
      "cell_type": "code",
      "source": [
        "cars.drop(['vol_engine'], inplace=True, axis=1)\n",
        "cars.head()"
      ],
      "metadata": {
        "colab": {
          "base_uri": "https://localhost:8080/",
          "height": 206
        },
        "id": "Eb3-HChSfKxs",
        "outputId": "33aefe4c-2941-4317-f5ab-c1783475684b"
      },
      "execution_count": null,
      "outputs": [
        {
          "output_type": "execute_result",
          "data": {
            "text/plain": [
              "   mark    year   mileage    fuel     province  price\n",
              "0  opel  2015.0  139568.0  Diesel  Mazowieckie  35900\n",
              "1  opel  2018.0   31991.0  Diesel      Śląskie  78501\n",
              "2  opel  2015.0  278437.0  Diesel     Opolskie  27000\n",
              "3  opel  2016.0   47600.0  Diesel     Opolskie  30800\n",
              "4  opel  2014.0  103000.0     CNG      Śląskie  35900"
            ],
            "text/html": [
              "\n",
              "  <div id=\"df-7d97cf10-5b74-4fb6-9aba-ebf51fc71911\">\n",
              "    <div class=\"colab-df-container\">\n",
              "      <div>\n",
              "<style scoped>\n",
              "    .dataframe tbody tr th:only-of-type {\n",
              "        vertical-align: middle;\n",
              "    }\n",
              "\n",
              "    .dataframe tbody tr th {\n",
              "        vertical-align: top;\n",
              "    }\n",
              "\n",
              "    .dataframe thead th {\n",
              "        text-align: right;\n",
              "    }\n",
              "</style>\n",
              "<table border=\"1\" class=\"dataframe\">\n",
              "  <thead>\n",
              "    <tr style=\"text-align: right;\">\n",
              "      <th></th>\n",
              "      <th>mark</th>\n",
              "      <th>year</th>\n",
              "      <th>mileage</th>\n",
              "      <th>fuel</th>\n",
              "      <th>province</th>\n",
              "      <th>price</th>\n",
              "    </tr>\n",
              "  </thead>\n",
              "  <tbody>\n",
              "    <tr>\n",
              "      <th>0</th>\n",
              "      <td>opel</td>\n",
              "      <td>2015.0</td>\n",
              "      <td>139568.0</td>\n",
              "      <td>Diesel</td>\n",
              "      <td>Mazowieckie</td>\n",
              "      <td>35900</td>\n",
              "    </tr>\n",
              "    <tr>\n",
              "      <th>1</th>\n",
              "      <td>opel</td>\n",
              "      <td>2018.0</td>\n",
              "      <td>31991.0</td>\n",
              "      <td>Diesel</td>\n",
              "      <td>Śląskie</td>\n",
              "      <td>78501</td>\n",
              "    </tr>\n",
              "    <tr>\n",
              "      <th>2</th>\n",
              "      <td>opel</td>\n",
              "      <td>2015.0</td>\n",
              "      <td>278437.0</td>\n",
              "      <td>Diesel</td>\n",
              "      <td>Opolskie</td>\n",
              "      <td>27000</td>\n",
              "    </tr>\n",
              "    <tr>\n",
              "      <th>3</th>\n",
              "      <td>opel</td>\n",
              "      <td>2016.0</td>\n",
              "      <td>47600.0</td>\n",
              "      <td>Diesel</td>\n",
              "      <td>Opolskie</td>\n",
              "      <td>30800</td>\n",
              "    </tr>\n",
              "    <tr>\n",
              "      <th>4</th>\n",
              "      <td>opel</td>\n",
              "      <td>2014.0</td>\n",
              "      <td>103000.0</td>\n",
              "      <td>CNG</td>\n",
              "      <td>Śląskie</td>\n",
              "      <td>35900</td>\n",
              "    </tr>\n",
              "  </tbody>\n",
              "</table>\n",
              "</div>\n",
              "      <button class=\"colab-df-convert\" onclick=\"convertToInteractive('df-7d97cf10-5b74-4fb6-9aba-ebf51fc71911')\"\n",
              "              title=\"Convert this dataframe to an interactive table.\"\n",
              "              style=\"display:none;\">\n",
              "        \n",
              "  <svg xmlns=\"http://www.w3.org/2000/svg\" height=\"24px\"viewBox=\"0 0 24 24\"\n",
              "       width=\"24px\">\n",
              "    <path d=\"M0 0h24v24H0V0z\" fill=\"none\"/>\n",
              "    <path d=\"M18.56 5.44l.94 2.06.94-2.06 2.06-.94-2.06-.94-.94-2.06-.94 2.06-2.06.94zm-11 1L8.5 8.5l.94-2.06 2.06-.94-2.06-.94L8.5 2.5l-.94 2.06-2.06.94zm10 10l.94 2.06.94-2.06 2.06-.94-2.06-.94-.94-2.06-.94 2.06-2.06.94z\"/><path d=\"M17.41 7.96l-1.37-1.37c-.4-.4-.92-.59-1.43-.59-.52 0-1.04.2-1.43.59L10.3 9.45l-7.72 7.72c-.78.78-.78 2.05 0 2.83L4 21.41c.39.39.9.59 1.41.59.51 0 1.02-.2 1.41-.59l7.78-7.78 2.81-2.81c.8-.78.8-2.07 0-2.86zM5.41 20L4 18.59l7.72-7.72 1.47 1.35L5.41 20z\"/>\n",
              "  </svg>\n",
              "      </button>\n",
              "      \n",
              "  <style>\n",
              "    .colab-df-container {\n",
              "      display:flex;\n",
              "      flex-wrap:wrap;\n",
              "      gap: 12px;\n",
              "    }\n",
              "\n",
              "    .colab-df-convert {\n",
              "      background-color: #E8F0FE;\n",
              "      border: none;\n",
              "      border-radius: 50%;\n",
              "      cursor: pointer;\n",
              "      display: none;\n",
              "      fill: #1967D2;\n",
              "      height: 32px;\n",
              "      padding: 0 0 0 0;\n",
              "      width: 32px;\n",
              "    }\n",
              "\n",
              "    .colab-df-convert:hover {\n",
              "      background-color: #E2EBFA;\n",
              "      box-shadow: 0px 1px 2px rgba(60, 64, 67, 0.3), 0px 1px 3px 1px rgba(60, 64, 67, 0.15);\n",
              "      fill: #174EA6;\n",
              "    }\n",
              "\n",
              "    [theme=dark] .colab-df-convert {\n",
              "      background-color: #3B4455;\n",
              "      fill: #D2E3FC;\n",
              "    }\n",
              "\n",
              "    [theme=dark] .colab-df-convert:hover {\n",
              "      background-color: #434B5C;\n",
              "      box-shadow: 0px 1px 3px 1px rgba(0, 0, 0, 0.15);\n",
              "      filter: drop-shadow(0px 1px 2px rgba(0, 0, 0, 0.3));\n",
              "      fill: #FFFFFF;\n",
              "    }\n",
              "  </style>\n",
              "\n",
              "      <script>\n",
              "        const buttonEl =\n",
              "          document.querySelector('#df-7d97cf10-5b74-4fb6-9aba-ebf51fc71911 button.colab-df-convert');\n",
              "        buttonEl.style.display =\n",
              "          google.colab.kernel.accessAllowed ? 'block' : 'none';\n",
              "\n",
              "        async function convertToInteractive(key) {\n",
              "          const element = document.querySelector('#df-7d97cf10-5b74-4fb6-9aba-ebf51fc71911');\n",
              "          const dataTable =\n",
              "            await google.colab.kernel.invokeFunction('convertToInteractive',\n",
              "                                                     [key], {});\n",
              "          if (!dataTable) return;\n",
              "\n",
              "          const docLinkHtml = 'Like what you see? Visit the ' +\n",
              "            '<a target=\"_blank\" href=https://colab.research.google.com/notebooks/data_table.ipynb>data table notebook</a>'\n",
              "            + ' to learn more about interactive tables.';\n",
              "          element.innerHTML = '';\n",
              "          dataTable['output_type'] = 'display_data';\n",
              "          await google.colab.output.renderOutput(dataTable, element);\n",
              "          const docLink = document.createElement('div');\n",
              "          docLink.innerHTML = docLinkHtml;\n",
              "          element.appendChild(docLink);\n",
              "        }\n",
              "      </script>\n",
              "    </div>\n",
              "  </div>\n",
              "  "
            ]
          },
          "metadata": {},
          "execution_count": 32
        }
      ]
    },
    {
      "cell_type": "markdown",
      "source": [
        "> Fyuuuhhh, akhirnya selesai juga EDA. Selanjutnya adalah data preparation"
      ],
      "metadata": {
        "id": "Pk565TpMfgVo"
      }
    },
    {
      "cell_type": "markdown",
      "source": [
        "# Data Preparation"
      ],
      "metadata": {
        "id": "TM5BpWuTfni7"
      }
    },
    {
      "cell_type": "markdown",
      "source": [
        "### Encoding Fitur Kategori"
      ],
      "metadata": {
        "id": "l7YaRvz9jt2O"
      }
    },
    {
      "cell_type": "code",
      "source": [
        "cars = pd.concat([cars, pd.get_dummies(cars['mark'], prefix='mark')],axis=1)\n",
        "cars = pd.concat([cars, pd.get_dummies(cars['fuel'], prefix='fuel')],axis=1)\n",
        "cars = pd.concat([cars, pd.get_dummies(cars['province'], prefix='province')],axis=1)\n",
        "cars.drop(['mark','fuel','province'], axis=1, inplace=True)\n",
        "cars.head()"
      ],
      "metadata": {
        "colab": {
          "base_uri": "https://localhost:8080/",
          "height": 317
        },
        "id": "B3xMMgNOfrqs",
        "outputId": "815a628d-5380-49b4-bbef-32923fdf40a0"
      },
      "execution_count": null,
      "outputs": [
        {
          "output_type": "execute_result",
          "data": {
            "text/plain": [
              "     year   mileage  price  mark_alfa-romeo  mark_audi  mark_bmw  \\\n",
              "0  2015.0  139568.0  35900                0          0         0   \n",
              "1  2018.0   31991.0  78501                0          0         0   \n",
              "2  2015.0  278437.0  27000                0          0         0   \n",
              "3  2016.0   47600.0  30800                0          0         0   \n",
              "4  2014.0  103000.0  35900                0          0         0   \n",
              "\n",
              "   mark_chevrolet  mark_citroen  mark_fiat  mark_ford  ...  \\\n",
              "0               0             0          0          0  ...   \n",
              "1               0             0          0          0  ...   \n",
              "2               0             0          0          0  ...   \n",
              "3               0             0          0          0  ...   \n",
              "4               0             0          0          0  ...   \n",
              "\n",
              "   province_Podlaskie  province_Pomorskie  province_Trenczyn  \\\n",
              "0                   0                   0                  0   \n",
              "1                   0                   0                  0   \n",
              "2                   0                   0                  0   \n",
              "3                   0                   0                  0   \n",
              "4                   0                   0                  0   \n",
              "\n",
              "   province_Warmińsko-mazurskie  province_Wiedeń  province_Wielkopolskie  \\\n",
              "0                             0                0                       0   \n",
              "1                             0                0                       0   \n",
              "2                             0                0                       0   \n",
              "3                             0                0                       0   \n",
              "4                             0                0                       0   \n",
              "\n",
              "   province_Zachodniopomorskie  province_Łódzkie  province_Śląskie  \\\n",
              "0                            0                 0                 0   \n",
              "1                            0                 0                 1   \n",
              "2                            0                 0                 0   \n",
              "3                            0                 0                 0   \n",
              "4                            0                 0                 1   \n",
              "\n",
              "   province_Świętokrzyskie  \n",
              "0                        0  \n",
              "1                        0  \n",
              "2                        0  \n",
              "3                        0  \n",
              "4                        0  \n",
              "\n",
              "[5 rows x 55 columns]"
            ],
            "text/html": [
              "\n",
              "  <div id=\"df-96e21646-06c4-419b-839d-6f5e0b18d3fb\">\n",
              "    <div class=\"colab-df-container\">\n",
              "      <div>\n",
              "<style scoped>\n",
              "    .dataframe tbody tr th:only-of-type {\n",
              "        vertical-align: middle;\n",
              "    }\n",
              "\n",
              "    .dataframe tbody tr th {\n",
              "        vertical-align: top;\n",
              "    }\n",
              "\n",
              "    .dataframe thead th {\n",
              "        text-align: right;\n",
              "    }\n",
              "</style>\n",
              "<table border=\"1\" class=\"dataframe\">\n",
              "  <thead>\n",
              "    <tr style=\"text-align: right;\">\n",
              "      <th></th>\n",
              "      <th>year</th>\n",
              "      <th>mileage</th>\n",
              "      <th>price</th>\n",
              "      <th>mark_alfa-romeo</th>\n",
              "      <th>mark_audi</th>\n",
              "      <th>mark_bmw</th>\n",
              "      <th>mark_chevrolet</th>\n",
              "      <th>mark_citroen</th>\n",
              "      <th>mark_fiat</th>\n",
              "      <th>mark_ford</th>\n",
              "      <th>...</th>\n",
              "      <th>province_Podlaskie</th>\n",
              "      <th>province_Pomorskie</th>\n",
              "      <th>province_Trenczyn</th>\n",
              "      <th>province_Warmińsko-mazurskie</th>\n",
              "      <th>province_Wiedeń</th>\n",
              "      <th>province_Wielkopolskie</th>\n",
              "      <th>province_Zachodniopomorskie</th>\n",
              "      <th>province_Łódzkie</th>\n",
              "      <th>province_Śląskie</th>\n",
              "      <th>province_Świętokrzyskie</th>\n",
              "    </tr>\n",
              "  </thead>\n",
              "  <tbody>\n",
              "    <tr>\n",
              "      <th>0</th>\n",
              "      <td>2015.0</td>\n",
              "      <td>139568.0</td>\n",
              "      <td>35900</td>\n",
              "      <td>0</td>\n",
              "      <td>0</td>\n",
              "      <td>0</td>\n",
              "      <td>0</td>\n",
              "      <td>0</td>\n",
              "      <td>0</td>\n",
              "      <td>0</td>\n",
              "      <td>...</td>\n",
              "      <td>0</td>\n",
              "      <td>0</td>\n",
              "      <td>0</td>\n",
              "      <td>0</td>\n",
              "      <td>0</td>\n",
              "      <td>0</td>\n",
              "      <td>0</td>\n",
              "      <td>0</td>\n",
              "      <td>0</td>\n",
              "      <td>0</td>\n",
              "    </tr>\n",
              "    <tr>\n",
              "      <th>1</th>\n",
              "      <td>2018.0</td>\n",
              "      <td>31991.0</td>\n",
              "      <td>78501</td>\n",
              "      <td>0</td>\n",
              "      <td>0</td>\n",
              "      <td>0</td>\n",
              "      <td>0</td>\n",
              "      <td>0</td>\n",
              "      <td>0</td>\n",
              "      <td>0</td>\n",
              "      <td>...</td>\n",
              "      <td>0</td>\n",
              "      <td>0</td>\n",
              "      <td>0</td>\n",
              "      <td>0</td>\n",
              "      <td>0</td>\n",
              "      <td>0</td>\n",
              "      <td>0</td>\n",
              "      <td>0</td>\n",
              "      <td>1</td>\n",
              "      <td>0</td>\n",
              "    </tr>\n",
              "    <tr>\n",
              "      <th>2</th>\n",
              "      <td>2015.0</td>\n",
              "      <td>278437.0</td>\n",
              "      <td>27000</td>\n",
              "      <td>0</td>\n",
              "      <td>0</td>\n",
              "      <td>0</td>\n",
              "      <td>0</td>\n",
              "      <td>0</td>\n",
              "      <td>0</td>\n",
              "      <td>0</td>\n",
              "      <td>...</td>\n",
              "      <td>0</td>\n",
              "      <td>0</td>\n",
              "      <td>0</td>\n",
              "      <td>0</td>\n",
              "      <td>0</td>\n",
              "      <td>0</td>\n",
              "      <td>0</td>\n",
              "      <td>0</td>\n",
              "      <td>0</td>\n",
              "      <td>0</td>\n",
              "    </tr>\n",
              "    <tr>\n",
              "      <th>3</th>\n",
              "      <td>2016.0</td>\n",
              "      <td>47600.0</td>\n",
              "      <td>30800</td>\n",
              "      <td>0</td>\n",
              "      <td>0</td>\n",
              "      <td>0</td>\n",
              "      <td>0</td>\n",
              "      <td>0</td>\n",
              "      <td>0</td>\n",
              "      <td>0</td>\n",
              "      <td>...</td>\n",
              "      <td>0</td>\n",
              "      <td>0</td>\n",
              "      <td>0</td>\n",
              "      <td>0</td>\n",
              "      <td>0</td>\n",
              "      <td>0</td>\n",
              "      <td>0</td>\n",
              "      <td>0</td>\n",
              "      <td>0</td>\n",
              "      <td>0</td>\n",
              "    </tr>\n",
              "    <tr>\n",
              "      <th>4</th>\n",
              "      <td>2014.0</td>\n",
              "      <td>103000.0</td>\n",
              "      <td>35900</td>\n",
              "      <td>0</td>\n",
              "      <td>0</td>\n",
              "      <td>0</td>\n",
              "      <td>0</td>\n",
              "      <td>0</td>\n",
              "      <td>0</td>\n",
              "      <td>0</td>\n",
              "      <td>...</td>\n",
              "      <td>0</td>\n",
              "      <td>0</td>\n",
              "      <td>0</td>\n",
              "      <td>0</td>\n",
              "      <td>0</td>\n",
              "      <td>0</td>\n",
              "      <td>0</td>\n",
              "      <td>0</td>\n",
              "      <td>1</td>\n",
              "      <td>0</td>\n",
              "    </tr>\n",
              "  </tbody>\n",
              "</table>\n",
              "<p>5 rows × 55 columns</p>\n",
              "</div>\n",
              "      <button class=\"colab-df-convert\" onclick=\"convertToInteractive('df-96e21646-06c4-419b-839d-6f5e0b18d3fb')\"\n",
              "              title=\"Convert this dataframe to an interactive table.\"\n",
              "              style=\"display:none;\">\n",
              "        \n",
              "  <svg xmlns=\"http://www.w3.org/2000/svg\" height=\"24px\"viewBox=\"0 0 24 24\"\n",
              "       width=\"24px\">\n",
              "    <path d=\"M0 0h24v24H0V0z\" fill=\"none\"/>\n",
              "    <path d=\"M18.56 5.44l.94 2.06.94-2.06 2.06-.94-2.06-.94-.94-2.06-.94 2.06-2.06.94zm-11 1L8.5 8.5l.94-2.06 2.06-.94-2.06-.94L8.5 2.5l-.94 2.06-2.06.94zm10 10l.94 2.06.94-2.06 2.06-.94-2.06-.94-.94-2.06-.94 2.06-2.06.94z\"/><path d=\"M17.41 7.96l-1.37-1.37c-.4-.4-.92-.59-1.43-.59-.52 0-1.04.2-1.43.59L10.3 9.45l-7.72 7.72c-.78.78-.78 2.05 0 2.83L4 21.41c.39.39.9.59 1.41.59.51 0 1.02-.2 1.41-.59l7.78-7.78 2.81-2.81c.8-.78.8-2.07 0-2.86zM5.41 20L4 18.59l7.72-7.72 1.47 1.35L5.41 20z\"/>\n",
              "  </svg>\n",
              "      </button>\n",
              "      \n",
              "  <style>\n",
              "    .colab-df-container {\n",
              "      display:flex;\n",
              "      flex-wrap:wrap;\n",
              "      gap: 12px;\n",
              "    }\n",
              "\n",
              "    .colab-df-convert {\n",
              "      background-color: #E8F0FE;\n",
              "      border: none;\n",
              "      border-radius: 50%;\n",
              "      cursor: pointer;\n",
              "      display: none;\n",
              "      fill: #1967D2;\n",
              "      height: 32px;\n",
              "      padding: 0 0 0 0;\n",
              "      width: 32px;\n",
              "    }\n",
              "\n",
              "    .colab-df-convert:hover {\n",
              "      background-color: #E2EBFA;\n",
              "      box-shadow: 0px 1px 2px rgba(60, 64, 67, 0.3), 0px 1px 3px 1px rgba(60, 64, 67, 0.15);\n",
              "      fill: #174EA6;\n",
              "    }\n",
              "\n",
              "    [theme=dark] .colab-df-convert {\n",
              "      background-color: #3B4455;\n",
              "      fill: #D2E3FC;\n",
              "    }\n",
              "\n",
              "    [theme=dark] .colab-df-convert:hover {\n",
              "      background-color: #434B5C;\n",
              "      box-shadow: 0px 1px 3px 1px rgba(0, 0, 0, 0.15);\n",
              "      filter: drop-shadow(0px 1px 2px rgba(0, 0, 0, 0.3));\n",
              "      fill: #FFFFFF;\n",
              "    }\n",
              "  </style>\n",
              "\n",
              "      <script>\n",
              "        const buttonEl =\n",
              "          document.querySelector('#df-96e21646-06c4-419b-839d-6f5e0b18d3fb button.colab-df-convert');\n",
              "        buttonEl.style.display =\n",
              "          google.colab.kernel.accessAllowed ? 'block' : 'none';\n",
              "\n",
              "        async function convertToInteractive(key) {\n",
              "          const element = document.querySelector('#df-96e21646-06c4-419b-839d-6f5e0b18d3fb');\n",
              "          const dataTable =\n",
              "            await google.colab.kernel.invokeFunction('convertToInteractive',\n",
              "                                                     [key], {});\n",
              "          if (!dataTable) return;\n",
              "\n",
              "          const docLinkHtml = 'Like what you see? Visit the ' +\n",
              "            '<a target=\"_blank\" href=https://colab.research.google.com/notebooks/data_table.ipynb>data table notebook</a>'\n",
              "            + ' to learn more about interactive tables.';\n",
              "          element.innerHTML = '';\n",
              "          dataTable['output_type'] = 'display_data';\n",
              "          await google.colab.output.renderOutput(dataTable, element);\n",
              "          const docLink = document.createElement('div');\n",
              "          docLink.innerHTML = docLinkHtml;\n",
              "          element.appendChild(docLink);\n",
              "        }\n",
              "      </script>\n",
              "    </div>\n",
              "  </div>\n",
              "  "
            ]
          },
          "metadata": {},
          "execution_count": 33
        }
      ]
    },
    {
      "cell_type": "markdown",
      "source": [
        "### Train-Test-Split"
      ],
      "metadata": {
        "id": "auiIVgykpjJm"
      }
    },
    {
      "cell_type": "code",
      "source": [
        "y = cars[\"price\"]\n",
        "X = cars.drop([\"price\"], axis=1)\n",
        "X_train, X_test, y_train, y_test = train_test_split(X, y, test_size = 0.025, random_state = 123)"
      ],
      "metadata": {
        "id": "PLErxKqspm2H"
      },
      "execution_count": null,
      "outputs": []
    },
    {
      "cell_type": "markdown",
      "source": [
        "> Cek jumlah dataset"
      ],
      "metadata": {
        "id": "77EKb_MsqGRt"
      }
    },
    {
      "cell_type": "code",
      "source": [
        "print(f'Total # of sample in whole dataset: {len(X)}')\n",
        "print(f'Total # of sample in train dataset: {len(X_train)}')\n",
        "print(f'Total # of sample in test dataset: {len(X_test)}')"
      ],
      "metadata": {
        "colab": {
          "base_uri": "https://localhost:8080/"
        },
        "id": "68Ek566jqK5W",
        "outputId": "56e39e5b-4352-4db5-f466-abc42fa5d9b9"
      },
      "execution_count": null,
      "outputs": [
        {
          "output_type": "stream",
          "name": "stdout",
          "text": [
            "Total # of sample in whole dataset: 94393\n",
            "Total # of sample in train dataset: 92033\n",
            "Total # of sample in test dataset: 2360\n"
          ]
        }
      ]
    },
    {
      "cell_type": "markdown",
      "source": [
        "### Standarisasi"
      ],
      "metadata": {
        "id": "I2mXpBuJqUwP"
      }
    },
    {
      "cell_type": "code",
      "source": [
        "numerical_features = ['year', 'mileage']\n",
        "scaler = StandardScaler()\n",
        "scaler.fit(X_train[numerical_features])\n",
        "X_train[numerical_features] = scaler.transform(X_train.loc[:, numerical_features])\n",
        "X_train[numerical_features].head()"
      ],
      "metadata": {
        "colab": {
          "base_uri": "https://localhost:8080/",
          "height": 206
        },
        "id": "rrtB52xMqXxZ",
        "outputId": "7df5eb84-be95-4d01-91dc-54b17b9df709"
      },
      "execution_count": null,
      "outputs": [
        {
          "output_type": "execute_result",
          "data": {
            "text/plain": [
              "           year   mileage\n",
              "45277 -1.052019  1.058895\n",
              "68500 -0.090684  0.418478\n",
              "11857 -1.052019  1.284431\n",
              "77255 -1.436553 -0.101106\n",
              "41469  0.678384  0.194272"
            ],
            "text/html": [
              "\n",
              "  <div id=\"df-192fcdb5-67af-4f7b-a419-53e4a159bf82\">\n",
              "    <div class=\"colab-df-container\">\n",
              "      <div>\n",
              "<style scoped>\n",
              "    .dataframe tbody tr th:only-of-type {\n",
              "        vertical-align: middle;\n",
              "    }\n",
              "\n",
              "    .dataframe tbody tr th {\n",
              "        vertical-align: top;\n",
              "    }\n",
              "\n",
              "    .dataframe thead th {\n",
              "        text-align: right;\n",
              "    }\n",
              "</style>\n",
              "<table border=\"1\" class=\"dataframe\">\n",
              "  <thead>\n",
              "    <tr style=\"text-align: right;\">\n",
              "      <th></th>\n",
              "      <th>year</th>\n",
              "      <th>mileage</th>\n",
              "    </tr>\n",
              "  </thead>\n",
              "  <tbody>\n",
              "    <tr>\n",
              "      <th>45277</th>\n",
              "      <td>-1.052019</td>\n",
              "      <td>1.058895</td>\n",
              "    </tr>\n",
              "    <tr>\n",
              "      <th>68500</th>\n",
              "      <td>-0.090684</td>\n",
              "      <td>0.418478</td>\n",
              "    </tr>\n",
              "    <tr>\n",
              "      <th>11857</th>\n",
              "      <td>-1.052019</td>\n",
              "      <td>1.284431</td>\n",
              "    </tr>\n",
              "    <tr>\n",
              "      <th>77255</th>\n",
              "      <td>-1.436553</td>\n",
              "      <td>-0.101106</td>\n",
              "    </tr>\n",
              "    <tr>\n",
              "      <th>41469</th>\n",
              "      <td>0.678384</td>\n",
              "      <td>0.194272</td>\n",
              "    </tr>\n",
              "  </tbody>\n",
              "</table>\n",
              "</div>\n",
              "      <button class=\"colab-df-convert\" onclick=\"convertToInteractive('df-192fcdb5-67af-4f7b-a419-53e4a159bf82')\"\n",
              "              title=\"Convert this dataframe to an interactive table.\"\n",
              "              style=\"display:none;\">\n",
              "        \n",
              "  <svg xmlns=\"http://www.w3.org/2000/svg\" height=\"24px\"viewBox=\"0 0 24 24\"\n",
              "       width=\"24px\">\n",
              "    <path d=\"M0 0h24v24H0V0z\" fill=\"none\"/>\n",
              "    <path d=\"M18.56 5.44l.94 2.06.94-2.06 2.06-.94-2.06-.94-.94-2.06-.94 2.06-2.06.94zm-11 1L8.5 8.5l.94-2.06 2.06-.94-2.06-.94L8.5 2.5l-.94 2.06-2.06.94zm10 10l.94 2.06.94-2.06 2.06-.94-2.06-.94-.94-2.06-.94 2.06-2.06.94z\"/><path d=\"M17.41 7.96l-1.37-1.37c-.4-.4-.92-.59-1.43-.59-.52 0-1.04.2-1.43.59L10.3 9.45l-7.72 7.72c-.78.78-.78 2.05 0 2.83L4 21.41c.39.39.9.59 1.41.59.51 0 1.02-.2 1.41-.59l7.78-7.78 2.81-2.81c.8-.78.8-2.07 0-2.86zM5.41 20L4 18.59l7.72-7.72 1.47 1.35L5.41 20z\"/>\n",
              "  </svg>\n",
              "      </button>\n",
              "      \n",
              "  <style>\n",
              "    .colab-df-container {\n",
              "      display:flex;\n",
              "      flex-wrap:wrap;\n",
              "      gap: 12px;\n",
              "    }\n",
              "\n",
              "    .colab-df-convert {\n",
              "      background-color: #E8F0FE;\n",
              "      border: none;\n",
              "      border-radius: 50%;\n",
              "      cursor: pointer;\n",
              "      display: none;\n",
              "      fill: #1967D2;\n",
              "      height: 32px;\n",
              "      padding: 0 0 0 0;\n",
              "      width: 32px;\n",
              "    }\n",
              "\n",
              "    .colab-df-convert:hover {\n",
              "      background-color: #E2EBFA;\n",
              "      box-shadow: 0px 1px 2px rgba(60, 64, 67, 0.3), 0px 1px 3px 1px rgba(60, 64, 67, 0.15);\n",
              "      fill: #174EA6;\n",
              "    }\n",
              "\n",
              "    [theme=dark] .colab-df-convert {\n",
              "      background-color: #3B4455;\n",
              "      fill: #D2E3FC;\n",
              "    }\n",
              "\n",
              "    [theme=dark] .colab-df-convert:hover {\n",
              "      background-color: #434B5C;\n",
              "      box-shadow: 0px 1px 3px 1px rgba(0, 0, 0, 0.15);\n",
              "      filter: drop-shadow(0px 1px 2px rgba(0, 0, 0, 0.3));\n",
              "      fill: #FFFFFF;\n",
              "    }\n",
              "  </style>\n",
              "\n",
              "      <script>\n",
              "        const buttonEl =\n",
              "          document.querySelector('#df-192fcdb5-67af-4f7b-a419-53e4a159bf82 button.colab-df-convert');\n",
              "        buttonEl.style.display =\n",
              "          google.colab.kernel.accessAllowed ? 'block' : 'none';\n",
              "\n",
              "        async function convertToInteractive(key) {\n",
              "          const element = document.querySelector('#df-192fcdb5-67af-4f7b-a419-53e4a159bf82');\n",
              "          const dataTable =\n",
              "            await google.colab.kernel.invokeFunction('convertToInteractive',\n",
              "                                                     [key], {});\n",
              "          if (!dataTable) return;\n",
              "\n",
              "          const docLinkHtml = 'Like what you see? Visit the ' +\n",
              "            '<a target=\"_blank\" href=https://colab.research.google.com/notebooks/data_table.ipynb>data table notebook</a>'\n",
              "            + ' to learn more about interactive tables.';\n",
              "          element.innerHTML = '';\n",
              "          dataTable['output_type'] = 'display_data';\n",
              "          await google.colab.output.renderOutput(dataTable, element);\n",
              "          const docLink = document.createElement('div');\n",
              "          docLink.innerHTML = docLinkHtml;\n",
              "          element.appendChild(docLink);\n",
              "        }\n",
              "      </script>\n",
              "    </div>\n",
              "  </div>\n",
              "  "
            ]
          },
          "metadata": {},
          "execution_count": 83
        }
      ]
    },
    {
      "cell_type": "markdown",
      "source": [
        "> Cek mean dan standar deviasi menggunakan describe untuk memastikan nilainya 0 dan 1 setelah distandarisasi"
      ],
      "metadata": {
        "id": "aq84yHLNs8gl"
      }
    },
    {
      "cell_type": "code",
      "source": [
        "X_train[numerical_features].describe().round(4)"
      ],
      "metadata": {
        "colab": {
          "base_uri": "https://localhost:8080/",
          "height": 300
        },
        "id": "zr9eOq_ss7gL",
        "outputId": "61b542ea-56ed-4d56-c009-67946e91dda2"
      },
      "execution_count": null,
      "outputs": [
        {
          "output_type": "execute_result",
          "data": {
            "text/plain": [
              "             year     mileage\n",
              "count  92033.0000  92033.0000\n",
              "mean      -0.0000      0.0000\n",
              "std        1.0000      1.0000\n",
              "min       -2.9747     -1.7928\n",
              "25%       -0.6675     -0.7415\n",
              "50%        0.1016      0.0681\n",
              "75%        0.8707      0.6722\n",
              "max        1.8320      3.0565"
            ],
            "text/html": [
              "\n",
              "  <div id=\"df-7cd5ca68-ffec-443e-a68e-2e924aeb8126\">\n",
              "    <div class=\"colab-df-container\">\n",
              "      <div>\n",
              "<style scoped>\n",
              "    .dataframe tbody tr th:only-of-type {\n",
              "        vertical-align: middle;\n",
              "    }\n",
              "\n",
              "    .dataframe tbody tr th {\n",
              "        vertical-align: top;\n",
              "    }\n",
              "\n",
              "    .dataframe thead th {\n",
              "        text-align: right;\n",
              "    }\n",
              "</style>\n",
              "<table border=\"1\" class=\"dataframe\">\n",
              "  <thead>\n",
              "    <tr style=\"text-align: right;\">\n",
              "      <th></th>\n",
              "      <th>year</th>\n",
              "      <th>mileage</th>\n",
              "    </tr>\n",
              "  </thead>\n",
              "  <tbody>\n",
              "    <tr>\n",
              "      <th>count</th>\n",
              "      <td>92033.0000</td>\n",
              "      <td>92033.0000</td>\n",
              "    </tr>\n",
              "    <tr>\n",
              "      <th>mean</th>\n",
              "      <td>-0.0000</td>\n",
              "      <td>0.0000</td>\n",
              "    </tr>\n",
              "    <tr>\n",
              "      <th>std</th>\n",
              "      <td>1.0000</td>\n",
              "      <td>1.0000</td>\n",
              "    </tr>\n",
              "    <tr>\n",
              "      <th>min</th>\n",
              "      <td>-2.9747</td>\n",
              "      <td>-1.7928</td>\n",
              "    </tr>\n",
              "    <tr>\n",
              "      <th>25%</th>\n",
              "      <td>-0.6675</td>\n",
              "      <td>-0.7415</td>\n",
              "    </tr>\n",
              "    <tr>\n",
              "      <th>50%</th>\n",
              "      <td>0.1016</td>\n",
              "      <td>0.0681</td>\n",
              "    </tr>\n",
              "    <tr>\n",
              "      <th>75%</th>\n",
              "      <td>0.8707</td>\n",
              "      <td>0.6722</td>\n",
              "    </tr>\n",
              "    <tr>\n",
              "      <th>max</th>\n",
              "      <td>1.8320</td>\n",
              "      <td>3.0565</td>\n",
              "    </tr>\n",
              "  </tbody>\n",
              "</table>\n",
              "</div>\n",
              "      <button class=\"colab-df-convert\" onclick=\"convertToInteractive('df-7cd5ca68-ffec-443e-a68e-2e924aeb8126')\"\n",
              "              title=\"Convert this dataframe to an interactive table.\"\n",
              "              style=\"display:none;\">\n",
              "        \n",
              "  <svg xmlns=\"http://www.w3.org/2000/svg\" height=\"24px\"viewBox=\"0 0 24 24\"\n",
              "       width=\"24px\">\n",
              "    <path d=\"M0 0h24v24H0V0z\" fill=\"none\"/>\n",
              "    <path d=\"M18.56 5.44l.94 2.06.94-2.06 2.06-.94-2.06-.94-.94-2.06-.94 2.06-2.06.94zm-11 1L8.5 8.5l.94-2.06 2.06-.94-2.06-.94L8.5 2.5l-.94 2.06-2.06.94zm10 10l.94 2.06.94-2.06 2.06-.94-2.06-.94-.94-2.06-.94 2.06-2.06.94z\"/><path d=\"M17.41 7.96l-1.37-1.37c-.4-.4-.92-.59-1.43-.59-.52 0-1.04.2-1.43.59L10.3 9.45l-7.72 7.72c-.78.78-.78 2.05 0 2.83L4 21.41c.39.39.9.59 1.41.59.51 0 1.02-.2 1.41-.59l7.78-7.78 2.81-2.81c.8-.78.8-2.07 0-2.86zM5.41 20L4 18.59l7.72-7.72 1.47 1.35L5.41 20z\"/>\n",
              "  </svg>\n",
              "      </button>\n",
              "      \n",
              "  <style>\n",
              "    .colab-df-container {\n",
              "      display:flex;\n",
              "      flex-wrap:wrap;\n",
              "      gap: 12px;\n",
              "    }\n",
              "\n",
              "    .colab-df-convert {\n",
              "      background-color: #E8F0FE;\n",
              "      border: none;\n",
              "      border-radius: 50%;\n",
              "      cursor: pointer;\n",
              "      display: none;\n",
              "      fill: #1967D2;\n",
              "      height: 32px;\n",
              "      padding: 0 0 0 0;\n",
              "      width: 32px;\n",
              "    }\n",
              "\n",
              "    .colab-df-convert:hover {\n",
              "      background-color: #E2EBFA;\n",
              "      box-shadow: 0px 1px 2px rgba(60, 64, 67, 0.3), 0px 1px 3px 1px rgba(60, 64, 67, 0.15);\n",
              "      fill: #174EA6;\n",
              "    }\n",
              "\n",
              "    [theme=dark] .colab-df-convert {\n",
              "      background-color: #3B4455;\n",
              "      fill: #D2E3FC;\n",
              "    }\n",
              "\n",
              "    [theme=dark] .colab-df-convert:hover {\n",
              "      background-color: #434B5C;\n",
              "      box-shadow: 0px 1px 3px 1px rgba(0, 0, 0, 0.15);\n",
              "      filter: drop-shadow(0px 1px 2px rgba(0, 0, 0, 0.3));\n",
              "      fill: #FFFFFF;\n",
              "    }\n",
              "  </style>\n",
              "\n",
              "      <script>\n",
              "        const buttonEl =\n",
              "          document.querySelector('#df-7cd5ca68-ffec-443e-a68e-2e924aeb8126 button.colab-df-convert');\n",
              "        buttonEl.style.display =\n",
              "          google.colab.kernel.accessAllowed ? 'block' : 'none';\n",
              "\n",
              "        async function convertToInteractive(key) {\n",
              "          const element = document.querySelector('#df-7cd5ca68-ffec-443e-a68e-2e924aeb8126');\n",
              "          const dataTable =\n",
              "            await google.colab.kernel.invokeFunction('convertToInteractive',\n",
              "                                                     [key], {});\n",
              "          if (!dataTable) return;\n",
              "\n",
              "          const docLinkHtml = 'Like what you see? Visit the ' +\n",
              "            '<a target=\"_blank\" href=https://colab.research.google.com/notebooks/data_table.ipynb>data table notebook</a>'\n",
              "            + ' to learn more about interactive tables.';\n",
              "          element.innerHTML = '';\n",
              "          dataTable['output_type'] = 'display_data';\n",
              "          await google.colab.output.renderOutput(dataTable, element);\n",
              "          const docLink = document.createElement('div');\n",
              "          docLink.innerHTML = docLinkHtml;\n",
              "          element.appendChild(docLink);\n",
              "        }\n",
              "      </script>\n",
              "    </div>\n",
              "  </div>\n",
              "  "
            ]
          },
          "metadata": {},
          "execution_count": 84
        }
      ]
    },
    {
      "cell_type": "markdown",
      "source": [
        "# Model Development\n",
        "> Pada kasus prediksi harga mobil ini, saya menggunakan tiga model, yaitu KNN, RandomForest, dan AdaBoost. Ketiga model tersebut nantinya akan dibandingkan dan model terbaik akan dijadikan sebagai model evaluasi. Sebelum melakukan model development, mari siapkan dataframe untuk analisis ketiga model tersebut."
      ],
      "metadata": {
        "id": "na4egpskuW1R"
      }
    },
    {
      "cell_type": "code",
      "source": [
        "models = pd.DataFrame(index=['train_mse', 'test_mse'], \n",
        "                      columns=['KNN', 'RandomForest', 'Boosting'])"
      ],
      "metadata": {
        "id": "Kuov80qbvEKe"
      },
      "execution_count": null,
      "outputs": []
    },
    {
      "cell_type": "markdown",
      "source": [
        "### K-Nearest Neighbor"
      ],
      "metadata": {
        "id": "uTUb5ABFuZnQ"
      }
    },
    {
      "cell_type": "code",
      "source": [
        "knn = KNeighborsRegressor(n_neighbors=15)\n",
        "knn.fit(X_train, y_train)\n",
        "models.loc['train_mse','KNN'] = mean_squared_error(y_pred = knn.predict(X_train), y_true=y_train)"
      ],
      "metadata": {
        "id": "QMyOnqByucpc"
      },
      "execution_count": null,
      "outputs": []
    },
    {
      "cell_type": "markdown",
      "source": [
        "### Random Forest"
      ],
      "metadata": {
        "id": "tYH-8fqpwitc"
      }
    },
    {
      "cell_type": "code",
      "source": [
        "RF = RandomForestRegressor(n_estimators=50, max_depth=8, random_state=55, n_jobs=-1)\n",
        "RF.fit(X_train, y_train)\n",
        "models.loc['train_mse','RandomForest'] = mean_squared_error(y_pred=RF.predict(X_train), y_true=y_train)"
      ],
      "metadata": {
        "id": "ZhVxjkRgwxST"
      },
      "execution_count": null,
      "outputs": []
    },
    {
      "cell_type": "markdown",
      "source": [
        "### AdaBoost"
      ],
      "metadata": {
        "id": "VG2UxoA8w_TA"
      }
    },
    {
      "cell_type": "code",
      "source": [
        "boosting = AdaBoostRegressor(learning_rate=0.1, random_state=55)                             \n",
        "boosting.fit(X_train, y_train)\n",
        "models.loc['train_mse','Boosting'] = mean_squared_error(y_pred=boosting.predict(X_train), y_true=y_train)"
      ],
      "metadata": {
        "id": "5g_7QAAww-Pf"
      },
      "execution_count": null,
      "outputs": []
    },
    {
      "cell_type": "markdown",
      "source": [
        "# Evaluation"
      ],
      "metadata": {
        "id": "wrtxrsZsxyFu"
      }
    },
    {
      "cell_type": "markdown",
      "source": [
        "> Langkah pertama adalah melakukan standarisasi pada data test"
      ],
      "metadata": {
        "id": "6hSaEin9x9Fy"
      }
    },
    {
      "cell_type": "code",
      "source": [
        "X_test.loc[:, numerical_features] = scaler.transform(X_test[numerical_features])"
      ],
      "metadata": {
        "id": "N8Z0Ys7AyCbr"
      },
      "execution_count": null,
      "outputs": []
    },
    {
      "cell_type": "markdown",
      "source": [
        "> Setelah ini, mari evaluasi ketiga model yang digunakan"
      ],
      "metadata": {
        "id": "RuuLLhP9yHij"
      }
    },
    {
      "cell_type": "code",
      "source": [
        "mse = pd.DataFrame(columns=['train', 'test'], index=['KNN','RF','Boosting'])\n",
        "model_dict = {'KNN': knn, 'RF': RF, 'Boosting': boosting}\n",
        "for name, model in model_dict.items():\n",
        "    mse.loc[name, 'train'] = mean_squared_error(y_true=y_train, y_pred=model.predict(X_train))/1e3\n",
        "    mse.loc[name, 'test'] = mean_squared_error(y_true=y_test, y_pred=model.predict(X_test))/1e3\n",
        " \n",
        "mse"
      ],
      "metadata": {
        "colab": {
          "base_uri": "https://localhost:8080/",
          "height": 143
        },
        "id": "SduvJDCOyQX4",
        "outputId": "18ccb566-26a4-422c-db83-ec2fbde41930"
      },
      "execution_count": null,
      "outputs": [
        {
          "output_type": "execute_result",
          "data": {
            "text/plain": [
              "                  train           test\n",
              "KNN       234205.149348  257399.825601\n",
              "RF        275190.638714  280240.814556\n",
              "Boosting  415770.739132  421141.019751"
            ],
            "text/html": [
              "\n",
              "  <div id=\"df-8783e750-46d5-4bcf-b22b-752c977568d2\">\n",
              "    <div class=\"colab-df-container\">\n",
              "      <div>\n",
              "<style scoped>\n",
              "    .dataframe tbody tr th:only-of-type {\n",
              "        vertical-align: middle;\n",
              "    }\n",
              "\n",
              "    .dataframe tbody tr th {\n",
              "        vertical-align: top;\n",
              "    }\n",
              "\n",
              "    .dataframe thead th {\n",
              "        text-align: right;\n",
              "    }\n",
              "</style>\n",
              "<table border=\"1\" class=\"dataframe\">\n",
              "  <thead>\n",
              "    <tr style=\"text-align: right;\">\n",
              "      <th></th>\n",
              "      <th>train</th>\n",
              "      <th>test</th>\n",
              "    </tr>\n",
              "  </thead>\n",
              "  <tbody>\n",
              "    <tr>\n",
              "      <th>KNN</th>\n",
              "      <td>234205.149348</td>\n",
              "      <td>257399.825601</td>\n",
              "    </tr>\n",
              "    <tr>\n",
              "      <th>RF</th>\n",
              "      <td>275190.638714</td>\n",
              "      <td>280240.814556</td>\n",
              "    </tr>\n",
              "    <tr>\n",
              "      <th>Boosting</th>\n",
              "      <td>415770.739132</td>\n",
              "      <td>421141.019751</td>\n",
              "    </tr>\n",
              "  </tbody>\n",
              "</table>\n",
              "</div>\n",
              "      <button class=\"colab-df-convert\" onclick=\"convertToInteractive('df-8783e750-46d5-4bcf-b22b-752c977568d2')\"\n",
              "              title=\"Convert this dataframe to an interactive table.\"\n",
              "              style=\"display:none;\">\n",
              "        \n",
              "  <svg xmlns=\"http://www.w3.org/2000/svg\" height=\"24px\"viewBox=\"0 0 24 24\"\n",
              "       width=\"24px\">\n",
              "    <path d=\"M0 0h24v24H0V0z\" fill=\"none\"/>\n",
              "    <path d=\"M18.56 5.44l.94 2.06.94-2.06 2.06-.94-2.06-.94-.94-2.06-.94 2.06-2.06.94zm-11 1L8.5 8.5l.94-2.06 2.06-.94-2.06-.94L8.5 2.5l-.94 2.06-2.06.94zm10 10l.94 2.06.94-2.06 2.06-.94-2.06-.94-.94-2.06-.94 2.06-2.06.94z\"/><path d=\"M17.41 7.96l-1.37-1.37c-.4-.4-.92-.59-1.43-.59-.52 0-1.04.2-1.43.59L10.3 9.45l-7.72 7.72c-.78.78-.78 2.05 0 2.83L4 21.41c.39.39.9.59 1.41.59.51 0 1.02-.2 1.41-.59l7.78-7.78 2.81-2.81c.8-.78.8-2.07 0-2.86zM5.41 20L4 18.59l7.72-7.72 1.47 1.35L5.41 20z\"/>\n",
              "  </svg>\n",
              "      </button>\n",
              "      \n",
              "  <style>\n",
              "    .colab-df-container {\n",
              "      display:flex;\n",
              "      flex-wrap:wrap;\n",
              "      gap: 12px;\n",
              "    }\n",
              "\n",
              "    .colab-df-convert {\n",
              "      background-color: #E8F0FE;\n",
              "      border: none;\n",
              "      border-radius: 50%;\n",
              "      cursor: pointer;\n",
              "      display: none;\n",
              "      fill: #1967D2;\n",
              "      height: 32px;\n",
              "      padding: 0 0 0 0;\n",
              "      width: 32px;\n",
              "    }\n",
              "\n",
              "    .colab-df-convert:hover {\n",
              "      background-color: #E2EBFA;\n",
              "      box-shadow: 0px 1px 2px rgba(60, 64, 67, 0.3), 0px 1px 3px 1px rgba(60, 64, 67, 0.15);\n",
              "      fill: #174EA6;\n",
              "    }\n",
              "\n",
              "    [theme=dark] .colab-df-convert {\n",
              "      background-color: #3B4455;\n",
              "      fill: #D2E3FC;\n",
              "    }\n",
              "\n",
              "    [theme=dark] .colab-df-convert:hover {\n",
              "      background-color: #434B5C;\n",
              "      box-shadow: 0px 1px 3px 1px rgba(0, 0, 0, 0.15);\n",
              "      filter: drop-shadow(0px 1px 2px rgba(0, 0, 0, 0.3));\n",
              "      fill: #FFFFFF;\n",
              "    }\n",
              "  </style>\n",
              "\n",
              "      <script>\n",
              "        const buttonEl =\n",
              "          document.querySelector('#df-8783e750-46d5-4bcf-b22b-752c977568d2 button.colab-df-convert');\n",
              "        buttonEl.style.display =\n",
              "          google.colab.kernel.accessAllowed ? 'block' : 'none';\n",
              "\n",
              "        async function convertToInteractive(key) {\n",
              "          const element = document.querySelector('#df-8783e750-46d5-4bcf-b22b-752c977568d2');\n",
              "          const dataTable =\n",
              "            await google.colab.kernel.invokeFunction('convertToInteractive',\n",
              "                                                     [key], {});\n",
              "          if (!dataTable) return;\n",
              "\n",
              "          const docLinkHtml = 'Like what you see? Visit the ' +\n",
              "            '<a target=\"_blank\" href=https://colab.research.google.com/notebooks/data_table.ipynb>data table notebook</a>'\n",
              "            + ' to learn more about interactive tables.';\n",
              "          element.innerHTML = '';\n",
              "          dataTable['output_type'] = 'display_data';\n",
              "          await google.colab.output.renderOutput(dataTable, element);\n",
              "          const docLink = document.createElement('div');\n",
              "          docLink.innerHTML = docLinkHtml;\n",
              "          element.appendChild(docLink);\n",
              "        }\n",
              "      </script>\n",
              "    </div>\n",
              "  </div>\n",
              "  "
            ]
          },
          "metadata": {},
          "execution_count": 92
        }
      ]
    },
    {
      "cell_type": "markdown",
      "source": [
        "> Visualisasi menggunakan barplot"
      ],
      "metadata": {
        "id": "saD9_3Uc0Rc_"
      }
    },
    {
      "cell_type": "code",
      "source": [
        "fig, ax = plt.subplots()\n",
        "mse.sort_values(by='test', ascending=False).plot(kind='barh', ax=ax, zorder=3)\n",
        "ax.grid(zorder=0)"
      ],
      "metadata": {
        "colab": {
          "base_uri": "https://localhost:8080/",
          "height": 265
        },
        "id": "WB6Sdmth0PTG",
        "outputId": "889c131a-1c67-42f7-c22f-7f75bed9c3a8"
      },
      "execution_count": null,
      "outputs": [
        {
          "output_type": "display_data",
          "data": {
            "text/plain": [
              "<Figure size 432x288 with 1 Axes>"
            ],
            "image/png": "[encoded data removed]"
          },
          "metadata": {
            "needs_background": "light"
          }
        }
      ]
    },
    {
      "cell_type": "markdown",
      "source": [
        "> Prediksi Model"
      ],
      "metadata": {
        "id": "NgAAVeL60uCD"
      }
    },
    {
      "cell_type": "code",
      "source": [
        "prediksi = X_test.iloc[:1].copy()\n",
        "pred_dict = {'y_true':y_test[:1]}\n",
        "for name, model in model_dict.items():\n",
        "    pred_dict['prediksi_'+name] = model.predict(prediksi).round(1)\n",
        " \n",
        "pd.DataFrame(pred_dict)"
      ],
      "metadata": {
        "colab": {
          "base_uri": "https://localhost:8080/",
          "height": 81
        },
        "id": "VhzkWpgl0ykz",
        "outputId": "9312e2d5-9e3c-4b11-f32e-c5b615c5ed5d"
      },
      "execution_count": null,
      "outputs": [
        {
          "output_type": "execute_result",
          "data": {
            "text/plain": [
              "       y_true  prediksi_KNN  prediksi_RF  prediksi_Boosting\n",
              "98991   19900       20073.3      25660.5            26287.5"
            ],
            "text/html": [
              "\n",
              "  <div id=\"df-9ff74183-90a4-4f24-9b19-7d5759f74104\">\n",
              "    <div class=\"colab-df-container\">\n",
              "      <div>\n",
              "<style scoped>\n",
              "    .dataframe tbody tr th:only-of-type {\n",
              "        vertical-align: middle;\n",
              "    }\n",
              "\n",
              "    .dataframe tbody tr th {\n",
              "        vertical-align: top;\n",
              "    }\n",
              "\n",
              "    .dataframe thead th {\n",
              "        text-align: right;\n",
              "    }\n",
              "</style>\n",
              "<table border=\"1\" class=\"dataframe\">\n",
              "  <thead>\n",
              "    <tr style=\"text-align: right;\">\n",
              "      <th></th>\n",
              "      <th>y_true</th>\n",
              "      <th>prediksi_KNN</th>\n",
              "      <th>prediksi_RF</th>\n",
              "      <th>prediksi_Boosting</th>\n",
              "    </tr>\n",
              "  </thead>\n",
              "  <tbody>\n",
              "    <tr>\n",
              "      <th>98991</th>\n",
              "      <td>19900</td>\n",
              "      <td>20073.3</td>\n",
              "      <td>25660.5</td>\n",
              "      <td>26287.5</td>\n",
              "    </tr>\n",
              "  </tbody>\n",
              "</table>\n",
              "</div>\n",
              "      <button class=\"colab-df-convert\" onclick=\"convertToInteractive('df-9ff74183-90a4-4f24-9b19-7d5759f74104')\"\n",
              "              title=\"Convert this dataframe to an interactive table.\"\n",
              "              style=\"display:none;\">\n",
              "        \n",
              "  <svg xmlns=\"http://www.w3.org/2000/svg\" height=\"24px\"viewBox=\"0 0 24 24\"\n",
              "       width=\"24px\">\n",
              "    <path d=\"M0 0h24v24H0V0z\" fill=\"none\"/>\n",
              "    <path d=\"M18.56 5.44l.94 2.06.94-2.06 2.06-.94-2.06-.94-.94-2.06-.94 2.06-2.06.94zm-11 1L8.5 8.5l.94-2.06 2.06-.94-2.06-.94L8.5 2.5l-.94 2.06-2.06.94zm10 10l.94 2.06.94-2.06 2.06-.94-2.06-.94-.94-2.06-.94 2.06-2.06.94z\"/><path d=\"M17.41 7.96l-1.37-1.37c-.4-.4-.92-.59-1.43-.59-.52 0-1.04.2-1.43.59L10.3 9.45l-7.72 7.72c-.78.78-.78 2.05 0 2.83L4 21.41c.39.39.9.59 1.41.59.51 0 1.02-.2 1.41-.59l7.78-7.78 2.81-2.81c.8-.78.8-2.07 0-2.86zM5.41 20L4 18.59l7.72-7.72 1.47 1.35L5.41 20z\"/>\n",
              "  </svg>\n",
              "      </button>\n",
              "      \n",
              "  <style>\n",
              "    .colab-df-container {\n",
              "      display:flex;\n",
              "      flex-wrap:wrap;\n",
              "      gap: 12px;\n",
              "    }\n",
              "\n",
              "    .colab-df-convert {\n",
              "      background-color: #E8F0FE;\n",
              "      border: none;\n",
              "      border-radius: 50%;\n",
              "      cursor: pointer;\n",
              "      display: none;\n",
              "      fill: #1967D2;\n",
              "      height: 32px;\n",
              "      padding: 0 0 0 0;\n",
              "      width: 32px;\n",
              "    }\n",
              "\n",
              "    .colab-df-convert:hover {\n",
              "      background-color: #E2EBFA;\n",
              "      box-shadow: 0px 1px 2px rgba(60, 64, 67, 0.3), 0px 1px 3px 1px rgba(60, 64, 67, 0.15);\n",
              "      fill: #174EA6;\n",
              "    }\n",
              "\n",
              "    [theme=dark] .colab-df-convert {\n",
              "      background-color: #3B4455;\n",
              "      fill: #D2E3FC;\n",
              "    }\n",
              "\n",
              "    [theme=dark] .colab-df-convert:hover {\n",
              "      background-color: #434B5C;\n",
              "      box-shadow: 0px 1px 3px 1px rgba(0, 0, 0, 0.15);\n",
              "      filter: drop-shadow(0px 1px 2px rgba(0, 0, 0, 0.3));\n",
              "      fill: #FFFFFF;\n",
              "    }\n",
              "  </style>\n",
              "\n",
              "      <script>\n",
              "        const buttonEl =\n",
              "          document.querySelector('#df-9ff74183-90a4-4f24-9b19-7d5759f74104 button.colab-df-convert');\n",
              "        buttonEl.style.display =\n",
              "          google.colab.kernel.accessAllowed ? 'block' : 'none';\n",
              "\n",
              "        async function convertToInteractive(key) {\n",
              "          const element = document.querySelector('#df-9ff74183-90a4-4f24-9b19-7d5759f74104');\n",
              "          const dataTable =\n",
              "            await google.colab.kernel.invokeFunction('convertToInteractive',\n",
              "                                                     [key], {});\n",
              "          if (!dataTable) return;\n",
              "\n",
              "          const docLinkHtml = 'Like what you see? Visit the ' +\n",
              "            '<a target=\"_blank\" href=https://colab.research.google.com/notebooks/data_table.ipynb>data table notebook</a>'\n",
              "            + ' to learn more about interactive tables.';\n",
              "          element.innerHTML = '';\n",
              "          dataTable['output_type'] = 'display_data';\n",
              "          await google.colab.output.renderOutput(dataTable, element);\n",
              "          const docLink = document.createElement('div');\n",
              "          docLink.innerHTML = docLinkHtml;\n",
              "          element.appendChild(docLink);\n",
              "        }\n",
              "      </script>\n",
              "    </div>\n",
              "  </div>\n",
              "  "
            ]
          },
          "metadata": {},
          "execution_count": 95
        }
      ]
    }
  ]
}